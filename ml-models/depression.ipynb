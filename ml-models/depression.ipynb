{
 "cells": [
  {
   "cell_type": "markdown",
   "id": "32eeb359",
   "metadata": {
    "papermill": {
     "duration": 0.020974,
     "end_time": "2023-07-08T15:03:19.527765",
     "exception": false,
     "start_time": "2023-07-08T15:03:19.506791",
     "status": "completed"
    },
    "tags": []
   },
   "source": [
    "# Модель для предсказания наличия/отсутствия depression\n",
    " \n"
   ]
  },
  {
   "cell_type": "code",
   "execution_count": 26,
   "id": "56dad314",
   "metadata": {
    "execution": {
     "iopub.execute_input": "2023-07-08T15:03:19.606757Z",
     "iopub.status.busy": "2023-07-08T15:03:19.606170Z",
     "iopub.status.idle": "2023-07-08T15:03:20.831593Z",
     "shell.execute_reply": "2023-07-08T15:03:20.830195Z"
    },
    "papermill": {
     "duration": 1.249455,
     "end_time": "2023-07-08T15:03:20.834653",
     "exception": false,
     "start_time": "2023-07-08T15:03:19.585198",
     "status": "completed"
    },
    "tags": []
   },
   "outputs": [],
   "source": [
    "import numpy as np\n",
    "import pandas as pd\n",
    "from sklearn import preprocessing\n",
    "import warnings\n",
    "warnings.filterwarnings('ignore')"
   ]
  },
  {
   "cell_type": "code",
   "execution_count": 27,
   "id": "f41e1a56",
   "metadata": {
    "execution": {
     "iopub.execute_input": "2023-07-08T15:03:20.970580Z",
     "iopub.status.busy": "2023-07-08T15:03:20.970093Z",
     "iopub.status.idle": "2023-07-08T15:03:21.000189Z",
     "shell.execute_reply": "2023-07-08T15:03:20.998750Z"
    },
    "papermill": {
     "duration": 0.053476,
     "end_time": "2023-07-08T15:03:21.003590",
     "exception": false,
     "start_time": "2023-07-08T15:03:20.950114",
     "status": "completed"
    },
    "tags": []
   },
   "outputs": [],
   "source": [
    "import kagglehub\n",
    "\n",
    "# Download latest version\n",
    "path = kagglehub.dataset_download(\"soumitradas1/mental-health-prediction-using-wearable-dataset\")\n",
    "\n",
    "df = pd.read_csv(path+'/mental_health_wearable_data.csv')\n",
    "df = df.drop(columns=['Mood_Rating'])"
   ]
  },
  {
   "cell_type": "code",
   "execution_count": 28,
   "id": "fd500220",
   "metadata": {
    "execution": {
     "iopub.execute_input": "2023-07-08T15:03:21.088875Z",
     "iopub.status.busy": "2023-07-08T15:03:21.087978Z",
     "iopub.status.idle": "2023-07-08T15:03:21.139011Z",
     "shell.execute_reply": "2023-07-08T15:03:21.136648Z"
    },
    "papermill": {
     "duration": 0.077972,
     "end_time": "2023-07-08T15:03:21.143184",
     "exception": false,
     "start_time": "2023-07-08T15:03:21.065212",
     "status": "completed"
    },
    "tags": []
   },
   "outputs": [
    {
     "data": {
      "application/vnd.microsoft.datawrangler.viewer.v0+json": {
       "columns": [
        {
         "name": "index",
         "rawType": "int64",
         "type": "integer"
        },
        {
         "name": "Heart_Rate_BPM",
         "rawType": "int64",
         "type": "integer"
        },
        {
         "name": "Sleep_Duration_Hours",
         "rawType": "float64",
         "type": "float"
        },
        {
         "name": "Physical_Activity_Steps",
         "rawType": "int64",
         "type": "integer"
        },
        {
         "name": "Mental_Health_Condition",
         "rawType": "int64",
         "type": "integer"
        }
       ],
       "ref": "7ec81fec-fa19-4a2e-a8ab-7033e1528ab9",
       "rows": [
        [
         "0",
         "98",
         "7.425123617672569",
         "13760",
         "1"
        ],
        [
         "1",
         "111",
         "9.457572346665666",
         "11455",
         "0"
        ],
        [
         "2",
         "88",
         "4.03710293584538",
         "9174",
         "1"
        ],
        [
         "3",
         "74",
         "8.864101422025552",
         "12612",
         "1"
        ],
        [
         "4",
         "102",
         "9.690217316733513",
         "3923",
         "0"
        ],
        [
         "5",
         "67",
         "4.547954406001343",
         "12446",
         "1"
        ],
        [
         "6",
         "80",
         "4.968686116197526",
         "4239",
         "1"
        ],
        [
         "7",
         "98",
         "9.764477816628132",
         "4865",
         "0"
        ],
        [
         "8",
         "117",
         "7.225240861842078",
         "9229",
         "0"
        ],
        [
         "9",
         "78",
         "4.085179806830342",
         "10890",
         "1"
        ],
        [
         "10",
         "82",
         "5.545791992581175",
         "5566",
         "1"
        ],
        [
         "11",
         "70",
         "6.699662045613158",
         "7595",
         "1"
        ],
        [
         "12",
         "70",
         "8.157453466148606",
         "13218",
         "1"
        ],
        [
         "13",
         "83",
         "8.398962268820798",
         "6609",
         "1"
        ],
        [
         "14",
         "112",
         "9.972529077552736",
         "4213",
         "0"
        ],
        [
         "15",
         "95",
         "5.725067196302554",
         "6108",
         "1"
        ],
        [
         "16",
         "99",
         "7.229320611210851",
         "2783",
         "0"
        ],
        [
         "17",
         "83",
         "7.19994128715763",
         "11158",
         "0"
        ],
        [
         "18",
         "62",
         "6.433871556683425",
         "9294",
         "1"
        ],
        [
         "19",
         "81",
         "5.014971363054521",
         "6830",
         "1"
        ],
        [
         "20",
         "112",
         "9.864739379103057",
         "6831",
         "0"
        ],
        [
         "21",
         "61",
         "9.119903119999517",
         "1041",
         "0"
        ],
        [
         "22",
         "83",
         "6.989998169765423",
         "12186",
         "1"
        ],
        [
         "23",
         "103",
         "7.619472536104179",
         "12410",
         "1"
        ],
        [
         "24",
         "89",
         "5.363566321357974",
         "7209",
         "1"
        ],
        [
         "25",
         "97",
         "7.262722422350482",
         "12182",
         "1"
        ],
        [
         "26",
         "61",
         "8.169820798728855",
         "13480",
         "1"
        ],
        [
         "27",
         "119",
         "7.091002170319532",
         "12561",
         "1"
        ],
        [
         "28",
         "80",
         "9.941711023509647",
         "2061",
         "1"
        ],
        [
         "29",
         "92",
         "7.668049937486357",
         "11741",
         "0"
        ],
        [
         "30",
         "71",
         "6.225842275553014",
         "10868",
         "1"
        ],
        [
         "31",
         "117",
         "8.632912165695029",
         "4689",
         "1"
        ],
        [
         "32",
         "81",
         "5.022775069489852",
         "8595",
         "1"
        ],
        [
         "33",
         "103",
         "6.3070948822376",
         "7807",
         "0"
        ],
        [
         "34",
         "84",
         "6.081753702265515",
         "4997",
         "1"
        ],
        [
         "35",
         "108",
         "6.590842570646664",
         "1325",
         "0"
        ],
        [
         "36",
         "86",
         "8.690678955572357",
         "8205",
         "0"
        ],
        [
         "37",
         "118",
         "6.905038192980445",
         "2120",
         "0"
        ],
        [
         "38",
         "101",
         "8.764086701595776",
         "1107",
         "0"
        ],
        [
         "39",
         "87",
         "7.458933418839195",
         "11870",
         "1"
        ],
        [
         "40",
         "119",
         "6.052416607945332",
         "7294",
         "0"
        ],
        [
         "41",
         "75",
         "8.859872462100835",
         "6193",
         "0"
        ],
        [
         "42",
         "74",
         "5.429738023318549",
         "8224",
         "1"
        ],
        [
         "43",
         "106",
         "5.346297878798773",
         "9526",
         "1"
        ],
        [
         "44",
         "110",
         "7.027017544329015",
         "3039",
         "1"
        ],
        [
         "45",
         "103",
         "5.565095475772534",
         "1803",
         "1"
        ],
        [
         "46",
         "114",
         "4.054522209707298",
         "11040",
         "0"
        ],
        [
         "47",
         "111",
         "7.889785163792809",
         "1766",
         "0"
        ],
        [
         "48",
         "116",
         "7.066562928834388",
         "14565",
         "1"
        ],
        [
         "49",
         "62",
         "6.673106886958967",
         "14696",
         "0"
        ]
       ],
       "shape": {
        "columns": 4,
        "rows": 10000
       }
      },
      "text/html": [
       "<div>\n",
       "<style scoped>\n",
       "    .dataframe tbody tr th:only-of-type {\n",
       "        vertical-align: middle;\n",
       "    }\n",
       "\n",
       "    .dataframe tbody tr th {\n",
       "        vertical-align: top;\n",
       "    }\n",
       "\n",
       "    .dataframe thead th {\n",
       "        text-align: right;\n",
       "    }\n",
       "</style>\n",
       "<table border=\"1\" class=\"dataframe\">\n",
       "  <thead>\n",
       "    <tr style=\"text-align: right;\">\n",
       "      <th></th>\n",
       "      <th>Heart_Rate_BPM</th>\n",
       "      <th>Sleep_Duration_Hours</th>\n",
       "      <th>Physical_Activity_Steps</th>\n",
       "      <th>Mental_Health_Condition</th>\n",
       "    </tr>\n",
       "  </thead>\n",
       "  <tbody>\n",
       "    <tr>\n",
       "      <th>0</th>\n",
       "      <td>98</td>\n",
       "      <td>7.425124</td>\n",
       "      <td>13760</td>\n",
       "      <td>1</td>\n",
       "    </tr>\n",
       "    <tr>\n",
       "      <th>1</th>\n",
       "      <td>111</td>\n",
       "      <td>9.457572</td>\n",
       "      <td>11455</td>\n",
       "      <td>0</td>\n",
       "    </tr>\n",
       "    <tr>\n",
       "      <th>2</th>\n",
       "      <td>88</td>\n",
       "      <td>4.037103</td>\n",
       "      <td>9174</td>\n",
       "      <td>1</td>\n",
       "    </tr>\n",
       "    <tr>\n",
       "      <th>3</th>\n",
       "      <td>74</td>\n",
       "      <td>8.864101</td>\n",
       "      <td>12612</td>\n",
       "      <td>1</td>\n",
       "    </tr>\n",
       "    <tr>\n",
       "      <th>4</th>\n",
       "      <td>102</td>\n",
       "      <td>9.690217</td>\n",
       "      <td>3923</td>\n",
       "      <td>0</td>\n",
       "    </tr>\n",
       "    <tr>\n",
       "      <th>...</th>\n",
       "      <td>...</td>\n",
       "      <td>...</td>\n",
       "      <td>...</td>\n",
       "      <td>...</td>\n",
       "    </tr>\n",
       "    <tr>\n",
       "      <th>9995</th>\n",
       "      <td>107</td>\n",
       "      <td>7.517607</td>\n",
       "      <td>11087</td>\n",
       "      <td>1</td>\n",
       "    </tr>\n",
       "    <tr>\n",
       "      <th>9996</th>\n",
       "      <td>82</td>\n",
       "      <td>8.195159</td>\n",
       "      <td>4579</td>\n",
       "      <td>0</td>\n",
       "    </tr>\n",
       "    <tr>\n",
       "      <th>9997</th>\n",
       "      <td>65</td>\n",
       "      <td>7.151055</td>\n",
       "      <td>11825</td>\n",
       "      <td>0</td>\n",
       "    </tr>\n",
       "    <tr>\n",
       "      <th>9998</th>\n",
       "      <td>110</td>\n",
       "      <td>9.008428</td>\n",
       "      <td>14175</td>\n",
       "      <td>1</td>\n",
       "    </tr>\n",
       "    <tr>\n",
       "      <th>9999</th>\n",
       "      <td>112</td>\n",
       "      <td>4.198801</td>\n",
       "      <td>3379</td>\n",
       "      <td>0</td>\n",
       "    </tr>\n",
       "  </tbody>\n",
       "</table>\n",
       "<p>10000 rows × 4 columns</p>\n",
       "</div>"
      ],
      "text/plain": [
       "      Heart_Rate_BPM  Sleep_Duration_Hours  Physical_Activity_Steps  \\\n",
       "0                 98              7.425124                    13760   \n",
       "1                111              9.457572                    11455   \n",
       "2                 88              4.037103                     9174   \n",
       "3                 74              8.864101                    12612   \n",
       "4                102              9.690217                     3923   \n",
       "...              ...                   ...                      ...   \n",
       "9995             107              7.517607                    11087   \n",
       "9996              82              8.195159                     4579   \n",
       "9997              65              7.151055                    11825   \n",
       "9998             110              9.008428                    14175   \n",
       "9999             112              4.198801                     3379   \n",
       "\n",
       "      Mental_Health_Condition  \n",
       "0                           1  \n",
       "1                           0  \n",
       "2                           1  \n",
       "3                           1  \n",
       "4                           0  \n",
       "...                       ...  \n",
       "9995                        1  \n",
       "9996                        0  \n",
       "9997                        0  \n",
       "9998                        1  \n",
       "9999                        0  \n",
       "\n",
       "[10000 rows x 4 columns]"
      ]
     },
     "execution_count": 28,
     "metadata": {},
     "output_type": "execute_result"
    }
   ],
   "source": [
    "df"
   ]
  },
  {
   "cell_type": "code",
   "execution_count": 29,
   "id": "1158f1ee",
   "metadata": {
    "execution": {
     "iopub.execute_input": "2023-07-08T15:03:21.377309Z",
     "iopub.status.busy": "2023-07-08T15:03:21.376873Z",
     "iopub.status.idle": "2023-07-08T15:03:21.426250Z",
     "shell.execute_reply": "2023-07-08T15:03:21.425228Z"
    },
    "papermill": {
     "duration": 0.074762,
     "end_time": "2023-07-08T15:03:21.429572",
     "exception": false,
     "start_time": "2023-07-08T15:03:21.354810",
     "status": "completed"
    },
    "tags": []
   },
   "outputs": [
    {
     "data": {
      "application/vnd.microsoft.datawrangler.viewer.v0+json": {
       "columns": [
        {
         "name": "index",
         "rawType": "object",
         "type": "string"
        },
        {
         "name": "Heart_Rate_BPM",
         "rawType": "float64",
         "type": "float"
        },
        {
         "name": "Sleep_Duration_Hours",
         "rawType": "float64",
         "type": "float"
        },
        {
         "name": "Physical_Activity_Steps",
         "rawType": "float64",
         "type": "float"
        },
        {
         "name": "Mental_Health_Condition",
         "rawType": "float64",
         "type": "float"
        }
       ],
       "ref": "6fbb9882-f84a-4467-b3dc-1c0977e5046c",
       "rows": [
        [
         "count",
         "10000.0",
         "10000.0",
         "10000.0",
         "10000.0"
        ],
        [
         "mean",
         "89.822",
         "6.97849458278042",
         "8061.812",
         "0.5157"
        ],
        [
         "std",
         "17.309144307205507",
         "1.7308344239445652",
         "4067.1181197791666",
         "0.4997784387594016"
        ],
        [
         "min",
         "60.0",
         "4.00031696159378",
         "1000.0",
         "0.0"
        ],
        [
         "25%",
         "75.0",
         "5.474809109880418",
         "4468.75",
         "0.0"
        ],
        [
         "50%",
         "90.0",
         "6.951605219945458",
         "8116.0",
         "1.0"
        ],
        [
         "75%",
         "105.0",
         "8.492401249347239",
         "11617.25",
         "1.0"
        ],
        [
         "max",
         "119.0",
         "9.998830864802809",
         "14998.0",
         "1.0"
        ]
       ],
       "shape": {
        "columns": 4,
        "rows": 8
       }
      },
      "text/html": [
       "<div>\n",
       "<style scoped>\n",
       "    .dataframe tbody tr th:only-of-type {\n",
       "        vertical-align: middle;\n",
       "    }\n",
       "\n",
       "    .dataframe tbody tr th {\n",
       "        vertical-align: top;\n",
       "    }\n",
       "\n",
       "    .dataframe thead th {\n",
       "        text-align: right;\n",
       "    }\n",
       "</style>\n",
       "<table border=\"1\" class=\"dataframe\">\n",
       "  <thead>\n",
       "    <tr style=\"text-align: right;\">\n",
       "      <th></th>\n",
       "      <th>Heart_Rate_BPM</th>\n",
       "      <th>Sleep_Duration_Hours</th>\n",
       "      <th>Physical_Activity_Steps</th>\n",
       "      <th>Mental_Health_Condition</th>\n",
       "    </tr>\n",
       "  </thead>\n",
       "  <tbody>\n",
       "    <tr>\n",
       "      <th>count</th>\n",
       "      <td>10000.000000</td>\n",
       "      <td>10000.000000</td>\n",
       "      <td>10000.00000</td>\n",
       "      <td>10000.000000</td>\n",
       "    </tr>\n",
       "    <tr>\n",
       "      <th>mean</th>\n",
       "      <td>89.822000</td>\n",
       "      <td>6.978495</td>\n",
       "      <td>8061.81200</td>\n",
       "      <td>0.515700</td>\n",
       "    </tr>\n",
       "    <tr>\n",
       "      <th>std</th>\n",
       "      <td>17.309144</td>\n",
       "      <td>1.730834</td>\n",
       "      <td>4067.11812</td>\n",
       "      <td>0.499778</td>\n",
       "    </tr>\n",
       "    <tr>\n",
       "      <th>min</th>\n",
       "      <td>60.000000</td>\n",
       "      <td>4.000317</td>\n",
       "      <td>1000.00000</td>\n",
       "      <td>0.000000</td>\n",
       "    </tr>\n",
       "    <tr>\n",
       "      <th>25%</th>\n",
       "      <td>75.000000</td>\n",
       "      <td>5.474809</td>\n",
       "      <td>4468.75000</td>\n",
       "      <td>0.000000</td>\n",
       "    </tr>\n",
       "    <tr>\n",
       "      <th>50%</th>\n",
       "      <td>90.000000</td>\n",
       "      <td>6.951605</td>\n",
       "      <td>8116.00000</td>\n",
       "      <td>1.000000</td>\n",
       "    </tr>\n",
       "    <tr>\n",
       "      <th>75%</th>\n",
       "      <td>105.000000</td>\n",
       "      <td>8.492401</td>\n",
       "      <td>11617.25000</td>\n",
       "      <td>1.000000</td>\n",
       "    </tr>\n",
       "    <tr>\n",
       "      <th>max</th>\n",
       "      <td>119.000000</td>\n",
       "      <td>9.998831</td>\n",
       "      <td>14998.00000</td>\n",
       "      <td>1.000000</td>\n",
       "    </tr>\n",
       "  </tbody>\n",
       "</table>\n",
       "</div>"
      ],
      "text/plain": [
       "       Heart_Rate_BPM  Sleep_Duration_Hours  Physical_Activity_Steps  \\\n",
       "count    10000.000000          10000.000000              10000.00000   \n",
       "mean        89.822000              6.978495               8061.81200   \n",
       "std         17.309144              1.730834               4067.11812   \n",
       "min         60.000000              4.000317               1000.00000   \n",
       "25%         75.000000              5.474809               4468.75000   \n",
       "50%         90.000000              6.951605               8116.00000   \n",
       "75%        105.000000              8.492401              11617.25000   \n",
       "max        119.000000              9.998831              14998.00000   \n",
       "\n",
       "       Mental_Health_Condition  \n",
       "count             10000.000000  \n",
       "mean                  0.515700  \n",
       "std                   0.499778  \n",
       "min                   0.000000  \n",
       "25%                   0.000000  \n",
       "50%                   1.000000  \n",
       "75%                   1.000000  \n",
       "max                   1.000000  "
      ]
     },
     "execution_count": 29,
     "metadata": {},
     "output_type": "execute_result"
    }
   ],
   "source": [
    "df.describe()"
   ]
  },
  {
   "cell_type": "code",
   "execution_count": 30,
   "id": "477c881a",
   "metadata": {
    "execution": {
     "iopub.execute_input": "2023-07-08T15:03:22.051612Z",
     "iopub.status.busy": "2023-07-08T15:03:22.050778Z",
     "iopub.status.idle": "2023-07-08T15:03:23.791282Z",
     "shell.execute_reply": "2023-07-08T15:03:23.789370Z"
    },
    "papermill": {
     "duration": 1.767761,
     "end_time": "2023-07-08T15:03:23.794589",
     "exception": false,
     "start_time": "2023-07-08T15:03:22.026828",
     "status": "completed"
    },
    "tags": []
   },
   "outputs": [],
   "source": [
    "# physical_activity_level_encoder = preprocessing.LabelEncoder()\n",
    "# hypertension_encoder = preprocessing.LabelEncoder()\n",
    "# gender_encoder = preprocessing.LabelEncoder()\n",
    "# country_encoder = preprocessing.LabelEncoder()\n",
    "\n",
    "\n",
    "# df['Physical_Activity_Level'] = physical_activity_level_encoder.fit_transform(df['Physical_Activity_Level'])\n",
    "# df['Hypertension'] = hypertension_encoder.fit_transform(df['Hypertension'])\n",
    "# df['Gender'] = gender_encoder.fit_transform(df['Gender'])\n",
    "# df['Country'] = country_encoder.fit_transform(df['Country'])\n",
    "\n",
    "# df.head()\n",
    "\n"
   ]
  },
  {
   "cell_type": "code",
   "execution_count": 31,
   "id": "5414f1dd",
   "metadata": {
    "execution": {
     "iopub.execute_input": "2023-07-08T15:03:23.840017Z",
     "iopub.status.busy": "2023-07-08T15:03:23.839602Z",
     "iopub.status.idle": "2023-07-08T15:03:23.861060Z",
     "shell.execute_reply": "2023-07-08T15:03:23.860025Z"
    },
    "papermill": {
     "duration": 0.048144,
     "end_time": "2023-07-08T15:03:23.864085",
     "exception": false,
     "start_time": "2023-07-08T15:03:23.815941",
     "status": "completed"
    },
    "tags": []
   },
   "outputs": [],
   "source": [
    "# # Outlier Removal\n",
    "# num_col = ['Age', 'BMI', 'Sleep_Duration',\n",
    "#            'Heart_Rate']\n",
    "\n",
    "# Q1 = df[num_col].quantile(0.25)\n",
    "# Q3 = df[num_col].quantile(0.75)\n",
    "# IQR = Q3 - Q1\n",
    "\n",
    "# df = df[~((df[num_col] < (Q1 - 1.5 * IQR)) | (df[num_col] > (Q3 + 1.5 * IQR))).any(axis=1)]\n"
   ]
  },
  {
   "cell_type": "markdown",
   "id": "16a8f932",
   "metadata": {
    "papermill": {
     "duration": 0.029025,
     "end_time": "2023-07-08T15:03:29.450891",
     "exception": false,
     "start_time": "2023-07-08T15:03:29.421866",
     "status": "completed"
    },
    "tags": []
   },
   "source": [
    "# Prediction time!"
   ]
  },
  {
   "cell_type": "code",
   "execution_count": 32,
   "id": "78538dbf",
   "metadata": {
    "execution": {
     "iopub.execute_input": "2023-07-08T15:03:29.522089Z",
     "iopub.status.busy": "2023-07-08T15:03:29.520248Z",
     "iopub.status.idle": "2023-07-08T15:03:30.312505Z",
     "shell.execute_reply": "2023-07-08T15:03:30.310229Z"
    },
    "papermill": {
     "duration": 0.836963,
     "end_time": "2023-07-08T15:03:30.317255",
     "exception": false,
     "start_time": "2023-07-08T15:03:29.480292",
     "status": "completed"
    },
    "tags": []
   },
   "outputs": [],
   "source": [
    "from sklearn.model_selection import train_test_split"
   ]
  },
  {
   "cell_type": "markdown",
   "id": "e31607f5",
   "metadata": {
    "papermill": {
     "duration": 0.02986,
     "end_time": "2023-07-08T15:03:30.373965",
     "exception": false,
     "start_time": "2023-07-08T15:03:30.344105",
     "status": "completed"
    },
    "tags": []
   },
   "source": [
    "# Prepare the data"
   ]
  },
  {
   "cell_type": "code",
   "execution_count": 33,
   "id": "882a1233",
   "metadata": {
    "execution": {
     "iopub.execute_input": "2023-07-08T15:03:30.434620Z",
     "iopub.status.busy": "2023-07-08T15:03:30.433648Z",
     "iopub.status.idle": "2023-07-08T15:03:30.442584Z",
     "shell.execute_reply": "2023-07-08T15:03:30.440903Z"
    },
    "papermill": {
     "duration": 0.042619,
     "end_time": "2023-07-08T15:03:30.445928",
     "exception": false,
     "start_time": "2023-07-08T15:03:30.403309",
     "status": "completed"
    },
    "tags": []
   },
   "outputs": [],
   "source": [
    "# Prepare the data\n",
    "X = df.drop(['Mental_Health_Condition'], axis=1)\n",
    "y = df['Mental_Health_Condition']"
   ]
  },
  {
   "cell_type": "markdown",
   "id": "0cc5cdfc",
   "metadata": {
    "papermill": {
     "duration": 0.029437,
     "end_time": "2023-07-08T15:03:30.578935",
     "exception": false,
     "start_time": "2023-07-08T15:03:30.549498",
     "status": "completed"
    },
    "tags": []
   },
   "source": [
    "# Split the data into train and test sets"
   ]
  },
  {
   "cell_type": "code",
   "execution_count": 34,
   "id": "1f2f9a85",
   "metadata": {},
   "outputs": [
    {
     "data": {
      "application/vnd.microsoft.datawrangler.viewer.v0+json": {
       "columns": [
        {
         "name": "index",
         "rawType": "int64",
         "type": "integer"
        },
        {
         "name": "Heart_Rate_BPM",
         "rawType": "int64",
         "type": "integer"
        },
        {
         "name": "Sleep_Duration_Hours",
         "rawType": "float64",
         "type": "float"
        },
        {
         "name": "Physical_Activity_Steps",
         "rawType": "int64",
         "type": "integer"
        }
       ],
       "ref": "d436e530-4355-4e0f-82f8-cd78f99021c7",
       "rows": [
        [
         "0",
         "98",
         "7.425123617672569",
         "13760"
        ],
        [
         "1",
         "111",
         "9.457572346665666",
         "11455"
        ],
        [
         "2",
         "88",
         "4.03710293584538",
         "9174"
        ],
        [
         "3",
         "74",
         "8.864101422025552",
         "12612"
        ],
        [
         "4",
         "102",
         "9.690217316733513",
         "3923"
        ],
        [
         "5",
         "67",
         "4.547954406001343",
         "12446"
        ],
        [
         "6",
         "80",
         "4.968686116197526",
         "4239"
        ],
        [
         "7",
         "98",
         "9.764477816628132",
         "4865"
        ],
        [
         "8",
         "117",
         "7.225240861842078",
         "9229"
        ],
        [
         "9",
         "78",
         "4.085179806830342",
         "10890"
        ],
        [
         "10",
         "82",
         "5.545791992581175",
         "5566"
        ],
        [
         "11",
         "70",
         "6.699662045613158",
         "7595"
        ],
        [
         "12",
         "70",
         "8.157453466148606",
         "13218"
        ],
        [
         "13",
         "83",
         "8.398962268820798",
         "6609"
        ],
        [
         "14",
         "112",
         "9.972529077552736",
         "4213"
        ],
        [
         "15",
         "95",
         "5.725067196302554",
         "6108"
        ],
        [
         "16",
         "99",
         "7.229320611210851",
         "2783"
        ],
        [
         "17",
         "83",
         "7.19994128715763",
         "11158"
        ],
        [
         "18",
         "62",
         "6.433871556683425",
         "9294"
        ],
        [
         "19",
         "81",
         "5.014971363054521",
         "6830"
        ],
        [
         "20",
         "112",
         "9.864739379103057",
         "6831"
        ],
        [
         "21",
         "61",
         "9.119903119999517",
         "1041"
        ],
        [
         "22",
         "83",
         "6.989998169765423",
         "12186"
        ],
        [
         "23",
         "103",
         "7.619472536104179",
         "12410"
        ],
        [
         "24",
         "89",
         "5.363566321357974",
         "7209"
        ],
        [
         "25",
         "97",
         "7.262722422350482",
         "12182"
        ],
        [
         "26",
         "61",
         "8.169820798728855",
         "13480"
        ],
        [
         "27",
         "119",
         "7.091002170319532",
         "12561"
        ],
        [
         "28",
         "80",
         "9.941711023509647",
         "2061"
        ],
        [
         "29",
         "92",
         "7.668049937486357",
         "11741"
        ],
        [
         "30",
         "71",
         "6.225842275553014",
         "10868"
        ],
        [
         "31",
         "117",
         "8.632912165695029",
         "4689"
        ],
        [
         "32",
         "81",
         "5.022775069489852",
         "8595"
        ],
        [
         "33",
         "103",
         "6.3070948822376",
         "7807"
        ],
        [
         "34",
         "84",
         "6.081753702265515",
         "4997"
        ],
        [
         "35",
         "108",
         "6.590842570646664",
         "1325"
        ],
        [
         "36",
         "86",
         "8.690678955572357",
         "8205"
        ],
        [
         "37",
         "118",
         "6.905038192980445",
         "2120"
        ],
        [
         "38",
         "101",
         "8.764086701595776",
         "1107"
        ],
        [
         "39",
         "87",
         "7.458933418839195",
         "11870"
        ],
        [
         "40",
         "119",
         "6.052416607945332",
         "7294"
        ],
        [
         "41",
         "75",
         "8.859872462100835",
         "6193"
        ],
        [
         "42",
         "74",
         "5.429738023318549",
         "8224"
        ],
        [
         "43",
         "106",
         "5.346297878798773",
         "9526"
        ],
        [
         "44",
         "110",
         "7.027017544329015",
         "3039"
        ],
        [
         "45",
         "103",
         "5.565095475772534",
         "1803"
        ],
        [
         "46",
         "114",
         "4.054522209707298",
         "11040"
        ],
        [
         "47",
         "111",
         "7.889785163792809",
         "1766"
        ],
        [
         "48",
         "116",
         "7.066562928834388",
         "14565"
        ],
        [
         "49",
         "62",
         "6.673106886958967",
         "14696"
        ]
       ],
       "shape": {
        "columns": 3,
        "rows": 10000
       }
      },
      "text/html": [
       "<div>\n",
       "<style scoped>\n",
       "    .dataframe tbody tr th:only-of-type {\n",
       "        vertical-align: middle;\n",
       "    }\n",
       "\n",
       "    .dataframe tbody tr th {\n",
       "        vertical-align: top;\n",
       "    }\n",
       "\n",
       "    .dataframe thead th {\n",
       "        text-align: right;\n",
       "    }\n",
       "</style>\n",
       "<table border=\"1\" class=\"dataframe\">\n",
       "  <thead>\n",
       "    <tr style=\"text-align: right;\">\n",
       "      <th></th>\n",
       "      <th>Heart_Rate_BPM</th>\n",
       "      <th>Sleep_Duration_Hours</th>\n",
       "      <th>Physical_Activity_Steps</th>\n",
       "    </tr>\n",
       "  </thead>\n",
       "  <tbody>\n",
       "    <tr>\n",
       "      <th>0</th>\n",
       "      <td>98</td>\n",
       "      <td>7.425124</td>\n",
       "      <td>13760</td>\n",
       "    </tr>\n",
       "    <tr>\n",
       "      <th>1</th>\n",
       "      <td>111</td>\n",
       "      <td>9.457572</td>\n",
       "      <td>11455</td>\n",
       "    </tr>\n",
       "    <tr>\n",
       "      <th>2</th>\n",
       "      <td>88</td>\n",
       "      <td>4.037103</td>\n",
       "      <td>9174</td>\n",
       "    </tr>\n",
       "    <tr>\n",
       "      <th>3</th>\n",
       "      <td>74</td>\n",
       "      <td>8.864101</td>\n",
       "      <td>12612</td>\n",
       "    </tr>\n",
       "    <tr>\n",
       "      <th>4</th>\n",
       "      <td>102</td>\n",
       "      <td>9.690217</td>\n",
       "      <td>3923</td>\n",
       "    </tr>\n",
       "    <tr>\n",
       "      <th>...</th>\n",
       "      <td>...</td>\n",
       "      <td>...</td>\n",
       "      <td>...</td>\n",
       "    </tr>\n",
       "    <tr>\n",
       "      <th>9995</th>\n",
       "      <td>107</td>\n",
       "      <td>7.517607</td>\n",
       "      <td>11087</td>\n",
       "    </tr>\n",
       "    <tr>\n",
       "      <th>9996</th>\n",
       "      <td>82</td>\n",
       "      <td>8.195159</td>\n",
       "      <td>4579</td>\n",
       "    </tr>\n",
       "    <tr>\n",
       "      <th>9997</th>\n",
       "      <td>65</td>\n",
       "      <td>7.151055</td>\n",
       "      <td>11825</td>\n",
       "    </tr>\n",
       "    <tr>\n",
       "      <th>9998</th>\n",
       "      <td>110</td>\n",
       "      <td>9.008428</td>\n",
       "      <td>14175</td>\n",
       "    </tr>\n",
       "    <tr>\n",
       "      <th>9999</th>\n",
       "      <td>112</td>\n",
       "      <td>4.198801</td>\n",
       "      <td>3379</td>\n",
       "    </tr>\n",
       "  </tbody>\n",
       "</table>\n",
       "<p>10000 rows × 3 columns</p>\n",
       "</div>"
      ],
      "text/plain": [
       "      Heart_Rate_BPM  Sleep_Duration_Hours  Physical_Activity_Steps\n",
       "0                 98              7.425124                    13760\n",
       "1                111              9.457572                    11455\n",
       "2                 88              4.037103                     9174\n",
       "3                 74              8.864101                    12612\n",
       "4                102              9.690217                     3923\n",
       "...              ...                   ...                      ...\n",
       "9995             107              7.517607                    11087\n",
       "9996              82              8.195159                     4579\n",
       "9997              65              7.151055                    11825\n",
       "9998             110              9.008428                    14175\n",
       "9999             112              4.198801                     3379\n",
       "\n",
       "[10000 rows x 3 columns]"
      ]
     },
     "execution_count": 34,
     "metadata": {},
     "output_type": "execute_result"
    }
   ],
   "source": [
    "X"
   ]
  },
  {
   "cell_type": "code",
   "execution_count": 35,
   "id": "4f911692",
   "metadata": {},
   "outputs": [
    {
     "data": {
      "application/vnd.microsoft.datawrangler.viewer.v0+json": {
       "columns": [
        {
         "name": "index",
         "rawType": "int64",
         "type": "integer"
        },
        {
         "name": "Mental_Health_Condition",
         "rawType": "int64",
         "type": "integer"
        }
       ],
       "ref": "b0275bf9-73a1-4a53-a77a-2b91c7765b4a",
       "rows": [
        [
         "0",
         "1"
        ],
        [
         "1",
         "0"
        ],
        [
         "2",
         "1"
        ],
        [
         "3",
         "1"
        ],
        [
         "4",
         "0"
        ],
        [
         "5",
         "1"
        ],
        [
         "6",
         "1"
        ],
        [
         "7",
         "0"
        ],
        [
         "8",
         "0"
        ],
        [
         "9",
         "1"
        ],
        [
         "10",
         "1"
        ],
        [
         "11",
         "1"
        ],
        [
         "12",
         "1"
        ],
        [
         "13",
         "1"
        ],
        [
         "14",
         "0"
        ],
        [
         "15",
         "1"
        ],
        [
         "16",
         "0"
        ],
        [
         "17",
         "0"
        ],
        [
         "18",
         "1"
        ],
        [
         "19",
         "1"
        ],
        [
         "20",
         "0"
        ],
        [
         "21",
         "0"
        ],
        [
         "22",
         "1"
        ],
        [
         "23",
         "1"
        ],
        [
         "24",
         "1"
        ],
        [
         "25",
         "1"
        ],
        [
         "26",
         "1"
        ],
        [
         "27",
         "1"
        ],
        [
         "28",
         "1"
        ],
        [
         "29",
         "0"
        ],
        [
         "30",
         "1"
        ],
        [
         "31",
         "1"
        ],
        [
         "32",
         "1"
        ],
        [
         "33",
         "0"
        ],
        [
         "34",
         "1"
        ],
        [
         "35",
         "0"
        ],
        [
         "36",
         "0"
        ],
        [
         "37",
         "0"
        ],
        [
         "38",
         "0"
        ],
        [
         "39",
         "1"
        ],
        [
         "40",
         "0"
        ],
        [
         "41",
         "0"
        ],
        [
         "42",
         "1"
        ],
        [
         "43",
         "1"
        ],
        [
         "44",
         "1"
        ],
        [
         "45",
         "1"
        ],
        [
         "46",
         "0"
        ],
        [
         "47",
         "0"
        ],
        [
         "48",
         "1"
        ],
        [
         "49",
         "0"
        ]
       ],
       "shape": {
        "columns": 1,
        "rows": 10000
       }
      },
      "text/plain": [
       "0       1\n",
       "1       0\n",
       "2       1\n",
       "3       1\n",
       "4       0\n",
       "       ..\n",
       "9995    1\n",
       "9996    0\n",
       "9997    0\n",
       "9998    1\n",
       "9999    0\n",
       "Name: Mental_Health_Condition, Length: 10000, dtype: int64"
      ]
     },
     "execution_count": 35,
     "metadata": {},
     "output_type": "execute_result"
    }
   ],
   "source": [
    "y"
   ]
  },
  {
   "cell_type": "code",
   "execution_count": 36,
   "id": "3a1a84f9",
   "metadata": {
    "execution": {
     "iopub.execute_input": "2023-07-08T15:03:30.648180Z",
     "iopub.status.busy": "2023-07-08T15:03:30.647194Z",
     "iopub.status.idle": "2023-07-08T15:03:30.656504Z",
     "shell.execute_reply": "2023-07-08T15:03:30.655362Z"
    },
    "papermill": {
     "duration": 0.049029,
     "end_time": "2023-07-08T15:03:30.660060",
     "exception": false,
     "start_time": "2023-07-08T15:03:30.611031",
     "status": "completed"
    },
    "tags": []
   },
   "outputs": [],
   "source": [
    "X_train, X_test, y_train, y_test = train_test_split(X, y, test_size=0.2, random_state=2)"
   ]
  },
  {
   "cell_type": "markdown",
   "id": "9bc221f6",
   "metadata": {
    "papermill": {
     "duration": 0.028755,
     "end_time": "2023-07-08T15:03:30.716116",
     "exception": false,
     "start_time": "2023-07-08T15:03:30.687361",
     "status": "completed"
    },
    "tags": []
   },
   "source": [
    "# Create a pipeline"
   ]
  },
  {
   "cell_type": "code",
   "execution_count": 37,
   "id": "03d42cb9",
   "metadata": {},
   "outputs": [],
   "source": [
    "# Модель логистической регрессии с масштабированием признаков\n",
    "\n",
    "from sklearn.pipeline import Pipeline\n",
    "from sklearn.ensemble import RandomForestClassifier\n",
    "from sklearn.ensemble import GradientBoostingRegressor\n",
    "\n",
    "\n",
    "logreg_pipeline = Pipeline([\n",
    "    # ('scaler', StandardScaler()),\n",
    "    ('clf', RandomForestClassifier())\n",
    "])\n",
    "\n",
    "logreg_pipeline.fit(X_train, y_train)\n",
    "y_pred_logreg = logreg_pipeline.predict(X_test)"
   ]
  },
  {
   "cell_type": "code",
   "execution_count": 38,
   "id": "2bf6efde",
   "metadata": {},
   "outputs": [
    {
     "data": {
      "image/png": "[encoded data removed]",
      "text/plain": [
       "<Figure size 800x400 with 1 Axes>"
      ]
     },
     "metadata": {},
     "output_type": "display_data"
    },
    {
     "data": {
      "image/png": "[encoded data removed]",
      "text/plain": [
       "<Figure size 640x480 with 2 Axes>"
      ]
     },
     "metadata": {},
     "output_type": "display_data"
    },
    {
     "name": "stdout",
     "output_type": "stream",
     "text": [
      "Accuracy : 0.645\n",
      "Precision: 0.649\n",
      "Recall   : 0.645\n",
      "F1-score : 0.646\n",
      "\n",
      "Classification Report:\n",
      "              precision    recall  f1-score   support\n",
      "\n",
      "           0       0.60      0.65      0.63       909\n",
      "           1       0.69      0.64      0.66      1091\n",
      "\n",
      "    accuracy                           0.65      2000\n",
      "   macro avg       0.65      0.65      0.64      2000\n",
      "weighted avg       0.65      0.65      0.65      2000\n",
      "\n"
     ]
    }
   ],
   "source": [
    "from sklearn.metrics import classification_report, confusion_matrix, ConfusionMatrixDisplay\n",
    "\n",
    "# Визуализация весов параметров логистической регрессии\n",
    "import matplotlib.pyplot as plt\n",
    "from sklearn.metrics import mean_squared_error, r2_score\n",
    "from sklearn.metrics import (\n",
    "    accuracy_score,\n",
    "    precision_score,\n",
    "    recall_score,\n",
    "    f1_score,\n",
    "    roc_auc_score,\n",
    "    roc_curve,\n",
    "    classification_report,\n",
    "    confusion_matrix,\n",
    "    ConfusionMatrixDisplay,\n",
    ")\n",
    "\n",
    "# Получаем важности признаков для GradientBoostingClassifier\n",
    "importances = logreg_pipeline.named_steps['clf'].feature_importances_\n",
    "feature_names = X.columns\n",
    "\n",
    "\n",
    "sorted_idx = np.argsort(importances)\n",
    "plt.figure(figsize=(8, 4))\n",
    "plt.bar(np.array(feature_names)[sorted_idx], importances[sorted_idx])\n",
    "plt.title('Feature Importances (Gradient Boosting)')\n",
    "plt.ylabel('Importance')\n",
    "plt.xticks(rotation=45)\n",
    "plt.tight_layout()\n",
    "plt.show()\n",
    "\n",
    "\n",
    "# Матрица ошибок\n",
    "cm = confusion_matrix(y_test, y_pred_logreg)\n",
    "disp = ConfusionMatrixDisplay(confusion_matrix=cm)\n",
    "disp.plot(cmap='Blues')\n",
    "plt.title('Confusion Matrix (Logistic Regression)')\n",
    "plt.show()\n",
    "\n",
    "\n",
    "acc   = accuracy_score(y_test, y_pred_logreg)\n",
    "prec  = precision_score(y_test, y_pred_logreg, average='weighted', zero_division=0)\n",
    "rec   = recall_score(y_test, y_pred_logreg, average='weighted', zero_division=0)\n",
    "f1    = f1_score(y_test, y_pred_logreg, average='weighted', zero_division=0)\n",
    "\n",
    "print(f\"Accuracy : {acc:.3f}\")\n",
    "print(f\"Precision: {prec:.3f}\")\n",
    "print(f\"Recall   : {rec:.3f}\")\n",
    "print(f\"F1-score : {f1:.3f}\\n\")\n",
    "\n",
    "# 3. Подробный отчёт по каждому классу\n",
    "print(\"Classification Report:\")\n",
    "print(classification_report(y_test, y_pred_logreg))"
   ]
  },
  {
   "cell_type": "code",
   "execution_count": 39,
   "id": "28780bf7",
   "metadata": {},
   "outputs": [
    {
     "name": "stdout",
     "output_type": "stream",
     "text": [
      "Heart Rate (bpm): 106\n",
      "Sleep Duration (hours): 9.37\n",
      "Physical Activity Steps: 3357\n",
      "Предсказание для случайных данных: 0\n",
      "0: 0.930\n",
      "1: 0.070\n"
     ]
    }
   ],
   "source": [
    "# Генерация случайного тестового сэмпла по каждому признаку отдельно\n",
    "heart_rate = np.random.randint(X['Heart_Rate_BPM'].min(), X['Heart_Rate_BPM'].max() + 1)\n",
    "print(f\"Heart Rate (bpm): {heart_rate}\")\n",
    "\n",
    "sleep_duration = np.random.uniform(X['Sleep_Duration_Hours'].min(), X['Sleep_Duration_Hours'].max())\n",
    "print(f\"Sleep Duration (hours): {sleep_duration:.2f}\")\n",
    "\n",
    "physical_activity = np.random.randint(X['Physical_Activity_Steps'].min(), X['Physical_Activity_Steps'].max() + 1)\n",
    "print(f\"Physical Activity Steps: {physical_activity}\")\n",
    "\n",
    "# Собираем все параметры в массив для предсказания\n",
    "sample = np.array([[heart_rate, sleep_duration, physical_activity]])\n",
    "\n",
    "# Предсказание\n",
    "random_pred = logreg_pipeline.named_steps['clf'].predict(sample)\n",
    "print(\"Предсказание для случайных данных:\", random_pred[0])\n",
    "\n",
    "probas = logreg_pipeline.named_steps['clf'].predict_proba(sample)\n",
    "for label, prob in zip(logreg_pipeline.named_steps['clf'].classes_, probas[0]):\n",
    "    print(f\"{label}: {prob:.3f}\")\n"
   ]
  },
  {
   "cell_type": "code",
   "execution_count": 40,
   "id": "476e219e",
   "metadata": {},
   "outputs": [],
   "source": [
    "import pickle\n",
    "\n",
    "# Сохраняем обученную модель и все энкодеры в один файл\n",
    "with open('depression.pkl', 'wb') as f:\n",
    "    pickle.dump({\n",
    "        'model': logreg_pipeline\n",
    "    }, f)\n"
   ]
  },
  {
   "cell_type": "code",
   "execution_count": 41,
   "id": "55e6feac",
   "metadata": {},
   "outputs": [],
   "source": [
    "import numpy as np\n",
    "import json\n",
    "import pickle\n",
    "\n",
    "def predict_depression(heart_rate, sleep_duration, physical_activity_steps):\n",
    "    \"\"\"\n",
    "    Предсказание наличия депрессии по входным данным:\n",
    "    - heart_rate: пульс (int)\n",
    "    - sleep_duration: продолжительность сна (float)\n",
    "    - physical_activity_steps: количество шагов (int)\n",
    "    Возвращает вероятности классов в формате JSON.\n",
    "    \"\"\"\n",
    "    # Загружаем модель из файла\n",
    "    with open('depression.pkl', 'rb') as f:\n",
    "        data = pickle.load(f)\n",
    "        model = data['model']\n",
    "\n",
    "    # Формируем входной массив\n",
    "    features = [heart_rate, sleep_duration, physical_activity_steps]\n",
    "    sample = np.array(features).reshape(1, -1)\n",
    "\n",
    "    probas = model.named_steps['clf'].predict_proba(sample)[0]\n",
    "    class_labels = model.named_steps['clf'].classes_\n",
    "    result = {int(label): float(prob) for label, prob in zip(class_labels, probas)}\n",
    "    return json.dumps(result, ensure_ascii=False)\n",
    "\n"
   ]
  },
  {
   "cell_type": "code",
   "execution_count": 42,
   "id": "1a97f71c",
   "metadata": {},
   "outputs": [
    {
     "name": "stdout",
     "output_type": "stream",
     "text": [
      "Heart Rate (bpm): 93\n",
      "Sleep Duration (hours): 6.98\n",
      "Physical Activity Steps: 13575\n",
      "\n",
      "Результат работы predict_depression:\n",
      "{\"0\": 0.75, \"1\": 0.25}\n"
     ]
    }
   ],
   "source": [
    "# Генерация случайных значений для проверки функции предсказания\n",
    "heart_rate_sample = np.random.randint(df['Heart_Rate_BPM'].min(), df['Heart_Rate_BPM'].max() + 1)\n",
    "print(f\"Heart Rate (bpm): {heart_rate_sample}\")\n",
    "\n",
    "sleep_duration_sample = np.random.uniform(df['Sleep_Duration_Hours'].min(), df['Sleep_Duration_Hours'].max())\n",
    "print(f\"Sleep Duration (hours): {sleep_duration_sample:.2f}\")\n",
    "\n",
    "physical_activity_sample = np.random.randint(df['Physical_Activity_Steps'].min(), df['Physical_Activity_Steps'].max() + 1)\n",
    "print(f\"Physical Activity Steps: {physical_activity_sample}\")\n",
    "\n",
    "# Проверка работы функции предсказания\n",
    "result_json = predict_depression(\n",
    "    heart_rate_sample,\n",
    "    sleep_duration_sample,\n",
    "    physical_activity_sample\n",
    ")\n",
    "print(\"\\nРезультат работы predict_depression:\")\n",
    "print(result_json)\n"
   ]
  }
 ],
 "metadata": {
  "kernelspec": {
   "display_name": "venv",
   "language": "python",
   "name": "python3"
  },
  "language_info": {
   "codemirror_mode": {
    "name": "ipython",
    "version": 3
   },
   "file_extension": ".py",
   "mimetype": "text/x-python",
   "name": "python",
   "nbconvert_exporter": "python",
   "pygments_lexer": "ipython3",
   "version": "3.12.3"
  },
  "papermill": {
   "default_parameters": {},
   "duration": 155.097753,
   "end_time": "2023-07-08T15:05:34.930055",
   "environment_variables": {},
   "exception": null,
   "input_path": "__notebook__.ipynb",
   "output_path": "__notebook__.ipynb",
   "parameters": {},
   "start_time": "2023-07-08T15:02:59.832302",
   "version": "2.4.0"
  }
 },
 "nbformat": 4,
 "nbformat_minor": 5
}
