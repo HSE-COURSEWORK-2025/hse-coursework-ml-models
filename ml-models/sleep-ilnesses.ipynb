{
 "cells": [
  {
   "cell_type": "markdown",
   "id": "32eeb359",
   "metadata": {
    "papermill": {
     "duration": 0.020974,
     "end_time": "2023-07-08T15:03:19.527765",
     "exception": false,
     "start_time": "2023-07-08T15:03:19.506791",
     "status": "completed"
    },
    "tags": []
   },
   "source": [
    "# Модель для предсказания наличия/отсутствия insomnia и apnea \n"
   ]
  },
  {
   "cell_type": "code",
   "execution_count": 1,
   "id": "56dad314",
   "metadata": {
    "execution": {
     "iopub.execute_input": "2023-07-08T15:03:19.606757Z",
     "iopub.status.busy": "2023-07-08T15:03:19.606170Z",
     "iopub.status.idle": "2023-07-08T15:03:20.831593Z",
     "shell.execute_reply": "2023-07-08T15:03:20.830195Z"
    },
    "papermill": {
     "duration": 1.249455,
     "end_time": "2023-07-08T15:03:20.834653",
     "exception": false,
     "start_time": "2023-07-08T15:03:19.585198",
     "status": "completed"
    },
    "tags": []
   },
   "outputs": [],
   "source": [
    "import numpy as np\n",
    "import pandas as pd\n",
    "from sklearn import preprocessing\n",
    "import warnings\n",
    "warnings.filterwarnings('ignore')"
   ]
  },
  {
   "cell_type": "code",
   "execution_count": 2,
   "id": "f41e1a56",
   "metadata": {
    "execution": {
     "iopub.execute_input": "2023-07-08T15:03:20.970580Z",
     "iopub.status.busy": "2023-07-08T15:03:20.970093Z",
     "iopub.status.idle": "2023-07-08T15:03:21.000189Z",
     "shell.execute_reply": "2023-07-08T15:03:20.998750Z"
    },
    "papermill": {
     "duration": 0.053476,
     "end_time": "2023-07-08T15:03:21.003590",
     "exception": false,
     "start_time": "2023-07-08T15:03:20.950114",
     "status": "completed"
    },
    "tags": []
   },
   "outputs": [],
   "source": [
    "import kagglehub\n",
    "\n",
    "# Download latest version\n",
    "path = kagglehub.dataset_download(\"uom190346a/sleep-health-and-lifestyle-dataset\")\n",
    "\n",
    "\n",
    "df = pd.read_csv(path+'/Sleep_health_and_lifestyle_dataset.csv')\n",
    "df = df.drop(columns=['Blood Pressure', 'Stress Level', 'Quality of Sleep', 'Occupation'])"
   ]
  },
  {
   "cell_type": "code",
   "execution_count": 3,
   "id": "fd500220",
   "metadata": {
    "execution": {
     "iopub.execute_input": "2023-07-08T15:03:21.088875Z",
     "iopub.status.busy": "2023-07-08T15:03:21.087978Z",
     "iopub.status.idle": "2023-07-08T15:03:21.139011Z",
     "shell.execute_reply": "2023-07-08T15:03:21.136648Z"
    },
    "papermill": {
     "duration": 0.077972,
     "end_time": "2023-07-08T15:03:21.143184",
     "exception": false,
     "start_time": "2023-07-08T15:03:21.065212",
     "status": "completed"
    },
    "tags": []
   },
   "outputs": [
    {
     "data": {
      "application/vnd.microsoft.datawrangler.viewer.v0+json": {
       "columns": [
        {
         "name": "index",
         "rawType": "int64",
         "type": "integer"
        },
        {
         "name": "Person ID",
         "rawType": "int64",
         "type": "integer"
        },
        {
         "name": "Gender",
         "rawType": "object",
         "type": "string"
        },
        {
         "name": "Age",
         "rawType": "int64",
         "type": "integer"
        },
        {
         "name": "Sleep Duration",
         "rawType": "float64",
         "type": "float"
        },
        {
         "name": "Physical Activity Level",
         "rawType": "int64",
         "type": "integer"
        },
        {
         "name": "BMI Category",
         "rawType": "object",
         "type": "string"
        },
        {
         "name": "Heart Rate",
         "rawType": "int64",
         "type": "integer"
        },
        {
         "name": "Daily Steps",
         "rawType": "int64",
         "type": "integer"
        },
        {
         "name": "Sleep Disorder",
         "rawType": "object",
         "type": "unknown"
        }
       ],
       "ref": "347e9366-47c2-47da-bb5d-d722f0f99ddf",
       "rows": [
        [
         "0",
         "1",
         "Male",
         "27",
         "6.1",
         "42",
         "Overweight",
         "77",
         "4200",
         null
        ],
        [
         "1",
         "2",
         "Male",
         "28",
         "6.2",
         "60",
         "Normal",
         "75",
         "10000",
         null
        ],
        [
         "2",
         "3",
         "Male",
         "28",
         "6.2",
         "60",
         "Normal",
         "75",
         "10000",
         null
        ],
        [
         "3",
         "4",
         "Male",
         "28",
         "5.9",
         "30",
         "Obese",
         "85",
         "3000",
         "Sleep Apnea"
        ],
        [
         "4",
         "5",
         "Male",
         "28",
         "5.9",
         "30",
         "Obese",
         "85",
         "3000",
         "Sleep Apnea"
        ],
        [
         "5",
         "6",
         "Male",
         "28",
         "5.9",
         "30",
         "Obese",
         "85",
         "3000",
         "Insomnia"
        ],
        [
         "6",
         "7",
         "Male",
         "29",
         "6.3",
         "40",
         "Obese",
         "82",
         "3500",
         "Insomnia"
        ],
        [
         "7",
         "8",
         "Male",
         "29",
         "7.8",
         "75",
         "Normal",
         "70",
         "8000",
         null
        ],
        [
         "8",
         "9",
         "Male",
         "29",
         "7.8",
         "75",
         "Normal",
         "70",
         "8000",
         null
        ],
        [
         "9",
         "10",
         "Male",
         "29",
         "7.8",
         "75",
         "Normal",
         "70",
         "8000",
         null
        ],
        [
         "10",
         "11",
         "Male",
         "29",
         "6.1",
         "30",
         "Normal",
         "70",
         "8000",
         null
        ],
        [
         "11",
         "12",
         "Male",
         "29",
         "7.8",
         "75",
         "Normal",
         "70",
         "8000",
         null
        ],
        [
         "12",
         "13",
         "Male",
         "29",
         "6.1",
         "30",
         "Normal",
         "70",
         "8000",
         null
        ],
        [
         "13",
         "14",
         "Male",
         "29",
         "6.0",
         "30",
         "Normal",
         "70",
         "8000",
         null
        ],
        [
         "14",
         "15",
         "Male",
         "29",
         "6.0",
         "30",
         "Normal",
         "70",
         "8000",
         null
        ],
        [
         "15",
         "16",
         "Male",
         "29",
         "6.0",
         "30",
         "Normal",
         "70",
         "8000",
         null
        ],
        [
         "16",
         "17",
         "Female",
         "29",
         "6.5",
         "40",
         "Normal Weight",
         "80",
         "4000",
         "Sleep Apnea"
        ],
        [
         "17",
         "18",
         "Male",
         "29",
         "6.0",
         "30",
         "Normal",
         "70",
         "8000",
         "Sleep Apnea"
        ],
        [
         "18",
         "19",
         "Female",
         "29",
         "6.5",
         "40",
         "Normal Weight",
         "80",
         "4000",
         "Insomnia"
        ],
        [
         "19",
         "20",
         "Male",
         "30",
         "7.6",
         "75",
         "Normal",
         "70",
         "8000",
         null
        ],
        [
         "20",
         "21",
         "Male",
         "30",
         "7.7",
         "75",
         "Normal",
         "70",
         "8000",
         null
        ],
        [
         "21",
         "22",
         "Male",
         "30",
         "7.7",
         "75",
         "Normal",
         "70",
         "8000",
         null
        ],
        [
         "22",
         "23",
         "Male",
         "30",
         "7.7",
         "75",
         "Normal",
         "70",
         "8000",
         null
        ],
        [
         "23",
         "24",
         "Male",
         "30",
         "7.7",
         "75",
         "Normal",
         "70",
         "8000",
         null
        ],
        [
         "24",
         "25",
         "Male",
         "30",
         "7.8",
         "75",
         "Normal",
         "70",
         "8000",
         null
        ],
        [
         "25",
         "26",
         "Male",
         "30",
         "7.9",
         "75",
         "Normal",
         "70",
         "8000",
         null
        ],
        [
         "26",
         "27",
         "Male",
         "30",
         "7.8",
         "75",
         "Normal",
         "70",
         "8000",
         null
        ],
        [
         "27",
         "28",
         "Male",
         "30",
         "7.9",
         "75",
         "Normal",
         "70",
         "8000",
         null
        ],
        [
         "28",
         "29",
         "Male",
         "30",
         "7.9",
         "75",
         "Normal",
         "70",
         "8000",
         null
        ],
        [
         "29",
         "30",
         "Male",
         "30",
         "7.9",
         "75",
         "Normal",
         "70",
         "8000",
         null
        ],
        [
         "30",
         "31",
         "Female",
         "30",
         "6.4",
         "35",
         "Normal Weight",
         "78",
         "4100",
         "Sleep Apnea"
        ],
        [
         "31",
         "32",
         "Female",
         "30",
         "6.4",
         "35",
         "Normal Weight",
         "78",
         "4100",
         "Insomnia"
        ],
        [
         "32",
         "33",
         "Female",
         "31",
         "7.9",
         "75",
         "Normal Weight",
         "69",
         "6800",
         null
        ],
        [
         "33",
         "34",
         "Male",
         "31",
         "6.1",
         "30",
         "Normal",
         "72",
         "5000",
         null
        ],
        [
         "34",
         "35",
         "Male",
         "31",
         "7.7",
         "75",
         "Normal",
         "70",
         "8000",
         null
        ],
        [
         "35",
         "36",
         "Male",
         "31",
         "6.1",
         "30",
         "Normal",
         "72",
         "5000",
         null
        ],
        [
         "36",
         "37",
         "Male",
         "31",
         "6.1",
         "30",
         "Normal",
         "72",
         "5000",
         null
        ],
        [
         "37",
         "38",
         "Male",
         "31",
         "7.6",
         "75",
         "Normal",
         "70",
         "8000",
         null
        ],
        [
         "38",
         "39",
         "Male",
         "31",
         "7.6",
         "75",
         "Normal",
         "70",
         "8000",
         null
        ],
        [
         "39",
         "40",
         "Male",
         "31",
         "7.6",
         "75",
         "Normal",
         "70",
         "8000",
         null
        ],
        [
         "40",
         "41",
         "Male",
         "31",
         "7.7",
         "75",
         "Normal",
         "70",
         "8000",
         null
        ],
        [
         "41",
         "42",
         "Male",
         "31",
         "7.7",
         "75",
         "Normal",
         "70",
         "8000",
         null
        ],
        [
         "42",
         "43",
         "Male",
         "31",
         "7.7",
         "75",
         "Normal",
         "70",
         "8000",
         null
        ],
        [
         "43",
         "44",
         "Male",
         "31",
         "7.8",
         "75",
         "Normal",
         "70",
         "8000",
         null
        ],
        [
         "44",
         "45",
         "Male",
         "31",
         "7.7",
         "75",
         "Normal",
         "70",
         "8000",
         null
        ],
        [
         "45",
         "46",
         "Male",
         "31",
         "7.8",
         "75",
         "Normal",
         "70",
         "8000",
         null
        ],
        [
         "46",
         "47",
         "Male",
         "31",
         "7.7",
         "75",
         "Normal",
         "70",
         "8000",
         null
        ],
        [
         "47",
         "48",
         "Male",
         "31",
         "7.8",
         "75",
         "Normal",
         "70",
         "8000",
         null
        ],
        [
         "48",
         "49",
         "Male",
         "31",
         "7.7",
         "75",
         "Normal",
         "70",
         "8000",
         null
        ],
        [
         "49",
         "50",
         "Male",
         "31",
         "7.7",
         "75",
         "Normal",
         "70",
         "8000",
         "Sleep Apnea"
        ]
       ],
       "shape": {
        "columns": 9,
        "rows": 374
       }
      },
      "text/html": [
       "<div>\n",
       "<style scoped>\n",
       "    .dataframe tbody tr th:only-of-type {\n",
       "        vertical-align: middle;\n",
       "    }\n",
       "\n",
       "    .dataframe tbody tr th {\n",
       "        vertical-align: top;\n",
       "    }\n",
       "\n",
       "    .dataframe thead th {\n",
       "        text-align: right;\n",
       "    }\n",
       "</style>\n",
       "<table border=\"1\" class=\"dataframe\">\n",
       "  <thead>\n",
       "    <tr style=\"text-align: right;\">\n",
       "      <th></th>\n",
       "      <th>Person ID</th>\n",
       "      <th>Gender</th>\n",
       "      <th>Age</th>\n",
       "      <th>Sleep Duration</th>\n",
       "      <th>Physical Activity Level</th>\n",
       "      <th>BMI Category</th>\n",
       "      <th>Heart Rate</th>\n",
       "      <th>Daily Steps</th>\n",
       "      <th>Sleep Disorder</th>\n",
       "    </tr>\n",
       "  </thead>\n",
       "  <tbody>\n",
       "    <tr>\n",
       "      <th>0</th>\n",
       "      <td>1</td>\n",
       "      <td>Male</td>\n",
       "      <td>27</td>\n",
       "      <td>6.1</td>\n",
       "      <td>42</td>\n",
       "      <td>Overweight</td>\n",
       "      <td>77</td>\n",
       "      <td>4200</td>\n",
       "      <td>NaN</td>\n",
       "    </tr>\n",
       "    <tr>\n",
       "      <th>1</th>\n",
       "      <td>2</td>\n",
       "      <td>Male</td>\n",
       "      <td>28</td>\n",
       "      <td>6.2</td>\n",
       "      <td>60</td>\n",
       "      <td>Normal</td>\n",
       "      <td>75</td>\n",
       "      <td>10000</td>\n",
       "      <td>NaN</td>\n",
       "    </tr>\n",
       "    <tr>\n",
       "      <th>2</th>\n",
       "      <td>3</td>\n",
       "      <td>Male</td>\n",
       "      <td>28</td>\n",
       "      <td>6.2</td>\n",
       "      <td>60</td>\n",
       "      <td>Normal</td>\n",
       "      <td>75</td>\n",
       "      <td>10000</td>\n",
       "      <td>NaN</td>\n",
       "    </tr>\n",
       "    <tr>\n",
       "      <th>3</th>\n",
       "      <td>4</td>\n",
       "      <td>Male</td>\n",
       "      <td>28</td>\n",
       "      <td>5.9</td>\n",
       "      <td>30</td>\n",
       "      <td>Obese</td>\n",
       "      <td>85</td>\n",
       "      <td>3000</td>\n",
       "      <td>Sleep Apnea</td>\n",
       "    </tr>\n",
       "    <tr>\n",
       "      <th>4</th>\n",
       "      <td>5</td>\n",
       "      <td>Male</td>\n",
       "      <td>28</td>\n",
       "      <td>5.9</td>\n",
       "      <td>30</td>\n",
       "      <td>Obese</td>\n",
       "      <td>85</td>\n",
       "      <td>3000</td>\n",
       "      <td>Sleep Apnea</td>\n",
       "    </tr>\n",
       "    <tr>\n",
       "      <th>...</th>\n",
       "      <td>...</td>\n",
       "      <td>...</td>\n",
       "      <td>...</td>\n",
       "      <td>...</td>\n",
       "      <td>...</td>\n",
       "      <td>...</td>\n",
       "      <td>...</td>\n",
       "      <td>...</td>\n",
       "      <td>...</td>\n",
       "    </tr>\n",
       "    <tr>\n",
       "      <th>369</th>\n",
       "      <td>370</td>\n",
       "      <td>Female</td>\n",
       "      <td>59</td>\n",
       "      <td>8.1</td>\n",
       "      <td>75</td>\n",
       "      <td>Overweight</td>\n",
       "      <td>68</td>\n",
       "      <td>7000</td>\n",
       "      <td>Sleep Apnea</td>\n",
       "    </tr>\n",
       "    <tr>\n",
       "      <th>370</th>\n",
       "      <td>371</td>\n",
       "      <td>Female</td>\n",
       "      <td>59</td>\n",
       "      <td>8.0</td>\n",
       "      <td>75</td>\n",
       "      <td>Overweight</td>\n",
       "      <td>68</td>\n",
       "      <td>7000</td>\n",
       "      <td>Sleep Apnea</td>\n",
       "    </tr>\n",
       "    <tr>\n",
       "      <th>371</th>\n",
       "      <td>372</td>\n",
       "      <td>Female</td>\n",
       "      <td>59</td>\n",
       "      <td>8.1</td>\n",
       "      <td>75</td>\n",
       "      <td>Overweight</td>\n",
       "      <td>68</td>\n",
       "      <td>7000</td>\n",
       "      <td>Sleep Apnea</td>\n",
       "    </tr>\n",
       "    <tr>\n",
       "      <th>372</th>\n",
       "      <td>373</td>\n",
       "      <td>Female</td>\n",
       "      <td>59</td>\n",
       "      <td>8.1</td>\n",
       "      <td>75</td>\n",
       "      <td>Overweight</td>\n",
       "      <td>68</td>\n",
       "      <td>7000</td>\n",
       "      <td>Sleep Apnea</td>\n",
       "    </tr>\n",
       "    <tr>\n",
       "      <th>373</th>\n",
       "      <td>374</td>\n",
       "      <td>Female</td>\n",
       "      <td>59</td>\n",
       "      <td>8.1</td>\n",
       "      <td>75</td>\n",
       "      <td>Overweight</td>\n",
       "      <td>68</td>\n",
       "      <td>7000</td>\n",
       "      <td>Sleep Apnea</td>\n",
       "    </tr>\n",
       "  </tbody>\n",
       "</table>\n",
       "<p>374 rows × 9 columns</p>\n",
       "</div>"
      ],
      "text/plain": [
       "     Person ID  Gender  Age  Sleep Duration  Physical Activity Level  \\\n",
       "0            1    Male   27             6.1                       42   \n",
       "1            2    Male   28             6.2                       60   \n",
       "2            3    Male   28             6.2                       60   \n",
       "3            4    Male   28             5.9                       30   \n",
       "4            5    Male   28             5.9                       30   \n",
       "..         ...     ...  ...             ...                      ...   \n",
       "369        370  Female   59             8.1                       75   \n",
       "370        371  Female   59             8.0                       75   \n",
       "371        372  Female   59             8.1                       75   \n",
       "372        373  Female   59             8.1                       75   \n",
       "373        374  Female   59             8.1                       75   \n",
       "\n",
       "    BMI Category  Heart Rate  Daily Steps Sleep Disorder  \n",
       "0     Overweight          77         4200            NaN  \n",
       "1         Normal          75        10000            NaN  \n",
       "2         Normal          75        10000            NaN  \n",
       "3          Obese          85         3000    Sleep Apnea  \n",
       "4          Obese          85         3000    Sleep Apnea  \n",
       "..           ...         ...          ...            ...  \n",
       "369   Overweight          68         7000    Sleep Apnea  \n",
       "370   Overweight          68         7000    Sleep Apnea  \n",
       "371   Overweight          68         7000    Sleep Apnea  \n",
       "372   Overweight          68         7000    Sleep Apnea  \n",
       "373   Overweight          68         7000    Sleep Apnea  \n",
       "\n",
       "[374 rows x 9 columns]"
      ]
     },
     "execution_count": 3,
     "metadata": {},
     "output_type": "execute_result"
    }
   ],
   "source": [
    "df"
   ]
  },
  {
   "cell_type": "code",
   "execution_count": 4,
   "id": "2418c525",
   "metadata": {
    "execution": {
     "iopub.execute_input": "2023-07-08T15:03:21.294248Z",
     "iopub.status.busy": "2023-07-08T15:03:21.293815Z",
     "iopub.status.idle": "2023-07-08T15:03:21.331719Z",
     "shell.execute_reply": "2023-07-08T15:03:21.329569Z"
    },
    "papermill": {
     "duration": 0.061842,
     "end_time": "2023-07-08T15:03:21.334896",
     "exception": false,
     "start_time": "2023-07-08T15:03:21.273054",
     "status": "completed"
    },
    "tags": []
   },
   "outputs": [
    {
     "data": {
      "text/plain": [
       "array(['Overweight', 'Normal', 'Obese', 'Normal Weight'], dtype=object)"
      ]
     },
     "execution_count": 4,
     "metadata": {},
     "output_type": "execute_result"
    }
   ],
   "source": [
    "# df.info()\n",
    "df['BMI Category'].unique()\n"
   ]
  },
  {
   "cell_type": "code",
   "execution_count": 5,
   "id": "1158f1ee",
   "metadata": {
    "execution": {
     "iopub.execute_input": "2023-07-08T15:03:21.377309Z",
     "iopub.status.busy": "2023-07-08T15:03:21.376873Z",
     "iopub.status.idle": "2023-07-08T15:03:21.426250Z",
     "shell.execute_reply": "2023-07-08T15:03:21.425228Z"
    },
    "papermill": {
     "duration": 0.074762,
     "end_time": "2023-07-08T15:03:21.429572",
     "exception": false,
     "start_time": "2023-07-08T15:03:21.354810",
     "status": "completed"
    },
    "tags": []
   },
   "outputs": [
    {
     "data": {
      "application/vnd.microsoft.datawrangler.viewer.v0+json": {
       "columns": [
        {
         "name": "index",
         "rawType": "object",
         "type": "string"
        },
        {
         "name": "Person ID",
         "rawType": "float64",
         "type": "float"
        },
        {
         "name": "Age",
         "rawType": "float64",
         "type": "float"
        },
        {
         "name": "Sleep Duration",
         "rawType": "float64",
         "type": "float"
        },
        {
         "name": "Physical Activity Level",
         "rawType": "float64",
         "type": "float"
        },
        {
         "name": "Heart Rate",
         "rawType": "float64",
         "type": "float"
        },
        {
         "name": "Daily Steps",
         "rawType": "float64",
         "type": "float"
        }
       ],
       "ref": "d7b09998-5213-454d-a4fb-4a5b38690fb1",
       "rows": [
        [
         "count",
         "374.0",
         "374.0",
         "374.0",
         "374.0",
         "374.0",
         "374.0"
        ],
        [
         "mean",
         "187.5",
         "42.18449197860963",
         "7.132085561497325",
         "59.17112299465241",
         "70.16577540106952",
         "6816.844919786096"
        ],
        [
         "std",
         "108.10874155219827",
         "8.673133465547243",
         "0.7956567308898189",
         "20.83080365807167",
         "4.135675535112215",
         "1617.915679133636"
        ],
        [
         "min",
         "1.0",
         "27.0",
         "5.8",
         "30.0",
         "65.0",
         "3000.0"
        ],
        [
         "25%",
         "94.25",
         "35.25",
         "6.4",
         "45.0",
         "68.0",
         "5600.0"
        ],
        [
         "50%",
         "187.5",
         "43.0",
         "7.2",
         "60.0",
         "70.0",
         "7000.0"
        ],
        [
         "75%",
         "280.75",
         "50.0",
         "7.8",
         "75.0",
         "72.0",
         "8000.0"
        ],
        [
         "max",
         "374.0",
         "59.0",
         "8.5",
         "90.0",
         "86.0",
         "10000.0"
        ]
       ],
       "shape": {
        "columns": 6,
        "rows": 8
       }
      },
      "text/html": [
       "<div>\n",
       "<style scoped>\n",
       "    .dataframe tbody tr th:only-of-type {\n",
       "        vertical-align: middle;\n",
       "    }\n",
       "\n",
       "    .dataframe tbody tr th {\n",
       "        vertical-align: top;\n",
       "    }\n",
       "\n",
       "    .dataframe thead th {\n",
       "        text-align: right;\n",
       "    }\n",
       "</style>\n",
       "<table border=\"1\" class=\"dataframe\">\n",
       "  <thead>\n",
       "    <tr style=\"text-align: right;\">\n",
       "      <th></th>\n",
       "      <th>Person ID</th>\n",
       "      <th>Age</th>\n",
       "      <th>Sleep Duration</th>\n",
       "      <th>Physical Activity Level</th>\n",
       "      <th>Heart Rate</th>\n",
       "      <th>Daily Steps</th>\n",
       "    </tr>\n",
       "  </thead>\n",
       "  <tbody>\n",
       "    <tr>\n",
       "      <th>count</th>\n",
       "      <td>374.000000</td>\n",
       "      <td>374.000000</td>\n",
       "      <td>374.000000</td>\n",
       "      <td>374.000000</td>\n",
       "      <td>374.000000</td>\n",
       "      <td>374.000000</td>\n",
       "    </tr>\n",
       "    <tr>\n",
       "      <th>mean</th>\n",
       "      <td>187.500000</td>\n",
       "      <td>42.184492</td>\n",
       "      <td>7.132086</td>\n",
       "      <td>59.171123</td>\n",
       "      <td>70.165775</td>\n",
       "      <td>6816.844920</td>\n",
       "    </tr>\n",
       "    <tr>\n",
       "      <th>std</th>\n",
       "      <td>108.108742</td>\n",
       "      <td>8.673133</td>\n",
       "      <td>0.795657</td>\n",
       "      <td>20.830804</td>\n",
       "      <td>4.135676</td>\n",
       "      <td>1617.915679</td>\n",
       "    </tr>\n",
       "    <tr>\n",
       "      <th>min</th>\n",
       "      <td>1.000000</td>\n",
       "      <td>27.000000</td>\n",
       "      <td>5.800000</td>\n",
       "      <td>30.000000</td>\n",
       "      <td>65.000000</td>\n",
       "      <td>3000.000000</td>\n",
       "    </tr>\n",
       "    <tr>\n",
       "      <th>25%</th>\n",
       "      <td>94.250000</td>\n",
       "      <td>35.250000</td>\n",
       "      <td>6.400000</td>\n",
       "      <td>45.000000</td>\n",
       "      <td>68.000000</td>\n",
       "      <td>5600.000000</td>\n",
       "    </tr>\n",
       "    <tr>\n",
       "      <th>50%</th>\n",
       "      <td>187.500000</td>\n",
       "      <td>43.000000</td>\n",
       "      <td>7.200000</td>\n",
       "      <td>60.000000</td>\n",
       "      <td>70.000000</td>\n",
       "      <td>7000.000000</td>\n",
       "    </tr>\n",
       "    <tr>\n",
       "      <th>75%</th>\n",
       "      <td>280.750000</td>\n",
       "      <td>50.000000</td>\n",
       "      <td>7.800000</td>\n",
       "      <td>75.000000</td>\n",
       "      <td>72.000000</td>\n",
       "      <td>8000.000000</td>\n",
       "    </tr>\n",
       "    <tr>\n",
       "      <th>max</th>\n",
       "      <td>374.000000</td>\n",
       "      <td>59.000000</td>\n",
       "      <td>8.500000</td>\n",
       "      <td>90.000000</td>\n",
       "      <td>86.000000</td>\n",
       "      <td>10000.000000</td>\n",
       "    </tr>\n",
       "  </tbody>\n",
       "</table>\n",
       "</div>"
      ],
      "text/plain": [
       "        Person ID         Age  Sleep Duration  Physical Activity Level  \\\n",
       "count  374.000000  374.000000      374.000000               374.000000   \n",
       "mean   187.500000   42.184492        7.132086                59.171123   \n",
       "std    108.108742    8.673133        0.795657                20.830804   \n",
       "min      1.000000   27.000000        5.800000                30.000000   \n",
       "25%     94.250000   35.250000        6.400000                45.000000   \n",
       "50%    187.500000   43.000000        7.200000                60.000000   \n",
       "75%    280.750000   50.000000        7.800000                75.000000   \n",
       "max    374.000000   59.000000        8.500000                90.000000   \n",
       "\n",
       "       Heart Rate   Daily Steps  \n",
       "count  374.000000    374.000000  \n",
       "mean    70.165775   6816.844920  \n",
       "std      4.135676   1617.915679  \n",
       "min     65.000000   3000.000000  \n",
       "25%     68.000000   5600.000000  \n",
       "50%     70.000000   7000.000000  \n",
       "75%     72.000000   8000.000000  \n",
       "max     86.000000  10000.000000  "
      ]
     },
     "execution_count": 5,
     "metadata": {},
     "output_type": "execute_result"
    }
   ],
   "source": [
    "df.describe()"
   ]
  },
  {
   "cell_type": "code",
   "execution_count": 6,
   "id": "477c881a",
   "metadata": {
    "execution": {
     "iopub.execute_input": "2023-07-08T15:03:22.051612Z",
     "iopub.status.busy": "2023-07-08T15:03:22.050778Z",
     "iopub.status.idle": "2023-07-08T15:03:23.791282Z",
     "shell.execute_reply": "2023-07-08T15:03:23.789370Z"
    },
    "papermill": {
     "duration": 1.767761,
     "end_time": "2023-07-08T15:03:23.794589",
     "exception": false,
     "start_time": "2023-07-08T15:03:22.026828",
     "status": "completed"
    },
    "tags": []
   },
   "outputs": [
    {
     "data": {
      "application/vnd.microsoft.datawrangler.viewer.v0+json": {
       "columns": [
        {
         "name": "index",
         "rawType": "int64",
         "type": "integer"
        },
        {
         "name": "Person ID",
         "rawType": "int64",
         "type": "integer"
        },
        {
         "name": "Gender",
         "rawType": "int64",
         "type": "integer"
        },
        {
         "name": "Age",
         "rawType": "int64",
         "type": "integer"
        },
        {
         "name": "Sleep Duration",
         "rawType": "float64",
         "type": "float"
        },
        {
         "name": "Physical Activity Level",
         "rawType": "int64",
         "type": "integer"
        },
        {
         "name": "BMI Category",
         "rawType": "int64",
         "type": "integer"
        },
        {
         "name": "Heart Rate",
         "rawType": "int64",
         "type": "integer"
        },
        {
         "name": "Daily Steps",
         "rawType": "int64",
         "type": "integer"
        },
        {
         "name": "Sleep Disorder",
         "rawType": "int64",
         "type": "integer"
        }
       ],
       "ref": "f7d46392-f4fb-4494-b588-1fba2e1ae53d",
       "rows": [
        [
         "0",
         "1",
         "1",
         "27",
         "6.1",
         "42",
         "3",
         "77",
         "4200",
         "2"
        ],
        [
         "1",
         "2",
         "1",
         "28",
         "6.2",
         "60",
         "0",
         "75",
         "10000",
         "2"
        ],
        [
         "2",
         "3",
         "1",
         "28",
         "6.2",
         "60",
         "0",
         "75",
         "10000",
         "2"
        ],
        [
         "3",
         "4",
         "1",
         "28",
         "5.9",
         "30",
         "2",
         "85",
         "3000",
         "1"
        ],
        [
         "4",
         "5",
         "1",
         "28",
         "5.9",
         "30",
         "2",
         "85",
         "3000",
         "1"
        ]
       ],
       "shape": {
        "columns": 9,
        "rows": 5
       }
      },
      "text/html": [
       "<div>\n",
       "<style scoped>\n",
       "    .dataframe tbody tr th:only-of-type {\n",
       "        vertical-align: middle;\n",
       "    }\n",
       "\n",
       "    .dataframe tbody tr th {\n",
       "        vertical-align: top;\n",
       "    }\n",
       "\n",
       "    .dataframe thead th {\n",
       "        text-align: right;\n",
       "    }\n",
       "</style>\n",
       "<table border=\"1\" class=\"dataframe\">\n",
       "  <thead>\n",
       "    <tr style=\"text-align: right;\">\n",
       "      <th></th>\n",
       "      <th>Person ID</th>\n",
       "      <th>Gender</th>\n",
       "      <th>Age</th>\n",
       "      <th>Sleep Duration</th>\n",
       "      <th>Physical Activity Level</th>\n",
       "      <th>BMI Category</th>\n",
       "      <th>Heart Rate</th>\n",
       "      <th>Daily Steps</th>\n",
       "      <th>Sleep Disorder</th>\n",
       "    </tr>\n",
       "  </thead>\n",
       "  <tbody>\n",
       "    <tr>\n",
       "      <th>0</th>\n",
       "      <td>1</td>\n",
       "      <td>1</td>\n",
       "      <td>27</td>\n",
       "      <td>6.1</td>\n",
       "      <td>42</td>\n",
       "      <td>3</td>\n",
       "      <td>77</td>\n",
       "      <td>4200</td>\n",
       "      <td>2</td>\n",
       "    </tr>\n",
       "    <tr>\n",
       "      <th>1</th>\n",
       "      <td>2</td>\n",
       "      <td>1</td>\n",
       "      <td>28</td>\n",
       "      <td>6.2</td>\n",
       "      <td>60</td>\n",
       "      <td>0</td>\n",
       "      <td>75</td>\n",
       "      <td>10000</td>\n",
       "      <td>2</td>\n",
       "    </tr>\n",
       "    <tr>\n",
       "      <th>2</th>\n",
       "      <td>3</td>\n",
       "      <td>1</td>\n",
       "      <td>28</td>\n",
       "      <td>6.2</td>\n",
       "      <td>60</td>\n",
       "      <td>0</td>\n",
       "      <td>75</td>\n",
       "      <td>10000</td>\n",
       "      <td>2</td>\n",
       "    </tr>\n",
       "    <tr>\n",
       "      <th>3</th>\n",
       "      <td>4</td>\n",
       "      <td>1</td>\n",
       "      <td>28</td>\n",
       "      <td>5.9</td>\n",
       "      <td>30</td>\n",
       "      <td>2</td>\n",
       "      <td>85</td>\n",
       "      <td>3000</td>\n",
       "      <td>1</td>\n",
       "    </tr>\n",
       "    <tr>\n",
       "      <th>4</th>\n",
       "      <td>5</td>\n",
       "      <td>1</td>\n",
       "      <td>28</td>\n",
       "      <td>5.9</td>\n",
       "      <td>30</td>\n",
       "      <td>2</td>\n",
       "      <td>85</td>\n",
       "      <td>3000</td>\n",
       "      <td>1</td>\n",
       "    </tr>\n",
       "  </tbody>\n",
       "</table>\n",
       "</div>"
      ],
      "text/plain": [
       "   Person ID  Gender  Age  Sleep Duration  Physical Activity Level  \\\n",
       "0          1       1   27             6.1                       42   \n",
       "1          2       1   28             6.2                       60   \n",
       "2          3       1   28             6.2                       60   \n",
       "3          4       1   28             5.9                       30   \n",
       "4          5       1   28             5.9                       30   \n",
       "\n",
       "   BMI Category  Heart Rate  Daily Steps  Sleep Disorder  \n",
       "0             3          77         4200               2  \n",
       "1             0          75        10000               2  \n",
       "2             0          75        10000               2  \n",
       "3             2          85         3000               1  \n",
       "4             2          85         3000               1  "
      ]
     },
     "execution_count": 6,
     "metadata": {},
     "output_type": "execute_result"
    }
   ],
   "source": [
    "bmi_encoder = preprocessing.LabelEncoder()\n",
    "sleep_encoder = preprocessing.LabelEncoder()\n",
    "gender_encoder = preprocessing.LabelEncoder()\n",
    "\n",
    "df['BMI Category'] = bmi_encoder.fit_transform(df['BMI Category'])\n",
    "df['Sleep Disorder'] = sleep_encoder.fit_transform(df['Sleep Disorder'])\n",
    "df['Gender'] = gender_encoder.fit_transform(df['Gender'])\n",
    "df.head()\n",
    "\n"
   ]
  },
  {
   "cell_type": "code",
   "execution_count": 7,
   "id": "5414f1dd",
   "metadata": {
    "execution": {
     "iopub.execute_input": "2023-07-08T15:03:23.840017Z",
     "iopub.status.busy": "2023-07-08T15:03:23.839602Z",
     "iopub.status.idle": "2023-07-08T15:03:23.861060Z",
     "shell.execute_reply": "2023-07-08T15:03:23.860025Z"
    },
    "papermill": {
     "duration": 0.048144,
     "end_time": "2023-07-08T15:03:23.864085",
     "exception": false,
     "start_time": "2023-07-08T15:03:23.815941",
     "status": "completed"
    },
    "tags": []
   },
   "outputs": [],
   "source": [
    "# Outlier Removal\n",
    "num_col = ['Age', 'Sleep Duration', 'Physical Activity Level',\n",
    "           'Heart Rate', 'Daily Steps']\n",
    "\n",
    "Q1 = df[num_col].quantile(0.25)\n",
    "Q3 = df[num_col].quantile(0.75)\n",
    "IQR = Q3 - Q1\n",
    "\n",
    "df = df[~((df[num_col] < (Q1 - 1.5 * IQR)) | (df[num_col] > (Q3 + 1.5 * IQR))).any(axis=1)]\n"
   ]
  },
  {
   "cell_type": "markdown",
   "id": "16a8f932",
   "metadata": {
    "papermill": {
     "duration": 0.029025,
     "end_time": "2023-07-08T15:03:29.450891",
     "exception": false,
     "start_time": "2023-07-08T15:03:29.421866",
     "status": "completed"
    },
    "tags": []
   },
   "source": [
    "# Prediction time!"
   ]
  },
  {
   "cell_type": "code",
   "execution_count": 8,
   "id": "78538dbf",
   "metadata": {
    "execution": {
     "iopub.execute_input": "2023-07-08T15:03:29.522089Z",
     "iopub.status.busy": "2023-07-08T15:03:29.520248Z",
     "iopub.status.idle": "2023-07-08T15:03:30.312505Z",
     "shell.execute_reply": "2023-07-08T15:03:30.310229Z"
    },
    "papermill": {
     "duration": 0.836963,
     "end_time": "2023-07-08T15:03:30.317255",
     "exception": false,
     "start_time": "2023-07-08T15:03:29.480292",
     "status": "completed"
    },
    "tags": []
   },
   "outputs": [],
   "source": [
    "from sklearn.model_selection import train_test_split"
   ]
  },
  {
   "cell_type": "markdown",
   "id": "e31607f5",
   "metadata": {
    "papermill": {
     "duration": 0.02986,
     "end_time": "2023-07-08T15:03:30.373965",
     "exception": false,
     "start_time": "2023-07-08T15:03:30.344105",
     "status": "completed"
    },
    "tags": []
   },
   "source": [
    "# Prepare the data"
   ]
  },
  {
   "cell_type": "code",
   "execution_count": 9,
   "id": "882a1233",
   "metadata": {
    "execution": {
     "iopub.execute_input": "2023-07-08T15:03:30.434620Z",
     "iopub.status.busy": "2023-07-08T15:03:30.433648Z",
     "iopub.status.idle": "2023-07-08T15:03:30.442584Z",
     "shell.execute_reply": "2023-07-08T15:03:30.440903Z"
    },
    "papermill": {
     "duration": 0.042619,
     "end_time": "2023-07-08T15:03:30.445928",
     "exception": false,
     "start_time": "2023-07-08T15:03:30.403309",
     "status": "completed"
    },
    "tags": []
   },
   "outputs": [],
   "source": [
    "# Prepare the data\n",
    "X = df.drop(['Person ID', 'Sleep Disorder'], axis=1)\n",
    "y = df['Sleep Disorder']"
   ]
  },
  {
   "cell_type": "markdown",
   "id": "0cc5cdfc",
   "metadata": {
    "papermill": {
     "duration": 0.029437,
     "end_time": "2023-07-08T15:03:30.578935",
     "exception": false,
     "start_time": "2023-07-08T15:03:30.549498",
     "status": "completed"
    },
    "tags": []
   },
   "source": [
    "# Split the data into train and test sets"
   ]
  },
  {
   "cell_type": "code",
   "execution_count": 10,
   "id": "1f2f9a85",
   "metadata": {},
   "outputs": [
    {
     "data": {
      "application/vnd.microsoft.datawrangler.viewer.v0+json": {
       "columns": [
        {
         "name": "index",
         "rawType": "int64",
         "type": "integer"
        },
        {
         "name": "Gender",
         "rawType": "int64",
         "type": "integer"
        },
        {
         "name": "Age",
         "rawType": "int64",
         "type": "integer"
        },
        {
         "name": "Sleep Duration",
         "rawType": "float64",
         "type": "float"
        },
        {
         "name": "Physical Activity Level",
         "rawType": "int64",
         "type": "integer"
        },
        {
         "name": "BMI Category",
         "rawType": "int64",
         "type": "integer"
        },
        {
         "name": "Heart Rate",
         "rawType": "int64",
         "type": "integer"
        },
        {
         "name": "Daily Steps",
         "rawType": "int64",
         "type": "integer"
        }
       ],
       "ref": "9d038945-90e0-4367-b5e3-3f25dcdab84b",
       "rows": [
        [
         "0",
         "1",
         "27",
         "6.1",
         "42",
         "3",
         "77",
         "4200"
        ],
        [
         "1",
         "1",
         "28",
         "6.2",
         "60",
         "0",
         "75",
         "10000"
        ],
        [
         "2",
         "1",
         "28",
         "6.2",
         "60",
         "0",
         "75",
         "10000"
        ],
        [
         "7",
         "1",
         "29",
         "7.8",
         "75",
         "0",
         "70",
         "8000"
        ],
        [
         "8",
         "1",
         "29",
         "7.8",
         "75",
         "0",
         "70",
         "8000"
        ],
        [
         "9",
         "1",
         "29",
         "7.8",
         "75",
         "0",
         "70",
         "8000"
        ],
        [
         "10",
         "1",
         "29",
         "6.1",
         "30",
         "0",
         "70",
         "8000"
        ],
        [
         "11",
         "1",
         "29",
         "7.8",
         "75",
         "0",
         "70",
         "8000"
        ],
        [
         "12",
         "1",
         "29",
         "6.1",
         "30",
         "0",
         "70",
         "8000"
        ],
        [
         "13",
         "1",
         "29",
         "6.0",
         "30",
         "0",
         "70",
         "8000"
        ],
        [
         "14",
         "1",
         "29",
         "6.0",
         "30",
         "0",
         "70",
         "8000"
        ],
        [
         "15",
         "1",
         "29",
         "6.0",
         "30",
         "0",
         "70",
         "8000"
        ],
        [
         "17",
         "1",
         "29",
         "6.0",
         "30",
         "0",
         "70",
         "8000"
        ],
        [
         "19",
         "1",
         "30",
         "7.6",
         "75",
         "0",
         "70",
         "8000"
        ],
        [
         "20",
         "1",
         "30",
         "7.7",
         "75",
         "0",
         "70",
         "8000"
        ],
        [
         "21",
         "1",
         "30",
         "7.7",
         "75",
         "0",
         "70",
         "8000"
        ],
        [
         "22",
         "1",
         "30",
         "7.7",
         "75",
         "0",
         "70",
         "8000"
        ],
        [
         "23",
         "1",
         "30",
         "7.7",
         "75",
         "0",
         "70",
         "8000"
        ],
        [
         "24",
         "1",
         "30",
         "7.8",
         "75",
         "0",
         "70",
         "8000"
        ],
        [
         "25",
         "1",
         "30",
         "7.9",
         "75",
         "0",
         "70",
         "8000"
        ],
        [
         "26",
         "1",
         "30",
         "7.8",
         "75",
         "0",
         "70",
         "8000"
        ],
        [
         "27",
         "1",
         "30",
         "7.9",
         "75",
         "0",
         "70",
         "8000"
        ],
        [
         "28",
         "1",
         "30",
         "7.9",
         "75",
         "0",
         "70",
         "8000"
        ],
        [
         "29",
         "1",
         "30",
         "7.9",
         "75",
         "0",
         "70",
         "8000"
        ],
        [
         "30",
         "0",
         "30",
         "6.4",
         "35",
         "1",
         "78",
         "4100"
        ],
        [
         "31",
         "0",
         "30",
         "6.4",
         "35",
         "1",
         "78",
         "4100"
        ],
        [
         "32",
         "0",
         "31",
         "7.9",
         "75",
         "1",
         "69",
         "6800"
        ],
        [
         "33",
         "1",
         "31",
         "6.1",
         "30",
         "0",
         "72",
         "5000"
        ],
        [
         "34",
         "1",
         "31",
         "7.7",
         "75",
         "0",
         "70",
         "8000"
        ],
        [
         "35",
         "1",
         "31",
         "6.1",
         "30",
         "0",
         "72",
         "5000"
        ],
        [
         "36",
         "1",
         "31",
         "6.1",
         "30",
         "0",
         "72",
         "5000"
        ],
        [
         "37",
         "1",
         "31",
         "7.6",
         "75",
         "0",
         "70",
         "8000"
        ],
        [
         "38",
         "1",
         "31",
         "7.6",
         "75",
         "0",
         "70",
         "8000"
        ],
        [
         "39",
         "1",
         "31",
         "7.6",
         "75",
         "0",
         "70",
         "8000"
        ],
        [
         "40",
         "1",
         "31",
         "7.7",
         "75",
         "0",
         "70",
         "8000"
        ],
        [
         "41",
         "1",
         "31",
         "7.7",
         "75",
         "0",
         "70",
         "8000"
        ],
        [
         "42",
         "1",
         "31",
         "7.7",
         "75",
         "0",
         "70",
         "8000"
        ],
        [
         "43",
         "1",
         "31",
         "7.8",
         "75",
         "0",
         "70",
         "8000"
        ],
        [
         "44",
         "1",
         "31",
         "7.7",
         "75",
         "0",
         "70",
         "8000"
        ],
        [
         "45",
         "1",
         "31",
         "7.8",
         "75",
         "0",
         "70",
         "8000"
        ],
        [
         "46",
         "1",
         "31",
         "7.7",
         "75",
         "0",
         "70",
         "8000"
        ],
        [
         "47",
         "1",
         "31",
         "7.8",
         "75",
         "0",
         "70",
         "8000"
        ],
        [
         "48",
         "1",
         "31",
         "7.7",
         "75",
         "0",
         "70",
         "8000"
        ],
        [
         "49",
         "1",
         "31",
         "7.7",
         "75",
         "0",
         "70",
         "8000"
        ],
        [
         "50",
         "1",
         "32",
         "7.5",
         "45",
         "0",
         "70",
         "8000"
        ],
        [
         "51",
         "1",
         "32",
         "7.5",
         "45",
         "0",
         "70",
         "8000"
        ],
        [
         "52",
         "1",
         "32",
         "6.0",
         "30",
         "0",
         "72",
         "5000"
        ],
        [
         "53",
         "1",
         "32",
         "7.6",
         "75",
         "0",
         "70",
         "8000"
        ],
        [
         "54",
         "1",
         "32",
         "6.0",
         "30",
         "0",
         "72",
         "5000"
        ],
        [
         "55",
         "1",
         "32",
         "6.0",
         "30",
         "0",
         "72",
         "5000"
        ]
       ],
       "shape": {
        "columns": 7,
        "rows": 359
       }
      },
      "text/html": [
       "<div>\n",
       "<style scoped>\n",
       "    .dataframe tbody tr th:only-of-type {\n",
       "        vertical-align: middle;\n",
       "    }\n",
       "\n",
       "    .dataframe tbody tr th {\n",
       "        vertical-align: top;\n",
       "    }\n",
       "\n",
       "    .dataframe thead th {\n",
       "        text-align: right;\n",
       "    }\n",
       "</style>\n",
       "<table border=\"1\" class=\"dataframe\">\n",
       "  <thead>\n",
       "    <tr style=\"text-align: right;\">\n",
       "      <th></th>\n",
       "      <th>Gender</th>\n",
       "      <th>Age</th>\n",
       "      <th>Sleep Duration</th>\n",
       "      <th>Physical Activity Level</th>\n",
       "      <th>BMI Category</th>\n",
       "      <th>Heart Rate</th>\n",
       "      <th>Daily Steps</th>\n",
       "    </tr>\n",
       "  </thead>\n",
       "  <tbody>\n",
       "    <tr>\n",
       "      <th>0</th>\n",
       "      <td>1</td>\n",
       "      <td>27</td>\n",
       "      <td>6.1</td>\n",
       "      <td>42</td>\n",
       "      <td>3</td>\n",
       "      <td>77</td>\n",
       "      <td>4200</td>\n",
       "    </tr>\n",
       "    <tr>\n",
       "      <th>1</th>\n",
       "      <td>1</td>\n",
       "      <td>28</td>\n",
       "      <td>6.2</td>\n",
       "      <td>60</td>\n",
       "      <td>0</td>\n",
       "      <td>75</td>\n",
       "      <td>10000</td>\n",
       "    </tr>\n",
       "    <tr>\n",
       "      <th>2</th>\n",
       "      <td>1</td>\n",
       "      <td>28</td>\n",
       "      <td>6.2</td>\n",
       "      <td>60</td>\n",
       "      <td>0</td>\n",
       "      <td>75</td>\n",
       "      <td>10000</td>\n",
       "    </tr>\n",
       "    <tr>\n",
       "      <th>7</th>\n",
       "      <td>1</td>\n",
       "      <td>29</td>\n",
       "      <td>7.8</td>\n",
       "      <td>75</td>\n",
       "      <td>0</td>\n",
       "      <td>70</td>\n",
       "      <td>8000</td>\n",
       "    </tr>\n",
       "    <tr>\n",
       "      <th>8</th>\n",
       "      <td>1</td>\n",
       "      <td>29</td>\n",
       "      <td>7.8</td>\n",
       "      <td>75</td>\n",
       "      <td>0</td>\n",
       "      <td>70</td>\n",
       "      <td>8000</td>\n",
       "    </tr>\n",
       "    <tr>\n",
       "      <th>...</th>\n",
       "      <td>...</td>\n",
       "      <td>...</td>\n",
       "      <td>...</td>\n",
       "      <td>...</td>\n",
       "      <td>...</td>\n",
       "      <td>...</td>\n",
       "      <td>...</td>\n",
       "    </tr>\n",
       "    <tr>\n",
       "      <th>369</th>\n",
       "      <td>0</td>\n",
       "      <td>59</td>\n",
       "      <td>8.1</td>\n",
       "      <td>75</td>\n",
       "      <td>3</td>\n",
       "      <td>68</td>\n",
       "      <td>7000</td>\n",
       "    </tr>\n",
       "    <tr>\n",
       "      <th>370</th>\n",
       "      <td>0</td>\n",
       "      <td>59</td>\n",
       "      <td>8.0</td>\n",
       "      <td>75</td>\n",
       "      <td>3</td>\n",
       "      <td>68</td>\n",
       "      <td>7000</td>\n",
       "    </tr>\n",
       "    <tr>\n",
       "      <th>371</th>\n",
       "      <td>0</td>\n",
       "      <td>59</td>\n",
       "      <td>8.1</td>\n",
       "      <td>75</td>\n",
       "      <td>3</td>\n",
       "      <td>68</td>\n",
       "      <td>7000</td>\n",
       "    </tr>\n",
       "    <tr>\n",
       "      <th>372</th>\n",
       "      <td>0</td>\n",
       "      <td>59</td>\n",
       "      <td>8.1</td>\n",
       "      <td>75</td>\n",
       "      <td>3</td>\n",
       "      <td>68</td>\n",
       "      <td>7000</td>\n",
       "    </tr>\n",
       "    <tr>\n",
       "      <th>373</th>\n",
       "      <td>0</td>\n",
       "      <td>59</td>\n",
       "      <td>8.1</td>\n",
       "      <td>75</td>\n",
       "      <td>3</td>\n",
       "      <td>68</td>\n",
       "      <td>7000</td>\n",
       "    </tr>\n",
       "  </tbody>\n",
       "</table>\n",
       "<p>359 rows × 7 columns</p>\n",
       "</div>"
      ],
      "text/plain": [
       "     Gender  Age  Sleep Duration  Physical Activity Level  BMI Category  \\\n",
       "0         1   27             6.1                       42             3   \n",
       "1         1   28             6.2                       60             0   \n",
       "2         1   28             6.2                       60             0   \n",
       "7         1   29             7.8                       75             0   \n",
       "8         1   29             7.8                       75             0   \n",
       "..      ...  ...             ...                      ...           ...   \n",
       "369       0   59             8.1                       75             3   \n",
       "370       0   59             8.0                       75             3   \n",
       "371       0   59             8.1                       75             3   \n",
       "372       0   59             8.1                       75             3   \n",
       "373       0   59             8.1                       75             3   \n",
       "\n",
       "     Heart Rate  Daily Steps  \n",
       "0            77         4200  \n",
       "1            75        10000  \n",
       "2            75        10000  \n",
       "7            70         8000  \n",
       "8            70         8000  \n",
       "..          ...          ...  \n",
       "369          68         7000  \n",
       "370          68         7000  \n",
       "371          68         7000  \n",
       "372          68         7000  \n",
       "373          68         7000  \n",
       "\n",
       "[359 rows x 7 columns]"
      ]
     },
     "execution_count": 10,
     "metadata": {},
     "output_type": "execute_result"
    }
   ],
   "source": [
    "X"
   ]
  },
  {
   "cell_type": "code",
   "execution_count": 11,
   "id": "4f911692",
   "metadata": {},
   "outputs": [
    {
     "data": {
      "application/vnd.microsoft.datawrangler.viewer.v0+json": {
       "columns": [
        {
         "name": "index",
         "rawType": "int64",
         "type": "integer"
        },
        {
         "name": "Sleep Disorder",
         "rawType": "int64",
         "type": "integer"
        }
       ],
       "ref": "c84abc68-c845-45d3-bf47-fd07199ed188",
       "rows": [
        [
         "0",
         "2"
        ],
        [
         "1",
         "2"
        ],
        [
         "2",
         "2"
        ],
        [
         "7",
         "2"
        ],
        [
         "8",
         "2"
        ],
        [
         "9",
         "2"
        ],
        [
         "10",
         "2"
        ],
        [
         "11",
         "2"
        ],
        [
         "12",
         "2"
        ],
        [
         "13",
         "2"
        ],
        [
         "14",
         "2"
        ],
        [
         "15",
         "2"
        ],
        [
         "17",
         "1"
        ],
        [
         "19",
         "2"
        ],
        [
         "20",
         "2"
        ],
        [
         "21",
         "2"
        ],
        [
         "22",
         "2"
        ],
        [
         "23",
         "2"
        ],
        [
         "24",
         "2"
        ],
        [
         "25",
         "2"
        ],
        [
         "26",
         "2"
        ],
        [
         "27",
         "2"
        ],
        [
         "28",
         "2"
        ],
        [
         "29",
         "2"
        ],
        [
         "30",
         "1"
        ],
        [
         "31",
         "0"
        ],
        [
         "32",
         "2"
        ],
        [
         "33",
         "2"
        ],
        [
         "34",
         "2"
        ],
        [
         "35",
         "2"
        ],
        [
         "36",
         "2"
        ],
        [
         "37",
         "2"
        ],
        [
         "38",
         "2"
        ],
        [
         "39",
         "2"
        ],
        [
         "40",
         "2"
        ],
        [
         "41",
         "2"
        ],
        [
         "42",
         "2"
        ],
        [
         "43",
         "2"
        ],
        [
         "44",
         "2"
        ],
        [
         "45",
         "2"
        ],
        [
         "46",
         "2"
        ],
        [
         "47",
         "2"
        ],
        [
         "48",
         "2"
        ],
        [
         "49",
         "1"
        ],
        [
         "50",
         "2"
        ],
        [
         "51",
         "2"
        ],
        [
         "52",
         "2"
        ],
        [
         "53",
         "2"
        ],
        [
         "54",
         "2"
        ],
        [
         "55",
         "2"
        ]
       ],
       "shape": {
        "columns": 1,
        "rows": 359
       }
      },
      "text/plain": [
       "0      2\n",
       "1      2\n",
       "2      2\n",
       "7      2\n",
       "8      2\n",
       "      ..\n",
       "369    1\n",
       "370    1\n",
       "371    1\n",
       "372    1\n",
       "373    1\n",
       "Name: Sleep Disorder, Length: 359, dtype: int64"
      ]
     },
     "execution_count": 11,
     "metadata": {},
     "output_type": "execute_result"
    }
   ],
   "source": [
    "y"
   ]
  },
  {
   "cell_type": "code",
   "execution_count": 12,
   "id": "3a1a84f9",
   "metadata": {
    "execution": {
     "iopub.execute_input": "2023-07-08T15:03:30.648180Z",
     "iopub.status.busy": "2023-07-08T15:03:30.647194Z",
     "iopub.status.idle": "2023-07-08T15:03:30.656504Z",
     "shell.execute_reply": "2023-07-08T15:03:30.655362Z"
    },
    "papermill": {
     "duration": 0.049029,
     "end_time": "2023-07-08T15:03:30.660060",
     "exception": false,
     "start_time": "2023-07-08T15:03:30.611031",
     "status": "completed"
    },
    "tags": []
   },
   "outputs": [],
   "source": [
    "X_train, X_test, y_train, y_test = train_test_split(X, y, test_size=0.2, random_state=2)"
   ]
  },
  {
   "cell_type": "markdown",
   "id": "9bc221f6",
   "metadata": {
    "papermill": {
     "duration": 0.028755,
     "end_time": "2023-07-08T15:03:30.716116",
     "exception": false,
     "start_time": "2023-07-08T15:03:30.687361",
     "status": "completed"
    },
    "tags": []
   },
   "source": [
    "# Create a pipeline"
   ]
  },
  {
   "cell_type": "code",
   "execution_count": 13,
   "id": "03d42cb9",
   "metadata": {},
   "outputs": [],
   "source": [
    "# Модель логистической регрессии с масштабированием признаков\n",
    "\n",
    "from sklearn.pipeline import Pipeline\n",
    "from sklearn.ensemble import RandomForestClassifier\n",
    "\n",
    "\n",
    "\n",
    "logreg_pipeline = Pipeline([\n",
    "    # ('scaler', StandardScaler()),\n",
    "    ('clf', RandomForestClassifier())\n",
    "])\n",
    "\n",
    "logreg_pipeline.fit(X_train, y_train)\n",
    "y_pred_logreg = logreg_pipeline.predict(X_test)"
   ]
  },
  {
   "cell_type": "code",
   "execution_count": 14,
   "id": "2bf6efde",
   "metadata": {},
   "outputs": [
    {
     "data": {
      "image/png": "[encoded data removed]",
      "text/plain": [
       "<Figure size 800x400 with 1 Axes>"
      ]
     },
     "metadata": {},
     "output_type": "display_data"
    },
    {
     "name": "stdout",
     "output_type": "stream",
     "text": [
      "Classification report:\n",
      "               precision    recall  f1-score   support\n",
      "\n",
      "           0       0.87      0.87      0.87        15\n",
      "           1       1.00      0.79      0.88        14\n",
      "           2       0.91      0.98      0.94        43\n",
      "\n",
      "    accuracy                           0.92        72\n",
      "   macro avg       0.93      0.88      0.90        72\n",
      "weighted avg       0.92      0.92      0.92        72\n",
      "\n"
     ]
    },
    {
     "data": {
      "image/png": "[encoded data removed]",
      "text/plain": [
       "<Figure size 640x480 with 2 Axes>"
      ]
     },
     "metadata": {},
     "output_type": "display_data"
    }
   ],
   "source": [
    "from sklearn.metrics import classification_report, confusion_matrix, ConfusionMatrixDisplay\n",
    "\n",
    "# Визуализация весов параметров логистической регрессии\n",
    "import matplotlib.pyplot as plt\n",
    "\n",
    "# Получаем важности признаков для GradientBoostingClassifier\n",
    "importances = logreg_pipeline.named_steps['clf'].feature_importances_\n",
    "feature_names = X.columns\n",
    "\n",
    "\n",
    "sorted_idx = np.argsort(importances)\n",
    "plt.figure(figsize=(8, 4))\n",
    "plt.bar(np.array(feature_names)[sorted_idx], importances[sorted_idx])\n",
    "plt.title('Feature Importances (Gradient Boosting)')\n",
    "plt.ylabel('Importance')\n",
    "plt.xticks(rotation=45)\n",
    "plt.tight_layout()\n",
    "plt.show()\n",
    "\n",
    "# Метрики качества\n",
    "print(\"Classification report:\\n\", classification_report(y_test, y_pred_logreg))\n",
    "\n",
    "# Матрица ошибок\n",
    "cm = confusion_matrix(y_test, y_pred_logreg)\n",
    "disp = ConfusionMatrixDisplay(confusion_matrix=cm)\n",
    "disp.plot(cmap='Blues')\n",
    "plt.title('Confusion Matrix (Logistic Regression)')\n",
    "plt.show()\n",
    "\n"
   ]
  },
  {
   "cell_type": "code",
   "execution_count": 15,
   "id": "052434cb",
   "metadata": {},
   "outputs": [
    {
     "data": {
      "image/png": "[encoded data removed]",
      "text/plain": [
       "<Figure size 800x400 with 1 Axes>"
      ]
     },
     "metadata": {},
     "output_type": "display_data"
    }
   ],
   "source": [
    "# Отсортированные значения важности признаков\n",
    "sorted_idx = np.argsort(importances)\n",
    "plt.figure(figsize=(8, 4))\n",
    "plt.bar(np.array(X.columns)[sorted_idx], importances[sorted_idx])\n",
    "plt.title('Feature Importances (Gradient Boosting)')\n",
    "plt.ylabel('Importance')\n",
    "plt.xticks(rotation=45)\n",
    "plt.tight_layout()\n",
    "plt.show()\n"
   ]
  },
  {
   "cell_type": "code",
   "execution_count": 16,
   "id": "28780bf7",
   "metadata": {},
   "outputs": [
    {
     "name": "stdout",
     "output_type": "stream",
     "text": [
      "Gender (0=Female, 1=Male): 0\n",
      "Age: 58\n",
      "Sleep Duration (hours): 7.69\n",
      "Physical Activity Level (minutes/day): 40\n",
      "BMI Category (encoded): 2\n",
      "Heart Rate (bpm): 76\n",
      "Daily Steps: 5499\n",
      "Предсказание логистической регрессии для случайных данных (код): 2\n",
      "Insomnia: 0.092\n",
      "Sleep Apnea: 0.160\n",
      "nan: 0.748\n",
      "Предсказание логистической регрессии для случайных данных: nan\n"
     ]
    }
   ],
   "source": [
    "# Генерация случайного тестового сэмпла по каждому признаку отдельно\n",
    "gender = np.random.randint(0, 2)  # Gender: 0 - Female, 1 - Male\n",
    "print(f\"Gender (0=Female, 1=Male): {gender}\")\n",
    "\n",
    "age = np.random.randint(X['Age'].min(), X['Age'].max() + 1)\n",
    "print(f\"Age: {age}\")\n",
    "\n",
    "sleep_duration = np.random.uniform(X['Sleep Duration'].min(), X['Sleep Duration'].max())\n",
    "print(f\"Sleep Duration (hours): {sleep_duration:.2f}\")\n",
    "\n",
    "physical_activity = np.random.randint(X['Physical Activity Level'].min(), X['Physical Activity Level'].max() + 1)\n",
    "print(f\"Physical Activity Level (minutes/day): {physical_activity}\")\n",
    "\n",
    "bmi_category = np.random.randint(X['BMI Category'].min(), X['BMI Category'].max() + 1)\n",
    "print(f\"BMI Category (encoded): {bmi_category}\")\n",
    "\n",
    "heart_rate = np.random.randint(X['Heart Rate'].min(), X['Heart Rate'].max() + 1)\n",
    "print(f\"Heart Rate (bpm): {heart_rate}\")\n",
    "\n",
    "daily_steps = np.random.randint(X['Daily Steps'].min(), X['Daily Steps'].max() + 1)\n",
    "print(f\"Daily Steps: {daily_steps}\")\n",
    "\n",
    "# Собираем все параметры в массив для предсказания\n",
    "sample = np.array([[gender, age, sleep_duration, physical_activity, bmi_category, heart_rate, daily_steps]])\n",
    "\n",
    "# Предсказание\n",
    "random_pred = logreg_pipeline.named_steps['clf'].predict(sample)\n",
    "# Используем sleep_encoder для обратного преобразования, если класс встречался при обучении\n",
    "if all(label in sleep_encoder.classes_ for label in random_pred):\n",
    "    random_pred_text = sleep_encoder.inverse_transform(random_pred)\n",
    "    print(\"Предсказание логистической регрессии для случайных данных:\", random_pred_text[0])\n",
    "else:\n",
    "    # Если класс не встречался, выводим числовое значение\n",
    "    print(\"Предсказание логистической регрессии для случайных данных (код):\", random_pred[0])\n",
    "\n",
    "probas = logreg_pipeline.named_steps['clf'].predict_proba(sample)\n",
    "for label, prob in zip(sleep_encoder.classes_, probas[0]):\n",
    "    print(f\"{label}: {prob:.3f}\")\n",
    "\n",
    "\n",
    "# Предсказание\n",
    "random_pred = logreg_pipeline.named_steps['clf'].predict(sample)\n",
    "# Преобразуем числовой код в название диагноза\n",
    "diagnosis_name = sleep_encoder.inverse_transform(random_pred)\n",
    "print(\"Предсказание логистической регрессии для случайных данных:\", diagnosis_name[0])\n"
   ]
  },
  {
   "cell_type": "code",
   "execution_count": 17,
   "id": "476e219e",
   "metadata": {},
   "outputs": [],
   "source": [
    "import pickle\n",
    "\n",
    "# Сохраняем обученную модель и все энкодеры в один файл\n",
    "with open('insomnia_apnea.pkl', 'wb') as f:\n",
    "    pickle.dump({\n",
    "        'model': logreg_pipeline,\n",
    "        'sleep_encoder': sleep_encoder,\n",
    "        'bmi_encoder': bmi_encoder,\n",
    "        'gender_encoder': gender_encoder\n",
    "    }, f)\n"
   ]
  },
  {
   "cell_type": "code",
   "execution_count": 18,
   "id": "55e6feac",
   "metadata": {},
   "outputs": [
    {
     "name": "stdout",
     "output_type": "stream",
     "text": [
      "Случайные входные данные для прогноза:\n",
      "Gender: 0\n",
      "Age: 47\n",
      "Sleep Duration: 7.22\n",
      "Physical Activity Level: 66\n",
      "BMI Category: 1\n",
      "Heart Rate: 76\n",
      "Daily Steps: 8906\n",
      "\n",
      "Результат работы функции predict_sleep_disorder:\n"
     ]
    }
   ],
   "source": [
    "import numpy as np\n",
    "import json\n",
    "# Генерация случайных данных для прогноза\n",
    "\n",
    "gender = np.random.randint(0, 2)\n",
    "age = np.random.randint(1, X['Age'].max() + 1)\n",
    "sleep_duration = np.random.uniform(X['Sleep Duration'].min(), X['Sleep Duration'].max())\n",
    "\n",
    "# sleep_duration = np.random.uniform(1, 4)\n",
    "physical_activity = np.random.randint(X['Physical Activity Level'].min(), X['Physical Activity Level'].max() + 1)\n",
    "# physical_activity = np.random.randint(0, 5)\n",
    "bmi_category = np.random.randint(X['BMI Category'].min(), X['BMI Category'].max() + 1)\n",
    "# heart_rate = np.random.randint(X['Heart Rate'].min(), X['Heart Rate'].max() + 1)\n",
    "# heart_rate = 50\n",
    "daily_steps = np.random.randint(X['Daily Steps'].min(), X['Daily Steps'].max() + 1)\n",
    "# daily_steps = 1000\n",
    "features = [gender, age, sleep_duration, physical_activity, bmi_category, heart_rate, daily_steps]\n",
    "\n",
    "print(\"Случайные входные данные для прогноза:\")\n",
    "print(f\"Gender: {gender}\")\n",
    "print(f\"Age: {age}\")\n",
    "print(f\"Sleep Duration: {sleep_duration:.2f}\")\n",
    "print(f\"Physical Activity Level: {physical_activity}\")\n",
    "print(f\"BMI Category: {bmi_category}\")\n",
    "print(f\"Heart Rate: {heart_rate}\")\n",
    "print(f\"Daily Steps: {daily_steps}\")\n",
    "\n",
    "print(\"\\nРезультат работы функции predict_sleep_disorder:\")\n",
    "\n",
    "\n",
    "def predict_sleep_disorder_raw(gender, age, sleep_duration, physical_activity, bmi_category, heart_rate, daily_steps):\n",
    "    \"\"\"\n",
    "    gender: строка ('Male'/'Female')\n",
    "    bmi_category: строка, например 'Normal'\n",
    "    остальные параметры — числа\n",
    "    \"\"\"\n",
    "    # Загружаем модель и энкодеры\n",
    "    with open('insomnia_apnea.pkl', 'rb') as f:\n",
    "        data = pickle.load(f)\n",
    "        model = data['model']\n",
    "        sleep_encoder = data['sleep_encoder']\n",
    "        # Для совместимости, если энкодеры не сохранены — добавить их в сохранение!\n",
    "        gender_encoder = data.get('gender_encoder')\n",
    "        bmi_encoder = data.get('bmi_encoder')\n",
    "    # Преобразуем категориальные признаки\n",
    "    gender_code = gender_encoder.transform([gender])[0]\n",
    "    bmi_code = bmi_encoder.transform([bmi_category])[0]\n",
    "    # Собираем признаки\n",
    "    features = [gender_code, age, sleep_duration, physical_activity, bmi_code, heart_rate, daily_steps]\n",
    "    # Предсказание\n",
    "    sample = np.array(features).reshape(1, -1)\n",
    "    probas = model.named_steps['clf'].predict_proba(sample)[0]\n",
    "    class_labels = model.named_steps['clf'].classes_\n",
    "    diagnosis_names = sleep_encoder.inverse_transform(class_labels)\n",
    "    result = {diagnosis: float(prob) for diagnosis, prob in zip(diagnosis_names, probas)}\n",
    "    return json.dumps(result, ensure_ascii=False)"
   ]
  },
  {
   "cell_type": "code",
   "execution_count": 19,
   "id": "cb64833c",
   "metadata": {},
   "outputs": [
    {
     "name": "stdout",
     "output_type": "stream",
     "text": [
      "Случайные входные данные для прогноза:\n",
      "Gender: Male\n",
      "Age: 48\n",
      "Sleep Duration: 6.32\n",
      "Physical Activity Level: 35\n",
      "BMI Category: Overweight\n",
      "Heart Rate: 65\n",
      "Daily Steps: 7986\n",
      "\n",
      "Результат работы функции predict_sleep_disorder_raw:\n",
      "{'Insomnia': 0.6265833333333333, 'Sleep Apnea': 0.19083333333333333, 'NaN': 0.18258333333333338}\n"
     ]
    }
   ],
   "source": [
    "import numpy as np\n",
    "\n",
    "res = {}\n",
    "\n",
    "# Получаем уникальные значения для категориальных признаков из исходного df\n",
    "genders = df['Gender'].map({0: 'Female', 1: 'Male'}).unique()\n",
    "bmi_categories = df['BMI Category'].map(dict(zip(bmi_encoder.transform(bmi_encoder.classes_), bmi_encoder.classes_))).unique()\n",
    "\n",
    "while res.get('Insomnia', 0) < 0.5:\n",
    "    gender = np.random.choice(['Male', 'Female'])\n",
    "    age = np.random.randint(df['Age'].min(), df['Age'].max() + 1)\n",
    "    sleep_duration = np.random.uniform(df['Sleep Duration'].min(), df['Sleep Duration'].max())\n",
    "    physical_activity = np.random.randint(df['Physical Activity Level'].min(), df['Physical Activity Level'].max() + 1)\n",
    "    bmi_category = np.random.choice(bmi_encoder.classes_)\n",
    "    heart_rate = np.random.randint(df['Heart Rate'].min(), df['Heart Rate'].max() + 1)\n",
    "    daily_steps = np.random.randint(df['Daily Steps'].min(), df['Daily Steps'].max() + 1)\n",
    "\n",
    "    res = json.loads(\n",
    "        predict_sleep_disorder_raw(\n",
    "            gender, age, sleep_duration, physical_activity, bmi_category, heart_rate, daily_steps\n",
    "        )\n",
    "    )\n",
    "\n",
    "print(\"Случайные входные данные для прогноза:\")\n",
    "print(f\"Gender: {gender}\")\n",
    "print(f\"Age: {age}\")\n",
    "print(f\"Sleep Duration: {sleep_duration:.2f}\")\n",
    "print(f\"Physical Activity Level: {physical_activity}\")\n",
    "print(f\"BMI Category: {bmi_category}\")\n",
    "print(f\"Heart Rate: {heart_rate}\")\n",
    "print(f\"Daily Steps: {daily_steps}\")\n",
    "\n",
    "print(\"\\nРезультат работы функции predict_sleep_disorder_raw:\")\n",
    "print(res)\n"
   ]
  }
 ],
 "metadata": {
  "kernelspec": {
   "display_name": "venv",
   "language": "python",
   "name": "python3"
  },
  "language_info": {
   "codemirror_mode": {
    "name": "ipython",
    "version": 3
   },
   "file_extension": ".py",
   "mimetype": "text/x-python",
   "name": "python",
   "nbconvert_exporter": "python",
   "pygments_lexer": "ipython3",
   "version": "3.12.3"
  },
  "papermill": {
   "default_parameters": {},
   "duration": 155.097753,
   "end_time": "2023-07-08T15:05:34.930055",
   "environment_variables": {},
   "exception": null,
   "input_path": "__notebook__.ipynb",
   "output_path": "__notebook__.ipynb",
   "parameters": {},
   "start_time": "2023-07-08T15:02:59.832302",
   "version": "2.4.0"
  }
 },
 "nbformat": 4,
 "nbformat_minor": 5
}
