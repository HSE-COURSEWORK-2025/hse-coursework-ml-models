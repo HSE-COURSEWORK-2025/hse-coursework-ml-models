{
 "cells": [
  {
   "cell_type": "markdown",
   "id": "32eeb359",
   "metadata": {
    "papermill": {
     "duration": 0.020974,
     "end_time": "2023-07-08T15:03:19.527765",
     "exception": false,
     "start_time": "2023-07-08T15:03:19.506791",
     "status": "completed"
    },
    "tags": []
   },
   "source": [
    "# Модель для предсказания наличия/отсутствия hypertension \n"
   ]
  },
  {
   "cell_type": "code",
   "execution_count": 184,
   "id": "56dad314",
   "metadata": {
    "execution": {
     "iopub.execute_input": "2023-07-08T15:03:19.606757Z",
     "iopub.status.busy": "2023-07-08T15:03:19.606170Z",
     "iopub.status.idle": "2023-07-08T15:03:20.831593Z",
     "shell.execute_reply": "2023-07-08T15:03:20.830195Z"
    },
    "papermill": {
     "duration": 1.249455,
     "end_time": "2023-07-08T15:03:20.834653",
     "exception": false,
     "start_time": "2023-07-08T15:03:19.585198",
     "status": "completed"
    },
    "tags": []
   },
   "outputs": [],
   "source": [
    "import numpy as np\n",
    "import pandas as pd\n",
    "from sklearn import preprocessing\n",
    "import warnings\n",
    "warnings.filterwarnings('ignore')"
   ]
  },
  {
   "cell_type": "code",
   "execution_count": 185,
   "id": "f41e1a56",
   "metadata": {
    "execution": {
     "iopub.execute_input": "2023-07-08T15:03:20.970580Z",
     "iopub.status.busy": "2023-07-08T15:03:20.970093Z",
     "iopub.status.idle": "2023-07-08T15:03:21.000189Z",
     "shell.execute_reply": "2023-07-08T15:03:20.998750Z"
    },
    "papermill": {
     "duration": 0.053476,
     "end_time": "2023-07-08T15:03:21.003590",
     "exception": false,
     "start_time": "2023-07-08T15:03:20.950114",
     "status": "completed"
    },
    "tags": []
   },
   "outputs": [],
   "source": [
    "import kagglehub\n",
    "\n",
    "# Download latest version\n",
    "path = kagglehub.dataset_download(\"ankushpanday1/hypertension-risk-prediction-dataset\")\n",
    "\n",
    "df = pd.read_csv(path+'/hypertension_dataset.csv')\n",
    "df = df.drop(columns=['Cholesterol', 'Systolic_BP', 'Diastolic_BP', 'Smoking_Status', 'Alcohol_Intake', 'Family_History', 'Diabetes', 'Stress_Level', 'Salt_Intake', 'LDL', 'HDL', 'Triglycerides', 'Glucose', 'Education_Level', 'Employment_Status'])"
   ]
  },
  {
   "cell_type": "code",
   "execution_count": 186,
   "id": "fd500220",
   "metadata": {
    "execution": {
     "iopub.execute_input": "2023-07-08T15:03:21.088875Z",
     "iopub.status.busy": "2023-07-08T15:03:21.087978Z",
     "iopub.status.idle": "2023-07-08T15:03:21.139011Z",
     "shell.execute_reply": "2023-07-08T15:03:21.136648Z"
    },
    "papermill": {
     "duration": 0.077972,
     "end_time": "2023-07-08T15:03:21.143184",
     "exception": false,
     "start_time": "2023-07-08T15:03:21.065212",
     "status": "completed"
    },
    "tags": []
   },
   "outputs": [
    {
     "data": {
      "application/vnd.microsoft.datawrangler.viewer.v0+json": {
       "columns": [
        {
         "name": "index",
         "rawType": "int64",
         "type": "integer"
        },
        {
         "name": "Country",
         "rawType": "object",
         "type": "string"
        },
        {
         "name": "Age",
         "rawType": "int64",
         "type": "integer"
        },
        {
         "name": "BMI",
         "rawType": "float64",
         "type": "float"
        },
        {
         "name": "Physical_Activity_Level",
         "rawType": "object",
         "type": "string"
        },
        {
         "name": "Sleep_Duration",
         "rawType": "float64",
         "type": "float"
        },
        {
         "name": "Heart_Rate",
         "rawType": "int64",
         "type": "integer"
        },
        {
         "name": "Gender",
         "rawType": "object",
         "type": "string"
        },
        {
         "name": "Hypertension",
         "rawType": "object",
         "type": "string"
        }
       ],
       "ref": "20039e6e-3b58-47d3-a7a2-122d64b976c2",
       "rows": [
        [
         "0",
         "UK",
         "58",
         "29.5",
         "Low",
         "6.1",
         "80",
         "Female",
         "High"
        ],
        [
         "1",
         "Spain",
         "34",
         "36.2",
         "High",
         "9.8",
         "56",
         "Male",
         "High"
        ],
        [
         "2",
         "Indonesia",
         "73",
         "18.2",
         "High",
         "5.2",
         "75",
         "Male",
         "Low"
        ],
        [
         "3",
         "Canada",
         "60",
         "20.3",
         "Moderate",
         "7.5",
         "71",
         "Female",
         "High"
        ],
        [
         "4",
         "France",
         "73",
         "21.8",
         "Moderate",
         "5.0",
         "52",
         "Female",
         "High"
        ],
        [
         "5",
         "UK",
         "44",
         "31.5",
         "Moderate",
         "8.1",
         "98",
         "Male",
         "High"
        ],
        [
         "6",
         "South Korea",
         "88",
         "30.9",
         "Low",
         "4.0",
         "88",
         "Male",
         "Low"
        ],
        [
         "7",
         "Canada",
         "25",
         "18.1",
         "Low",
         "5.8",
         "99",
         "Female",
         "High"
        ],
        [
         "8",
         "Canada",
         "89",
         "19.0",
         "Low",
         "6.6",
         "56",
         "Female",
         "Low"
        ],
        [
         "9",
         "Brazil",
         "33",
         "39.1",
         "Moderate",
         "8.0",
         "76",
         "Male",
         "High"
        ],
        [
         "10",
         "France",
         "21",
         "31.0",
         "Low",
         "5.6",
         "63",
         "Female",
         "High"
        ],
        [
         "11",
         "China",
         "41",
         "23.8",
         "Moderate",
         "7.1",
         "89",
         "Male",
         "Low"
        ],
        [
         "12",
         "India",
         "55",
         "35.5",
         "Moderate",
         "6.2",
         "98",
         "Female",
         "High"
        ],
        [
         "13",
         "Italy",
         "83",
         "18.9",
         "Low",
         "7.3",
         "77",
         "Female",
         "High"
        ],
        [
         "14",
         "Germany",
         "88",
         "35.6",
         "High",
         "6.6",
         "85",
         "Female",
         "High"
        ],
        [
         "15",
         "India",
         "20",
         "22.5",
         "Moderate",
         "6.4",
         "95",
         "Male",
         "High"
        ],
        [
         "16",
         "USA",
         "36",
         "33.9",
         "High",
         "6.4",
         "82",
         "Male",
         "High"
        ],
        [
         "17",
         "Italy",
         "26",
         "27.6",
         "High",
         "7.0",
         "67",
         "Female",
         "High"
        ],
        [
         "18",
         "Italy",
         "50",
         "15.5",
         "Moderate",
         "8.5",
         "65",
         "Female",
         "High"
        ],
        [
         "19",
         "Argentina",
         "46",
         "39.6",
         "Moderate",
         "4.4",
         "54",
         "Female",
         "Low"
        ],
        [
         "20",
         "Australia",
         "47",
         "34.2",
         "High",
         "4.3",
         "60",
         "Male",
         "Low"
        ],
        [
         "21",
         "Saudi Arabia",
         "68",
         "29.1",
         "Moderate",
         "8.7",
         "56",
         "Male",
         "Low"
        ],
        [
         "22",
         "Indonesia",
         "36",
         "27.6",
         "Moderate",
         "9.3",
         "56",
         "Female",
         "Low"
        ],
        [
         "23",
         "Indonesia",
         "85",
         "27.4",
         "Low",
         "8.8",
         "62",
         "Female",
         "High"
        ],
        [
         "24",
         "South Korea",
         "36",
         "29.7",
         "Low",
         "5.6",
         "81",
         "Male",
         "Low"
        ],
        [
         "25",
         "Italy",
         "40",
         "22.1",
         "Moderate",
         "4.7",
         "94",
         "Male",
         "High"
        ],
        [
         "26",
         "Spain",
         "80",
         "33.3",
         "Moderate",
         "7.0",
         "90",
         "Female",
         "High"
        ],
        [
         "27",
         "China",
         "48",
         "32.8",
         "Moderate",
         "9.6",
         "84",
         "Male",
         "Low"
        ],
        [
         "28",
         "Russia",
         "29",
         "15.1",
         "High",
         "9.1",
         "87",
         "Male",
         "High"
        ],
        [
         "29",
         "South Korea",
         "84",
         "35.4",
         "High",
         "5.1",
         "81",
         "Male",
         "High"
        ],
        [
         "30",
         "UK",
         "60",
         "38.1",
         "Low",
         "8.7",
         "81",
         "Male",
         "Low"
        ],
        [
         "31",
         "Japan",
         "59",
         "37.3",
         "Low",
         "5.6",
         "70",
         "Female",
         "Low"
        ],
        [
         "32",
         "UK",
         "68",
         "22.7",
         "High",
         "5.4",
         "52",
         "Male",
         "High"
        ],
        [
         "33",
         "Turkey",
         "55",
         "20.8",
         "Low",
         "7.4",
         "67",
         "Female",
         "High"
        ],
        [
         "34",
         "Brazil",
         "23",
         "37.2",
         "Moderate",
         "5.4",
         "56",
         "Male",
         "Low"
        ],
        [
         "35",
         "Mexico",
         "71",
         "22.7",
         "Moderate",
         "5.8",
         "58",
         "Female",
         "Low"
        ],
        [
         "36",
         "Turkey",
         "65",
         "15.2",
         "High",
         "6.1",
         "98",
         "Male",
         "High"
        ],
        [
         "37",
         "Japan",
         "26",
         "32.3",
         "High",
         "5.5",
         "57",
         "Female",
         "High"
        ],
        [
         "38",
         "India",
         "73",
         "24.6",
         "High",
         "8.7",
         "51",
         "Male",
         "High"
        ],
        [
         "39",
         "Spain",
         "51",
         "36.1",
         "Moderate",
         "8.7",
         "86",
         "Male",
         "High"
        ],
        [
         "40",
         "Indonesia",
         "42",
         "24.6",
         "Moderate",
         "4.8",
         "69",
         "Female",
         "High"
        ],
        [
         "41",
         "UK",
         "45",
         "38.6",
         "High",
         "9.1",
         "98",
         "Male",
         "Low"
        ],
        [
         "42",
         "Italy",
         "52",
         "34.7",
         "Moderate",
         "7.3",
         "66",
         "Female",
         "High"
        ],
        [
         "43",
         "France",
         "45",
         "24.1",
         "High",
         "5.4",
         "57",
         "Male",
         "High"
        ],
        [
         "44",
         "Indonesia",
         "71",
         "31.6",
         "Moderate",
         "5.7",
         "84",
         "Female",
         "High"
        ],
        [
         "45",
         "China",
         "29",
         "39.7",
         "High",
         "8.6",
         "99",
         "Male",
         "High"
        ],
        [
         "46",
         "Mexico",
         "59",
         "35.9",
         "Moderate",
         "9.9",
         "62",
         "Female",
         "High"
        ],
        [
         "47",
         "Argentina",
         "42",
         "38.3",
         "Low",
         "6.7",
         "67",
         "Female",
         "Low"
        ],
        [
         "48",
         "Brazil",
         "51",
         "33.9",
         "High",
         "7.0",
         "52",
         "Female",
         "High"
        ],
        [
         "49",
         "Turkey",
         "59",
         "18.6",
         "High",
         "8.4",
         "71",
         "Female",
         "High"
        ]
       ],
       "shape": {
        "columns": 8,
        "rows": 174982
       }
      },
      "text/html": [
       "<div>\n",
       "<style scoped>\n",
       "    .dataframe tbody tr th:only-of-type {\n",
       "        vertical-align: middle;\n",
       "    }\n",
       "\n",
       "    .dataframe tbody tr th {\n",
       "        vertical-align: top;\n",
       "    }\n",
       "\n",
       "    .dataframe thead th {\n",
       "        text-align: right;\n",
       "    }\n",
       "</style>\n",
       "<table border=\"1\" class=\"dataframe\">\n",
       "  <thead>\n",
       "    <tr style=\"text-align: right;\">\n",
       "      <th></th>\n",
       "      <th>Country</th>\n",
       "      <th>Age</th>\n",
       "      <th>BMI</th>\n",
       "      <th>Physical_Activity_Level</th>\n",
       "      <th>Sleep_Duration</th>\n",
       "      <th>Heart_Rate</th>\n",
       "      <th>Gender</th>\n",
       "      <th>Hypertension</th>\n",
       "    </tr>\n",
       "  </thead>\n",
       "  <tbody>\n",
       "    <tr>\n",
       "      <th>0</th>\n",
       "      <td>UK</td>\n",
       "      <td>58</td>\n",
       "      <td>29.5</td>\n",
       "      <td>Low</td>\n",
       "      <td>6.1</td>\n",
       "      <td>80</td>\n",
       "      <td>Female</td>\n",
       "      <td>High</td>\n",
       "    </tr>\n",
       "    <tr>\n",
       "      <th>1</th>\n",
       "      <td>Spain</td>\n",
       "      <td>34</td>\n",
       "      <td>36.2</td>\n",
       "      <td>High</td>\n",
       "      <td>9.8</td>\n",
       "      <td>56</td>\n",
       "      <td>Male</td>\n",
       "      <td>High</td>\n",
       "    </tr>\n",
       "    <tr>\n",
       "      <th>2</th>\n",
       "      <td>Indonesia</td>\n",
       "      <td>73</td>\n",
       "      <td>18.2</td>\n",
       "      <td>High</td>\n",
       "      <td>5.2</td>\n",
       "      <td>75</td>\n",
       "      <td>Male</td>\n",
       "      <td>Low</td>\n",
       "    </tr>\n",
       "    <tr>\n",
       "      <th>3</th>\n",
       "      <td>Canada</td>\n",
       "      <td>60</td>\n",
       "      <td>20.3</td>\n",
       "      <td>Moderate</td>\n",
       "      <td>7.5</td>\n",
       "      <td>71</td>\n",
       "      <td>Female</td>\n",
       "      <td>High</td>\n",
       "    </tr>\n",
       "    <tr>\n",
       "      <th>4</th>\n",
       "      <td>France</td>\n",
       "      <td>73</td>\n",
       "      <td>21.8</td>\n",
       "      <td>Moderate</td>\n",
       "      <td>5.0</td>\n",
       "      <td>52</td>\n",
       "      <td>Female</td>\n",
       "      <td>High</td>\n",
       "    </tr>\n",
       "    <tr>\n",
       "      <th>...</th>\n",
       "      <td>...</td>\n",
       "      <td>...</td>\n",
       "      <td>...</td>\n",
       "      <td>...</td>\n",
       "      <td>...</td>\n",
       "      <td>...</td>\n",
       "      <td>...</td>\n",
       "      <td>...</td>\n",
       "    </tr>\n",
       "    <tr>\n",
       "      <th>174977</th>\n",
       "      <td>India</td>\n",
       "      <td>51</td>\n",
       "      <td>39.4</td>\n",
       "      <td>Low</td>\n",
       "      <td>9.5</td>\n",
       "      <td>96</td>\n",
       "      <td>Female</td>\n",
       "      <td>Low</td>\n",
       "    </tr>\n",
       "    <tr>\n",
       "      <th>174978</th>\n",
       "      <td>Australia</td>\n",
       "      <td>89</td>\n",
       "      <td>39.0</td>\n",
       "      <td>Moderate</td>\n",
       "      <td>6.2</td>\n",
       "      <td>63</td>\n",
       "      <td>Female</td>\n",
       "      <td>High</td>\n",
       "    </tr>\n",
       "    <tr>\n",
       "      <th>174979</th>\n",
       "      <td>India</td>\n",
       "      <td>43</td>\n",
       "      <td>36.5</td>\n",
       "      <td>Low</td>\n",
       "      <td>10.0</td>\n",
       "      <td>62</td>\n",
       "      <td>Male</td>\n",
       "      <td>High</td>\n",
       "    </tr>\n",
       "    <tr>\n",
       "      <th>174980</th>\n",
       "      <td>Germany</td>\n",
       "      <td>48</td>\n",
       "      <td>18.3</td>\n",
       "      <td>High</td>\n",
       "      <td>4.7</td>\n",
       "      <td>53</td>\n",
       "      <td>Male</td>\n",
       "      <td>High</td>\n",
       "    </tr>\n",
       "    <tr>\n",
       "      <th>174981</th>\n",
       "      <td>Argentina</td>\n",
       "      <td>27</td>\n",
       "      <td>22.6</td>\n",
       "      <td>Moderate</td>\n",
       "      <td>5.1</td>\n",
       "      <td>69</td>\n",
       "      <td>Female</td>\n",
       "      <td>High</td>\n",
       "    </tr>\n",
       "  </tbody>\n",
       "</table>\n",
       "<p>174982 rows × 8 columns</p>\n",
       "</div>"
      ],
      "text/plain": [
       "          Country  Age   BMI Physical_Activity_Level  Sleep_Duration  \\\n",
       "0              UK   58  29.5                     Low             6.1   \n",
       "1           Spain   34  36.2                    High             9.8   \n",
       "2       Indonesia   73  18.2                    High             5.2   \n",
       "3          Canada   60  20.3                Moderate             7.5   \n",
       "4          France   73  21.8                Moderate             5.0   \n",
       "...           ...  ...   ...                     ...             ...   \n",
       "174977      India   51  39.4                     Low             9.5   \n",
       "174978  Australia   89  39.0                Moderate             6.2   \n",
       "174979      India   43  36.5                     Low            10.0   \n",
       "174980    Germany   48  18.3                    High             4.7   \n",
       "174981  Argentina   27  22.6                Moderate             5.1   \n",
       "\n",
       "        Heart_Rate  Gender Hypertension  \n",
       "0               80  Female         High  \n",
       "1               56    Male         High  \n",
       "2               75    Male          Low  \n",
       "3               71  Female         High  \n",
       "4               52  Female         High  \n",
       "...            ...     ...          ...  \n",
       "174977          96  Female          Low  \n",
       "174978          63  Female         High  \n",
       "174979          62    Male         High  \n",
       "174980          53    Male         High  \n",
       "174981          69  Female         High  \n",
       "\n",
       "[174982 rows x 8 columns]"
      ]
     },
     "execution_count": 186,
     "metadata": {},
     "output_type": "execute_result"
    }
   ],
   "source": [
    "df"
   ]
  },
  {
   "cell_type": "code",
   "execution_count": 187,
   "id": "8a3c3130",
   "metadata": {},
   "outputs": [
    {
     "name": "stdout",
     "output_type": "stream",
     "text": [
      "['Low' 'High' 'Moderate']\n"
     ]
    }
   ],
   "source": [
    "# Получить все уникальные значения из колонки Physical_Activity_Level (до энкодинга)\n",
    "unique_physical_activity_levels = df['Physical_Activity_Level'].unique()\n",
    "print(unique_physical_activity_levels)"
   ]
  },
  {
   "cell_type": "code",
   "execution_count": 188,
   "id": "1158f1ee",
   "metadata": {
    "execution": {
     "iopub.execute_input": "2023-07-08T15:03:21.377309Z",
     "iopub.status.busy": "2023-07-08T15:03:21.376873Z",
     "iopub.status.idle": "2023-07-08T15:03:21.426250Z",
     "shell.execute_reply": "2023-07-08T15:03:21.425228Z"
    },
    "papermill": {
     "duration": 0.074762,
     "end_time": "2023-07-08T15:03:21.429572",
     "exception": false,
     "start_time": "2023-07-08T15:03:21.354810",
     "status": "completed"
    },
    "tags": []
   },
   "outputs": [
    {
     "data": {
      "application/vnd.microsoft.datawrangler.viewer.v0+json": {
       "columns": [
        {
         "name": "index",
         "rawType": "object",
         "type": "string"
        },
        {
         "name": "Age",
         "rawType": "float64",
         "type": "float"
        },
        {
         "name": "BMI",
         "rawType": "float64",
         "type": "float"
        },
        {
         "name": "Sleep_Duration",
         "rawType": "float64",
         "type": "float"
        },
        {
         "name": "Heart_Rate",
         "rawType": "float64",
         "type": "float"
        }
       ],
       "ref": "91c3f2dc-689c-47e0-9155-cf2309e4748c",
       "rows": [
        [
         "count",
         "174982.0",
         "174982.0",
         "174982.0",
         "174982.0"
        ],
        [
         "mean",
         "53.49331931284361",
         "27.494672023408125",
         "6.996468208158554",
         "74.49508520876434"
        ],
        [
         "std",
         "20.786353087308502",
         "7.213865957844764",
         "1.730731159331576",
         "14.438572594363281"
        ],
        [
         "min",
         "18.0",
         "15.0",
         "4.0",
         "50.0"
        ],
        [
         "25%",
         "36.0",
         "21.2",
         "5.5",
         "62.0"
        ],
        [
         "50%",
         "54.0",
         "27.5",
         "7.0",
         "74.0"
        ],
        [
         "75%",
         "71.0",
         "33.7",
         "8.5",
         "87.0"
        ],
        [
         "max",
         "89.0",
         "40.0",
         "10.0",
         "99.0"
        ]
       ],
       "shape": {
        "columns": 4,
        "rows": 8
       }
      },
      "text/html": [
       "<div>\n",
       "<style scoped>\n",
       "    .dataframe tbody tr th:only-of-type {\n",
       "        vertical-align: middle;\n",
       "    }\n",
       "\n",
       "    .dataframe tbody tr th {\n",
       "        vertical-align: top;\n",
       "    }\n",
       "\n",
       "    .dataframe thead th {\n",
       "        text-align: right;\n",
       "    }\n",
       "</style>\n",
       "<table border=\"1\" class=\"dataframe\">\n",
       "  <thead>\n",
       "    <tr style=\"text-align: right;\">\n",
       "      <th></th>\n",
       "      <th>Age</th>\n",
       "      <th>BMI</th>\n",
       "      <th>Sleep_Duration</th>\n",
       "      <th>Heart_Rate</th>\n",
       "    </tr>\n",
       "  </thead>\n",
       "  <tbody>\n",
       "    <tr>\n",
       "      <th>count</th>\n",
       "      <td>174982.000000</td>\n",
       "      <td>174982.000000</td>\n",
       "      <td>174982.000000</td>\n",
       "      <td>174982.000000</td>\n",
       "    </tr>\n",
       "    <tr>\n",
       "      <th>mean</th>\n",
       "      <td>53.493319</td>\n",
       "      <td>27.494672</td>\n",
       "      <td>6.996468</td>\n",
       "      <td>74.495085</td>\n",
       "    </tr>\n",
       "    <tr>\n",
       "      <th>std</th>\n",
       "      <td>20.786353</td>\n",
       "      <td>7.213866</td>\n",
       "      <td>1.730731</td>\n",
       "      <td>14.438573</td>\n",
       "    </tr>\n",
       "    <tr>\n",
       "      <th>min</th>\n",
       "      <td>18.000000</td>\n",
       "      <td>15.000000</td>\n",
       "      <td>4.000000</td>\n",
       "      <td>50.000000</td>\n",
       "    </tr>\n",
       "    <tr>\n",
       "      <th>25%</th>\n",
       "      <td>36.000000</td>\n",
       "      <td>21.200000</td>\n",
       "      <td>5.500000</td>\n",
       "      <td>62.000000</td>\n",
       "    </tr>\n",
       "    <tr>\n",
       "      <th>50%</th>\n",
       "      <td>54.000000</td>\n",
       "      <td>27.500000</td>\n",
       "      <td>7.000000</td>\n",
       "      <td>74.000000</td>\n",
       "    </tr>\n",
       "    <tr>\n",
       "      <th>75%</th>\n",
       "      <td>71.000000</td>\n",
       "      <td>33.700000</td>\n",
       "      <td>8.500000</td>\n",
       "      <td>87.000000</td>\n",
       "    </tr>\n",
       "    <tr>\n",
       "      <th>max</th>\n",
       "      <td>89.000000</td>\n",
       "      <td>40.000000</td>\n",
       "      <td>10.000000</td>\n",
       "      <td>99.000000</td>\n",
       "    </tr>\n",
       "  </tbody>\n",
       "</table>\n",
       "</div>"
      ],
      "text/plain": [
       "                 Age            BMI  Sleep_Duration     Heart_Rate\n",
       "count  174982.000000  174982.000000   174982.000000  174982.000000\n",
       "mean       53.493319      27.494672        6.996468      74.495085\n",
       "std        20.786353       7.213866        1.730731      14.438573\n",
       "min        18.000000      15.000000        4.000000      50.000000\n",
       "25%        36.000000      21.200000        5.500000      62.000000\n",
       "50%        54.000000      27.500000        7.000000      74.000000\n",
       "75%        71.000000      33.700000        8.500000      87.000000\n",
       "max        89.000000      40.000000       10.000000      99.000000"
      ]
     },
     "execution_count": 188,
     "metadata": {},
     "output_type": "execute_result"
    }
   ],
   "source": [
    "df.describe()"
   ]
  },
  {
   "cell_type": "code",
   "execution_count": 189,
   "id": "477c881a",
   "metadata": {
    "execution": {
     "iopub.execute_input": "2023-07-08T15:03:22.051612Z",
     "iopub.status.busy": "2023-07-08T15:03:22.050778Z",
     "iopub.status.idle": "2023-07-08T15:03:23.791282Z",
     "shell.execute_reply": "2023-07-08T15:03:23.789370Z"
    },
    "papermill": {
     "duration": 1.767761,
     "end_time": "2023-07-08T15:03:23.794589",
     "exception": false,
     "start_time": "2023-07-08T15:03:22.026828",
     "status": "completed"
    },
    "tags": []
   },
   "outputs": [
    {
     "data": {
      "application/vnd.microsoft.datawrangler.viewer.v0+json": {
       "columns": [
        {
         "name": "index",
         "rawType": "int64",
         "type": "integer"
        },
        {
         "name": "Country",
         "rawType": "int64",
         "type": "integer"
        },
        {
         "name": "Age",
         "rawType": "int64",
         "type": "integer"
        },
        {
         "name": "BMI",
         "rawType": "float64",
         "type": "float"
        },
        {
         "name": "Physical_Activity_Level",
         "rawType": "int64",
         "type": "integer"
        },
        {
         "name": "Sleep_Duration",
         "rawType": "float64",
         "type": "float"
        },
        {
         "name": "Heart_Rate",
         "rawType": "int64",
         "type": "integer"
        },
        {
         "name": "Gender",
         "rawType": "int64",
         "type": "integer"
        },
        {
         "name": "Hypertension",
         "rawType": "int64",
         "type": "integer"
        }
       ],
       "ref": "36dcf075-1b00-41ee-8345-cfca90eb3aab",
       "rows": [
        [
         "0",
         "18",
         "58",
         "29.5",
         "1",
         "6.1",
         "80",
         "0",
         "0"
        ],
        [
         "1",
         "16",
         "34",
         "36.2",
         "0",
         "9.8",
         "56",
         "1",
         "0"
        ],
        [
         "2",
         "8",
         "73",
         "18.2",
         "0",
         "5.2",
         "75",
         "1",
         "1"
        ],
        [
         "3",
         "3",
         "60",
         "20.3",
         "2",
         "7.5",
         "71",
         "0",
         "0"
        ],
        [
         "4",
         "5",
         "73",
         "21.8",
         "2",
         "5.0",
         "52",
         "0",
         "0"
        ]
       ],
       "shape": {
        "columns": 8,
        "rows": 5
       }
      },
      "text/html": [
       "<div>\n",
       "<style scoped>\n",
       "    .dataframe tbody tr th:only-of-type {\n",
       "        vertical-align: middle;\n",
       "    }\n",
       "\n",
       "    .dataframe tbody tr th {\n",
       "        vertical-align: top;\n",
       "    }\n",
       "\n",
       "    .dataframe thead th {\n",
       "        text-align: right;\n",
       "    }\n",
       "</style>\n",
       "<table border=\"1\" class=\"dataframe\">\n",
       "  <thead>\n",
       "    <tr style=\"text-align: right;\">\n",
       "      <th></th>\n",
       "      <th>Country</th>\n",
       "      <th>Age</th>\n",
       "      <th>BMI</th>\n",
       "      <th>Physical_Activity_Level</th>\n",
       "      <th>Sleep_Duration</th>\n",
       "      <th>Heart_Rate</th>\n",
       "      <th>Gender</th>\n",
       "      <th>Hypertension</th>\n",
       "    </tr>\n",
       "  </thead>\n",
       "  <tbody>\n",
       "    <tr>\n",
       "      <th>0</th>\n",
       "      <td>18</td>\n",
       "      <td>58</td>\n",
       "      <td>29.5</td>\n",
       "      <td>1</td>\n",
       "      <td>6.1</td>\n",
       "      <td>80</td>\n",
       "      <td>0</td>\n",
       "      <td>0</td>\n",
       "    </tr>\n",
       "    <tr>\n",
       "      <th>1</th>\n",
       "      <td>16</td>\n",
       "      <td>34</td>\n",
       "      <td>36.2</td>\n",
       "      <td>0</td>\n",
       "      <td>9.8</td>\n",
       "      <td>56</td>\n",
       "      <td>1</td>\n",
       "      <td>0</td>\n",
       "    </tr>\n",
       "    <tr>\n",
       "      <th>2</th>\n",
       "      <td>8</td>\n",
       "      <td>73</td>\n",
       "      <td>18.2</td>\n",
       "      <td>0</td>\n",
       "      <td>5.2</td>\n",
       "      <td>75</td>\n",
       "      <td>1</td>\n",
       "      <td>1</td>\n",
       "    </tr>\n",
       "    <tr>\n",
       "      <th>3</th>\n",
       "      <td>3</td>\n",
       "      <td>60</td>\n",
       "      <td>20.3</td>\n",
       "      <td>2</td>\n",
       "      <td>7.5</td>\n",
       "      <td>71</td>\n",
       "      <td>0</td>\n",
       "      <td>0</td>\n",
       "    </tr>\n",
       "    <tr>\n",
       "      <th>4</th>\n",
       "      <td>5</td>\n",
       "      <td>73</td>\n",
       "      <td>21.8</td>\n",
       "      <td>2</td>\n",
       "      <td>5.0</td>\n",
       "      <td>52</td>\n",
       "      <td>0</td>\n",
       "      <td>0</td>\n",
       "    </tr>\n",
       "  </tbody>\n",
       "</table>\n",
       "</div>"
      ],
      "text/plain": [
       "   Country  Age   BMI  Physical_Activity_Level  Sleep_Duration  Heart_Rate  \\\n",
       "0       18   58  29.5                        1             6.1          80   \n",
       "1       16   34  36.2                        0             9.8          56   \n",
       "2        8   73  18.2                        0             5.2          75   \n",
       "3        3   60  20.3                        2             7.5          71   \n",
       "4        5   73  21.8                        2             5.0          52   \n",
       "\n",
       "   Gender  Hypertension  \n",
       "0       0             0  \n",
       "1       1             0  \n",
       "2       1             1  \n",
       "3       0             0  \n",
       "4       0             0  "
      ]
     },
     "execution_count": 189,
     "metadata": {},
     "output_type": "execute_result"
    }
   ],
   "source": [
    "physical_activity_level_encoder = preprocessing.LabelEncoder()\n",
    "hypertension_encoder = preprocessing.LabelEncoder()\n",
    "gender_encoder = preprocessing.LabelEncoder()\n",
    "country_encoder = preprocessing.LabelEncoder()\n",
    "\n",
    "\n",
    "df['Physical_Activity_Level'] = physical_activity_level_encoder.fit_transform(df['Physical_Activity_Level'])\n",
    "df['Hypertension'] = hypertension_encoder.fit_transform(df['Hypertension'])\n",
    "df['Gender'] = gender_encoder.fit_transform(df['Gender'])\n",
    "df['Country'] = country_encoder.fit_transform(df['Country'])\n",
    "\n",
    "df.head()\n",
    "\n"
   ]
  },
  {
   "cell_type": "code",
   "execution_count": 190,
   "id": "5414f1dd",
   "metadata": {
    "execution": {
     "iopub.execute_input": "2023-07-08T15:03:23.840017Z",
     "iopub.status.busy": "2023-07-08T15:03:23.839602Z",
     "iopub.status.idle": "2023-07-08T15:03:23.861060Z",
     "shell.execute_reply": "2023-07-08T15:03:23.860025Z"
    },
    "papermill": {
     "duration": 0.048144,
     "end_time": "2023-07-08T15:03:23.864085",
     "exception": false,
     "start_time": "2023-07-08T15:03:23.815941",
     "status": "completed"
    },
    "tags": []
   },
   "outputs": [],
   "source": [
    "# # Outlier Removal\n",
    "# num_col = ['Age', 'BMI', 'Sleep_Duration',\n",
    "#            'Heart_Rate']\n",
    "\n",
    "# Q1 = df[num_col].quantile(0.25)\n",
    "# Q3 = df[num_col].quantile(0.75)\n",
    "# IQR = Q3 - Q1\n",
    "\n",
    "# df = df[~((df[num_col] < (Q1 - 1.5 * IQR)) | (df[num_col] > (Q3 + 1.5 * IQR))).any(axis=1)]\n"
   ]
  },
  {
   "cell_type": "markdown",
   "id": "16a8f932",
   "metadata": {
    "papermill": {
     "duration": 0.029025,
     "end_time": "2023-07-08T15:03:29.450891",
     "exception": false,
     "start_time": "2023-07-08T15:03:29.421866",
     "status": "completed"
    },
    "tags": []
   },
   "source": [
    "# Prediction time!"
   ]
  },
  {
   "cell_type": "code",
   "execution_count": 191,
   "id": "78538dbf",
   "metadata": {
    "execution": {
     "iopub.execute_input": "2023-07-08T15:03:29.522089Z",
     "iopub.status.busy": "2023-07-08T15:03:29.520248Z",
     "iopub.status.idle": "2023-07-08T15:03:30.312505Z",
     "shell.execute_reply": "2023-07-08T15:03:30.310229Z"
    },
    "papermill": {
     "duration": 0.836963,
     "end_time": "2023-07-08T15:03:30.317255",
     "exception": false,
     "start_time": "2023-07-08T15:03:29.480292",
     "status": "completed"
    },
    "tags": []
   },
   "outputs": [],
   "source": [
    "from sklearn.model_selection import train_test_split"
   ]
  },
  {
   "cell_type": "markdown",
   "id": "e31607f5",
   "metadata": {
    "papermill": {
     "duration": 0.02986,
     "end_time": "2023-07-08T15:03:30.373965",
     "exception": false,
     "start_time": "2023-07-08T15:03:30.344105",
     "status": "completed"
    },
    "tags": []
   },
   "source": [
    "# Prepare the data"
   ]
  },
  {
   "cell_type": "code",
   "execution_count": 192,
   "id": "882a1233",
   "metadata": {
    "execution": {
     "iopub.execute_input": "2023-07-08T15:03:30.434620Z",
     "iopub.status.busy": "2023-07-08T15:03:30.433648Z",
     "iopub.status.idle": "2023-07-08T15:03:30.442584Z",
     "shell.execute_reply": "2023-07-08T15:03:30.440903Z"
    },
    "papermill": {
     "duration": 0.042619,
     "end_time": "2023-07-08T15:03:30.445928",
     "exception": false,
     "start_time": "2023-07-08T15:03:30.403309",
     "status": "completed"
    },
    "tags": []
   },
   "outputs": [],
   "source": [
    "# Prepare the data\n",
    "X = df.drop(['Hypertension'], axis=1)\n",
    "y = df['Hypertension']"
   ]
  },
  {
   "cell_type": "markdown",
   "id": "0cc5cdfc",
   "metadata": {
    "papermill": {
     "duration": 0.029437,
     "end_time": "2023-07-08T15:03:30.578935",
     "exception": false,
     "start_time": "2023-07-08T15:03:30.549498",
     "status": "completed"
    },
    "tags": []
   },
   "source": [
    "# Split the data into train and test sets"
   ]
  },
  {
   "cell_type": "code",
   "execution_count": 193,
   "id": "1f2f9a85",
   "metadata": {},
   "outputs": [
    {
     "data": {
      "application/vnd.microsoft.datawrangler.viewer.v0+json": {
       "columns": [
        {
         "name": "index",
         "rawType": "int64",
         "type": "integer"
        },
        {
         "name": "Country",
         "rawType": "int64",
         "type": "integer"
        },
        {
         "name": "Age",
         "rawType": "int64",
         "type": "integer"
        },
        {
         "name": "BMI",
         "rawType": "float64",
         "type": "float"
        },
        {
         "name": "Physical_Activity_Level",
         "rawType": "int64",
         "type": "integer"
        },
        {
         "name": "Sleep_Duration",
         "rawType": "float64",
         "type": "float"
        },
        {
         "name": "Heart_Rate",
         "rawType": "int64",
         "type": "integer"
        },
        {
         "name": "Gender",
         "rawType": "int64",
         "type": "integer"
        }
       ],
       "ref": "3ce36991-4344-4517-ad55-97f534c8c614",
       "rows": [
        [
         "0",
         "18",
         "58",
         "29.5",
         "1",
         "6.1",
         "80",
         "0"
        ],
        [
         "1",
         "16",
         "34",
         "36.2",
         "0",
         "9.8",
         "56",
         "1"
        ],
        [
         "2",
         "8",
         "73",
         "18.2",
         "0",
         "5.2",
         "75",
         "1"
        ],
        [
         "3",
         "3",
         "60",
         "20.3",
         "2",
         "7.5",
         "71",
         "0"
        ],
        [
         "4",
         "5",
         "73",
         "21.8",
         "2",
         "5.0",
         "52",
         "0"
        ],
        [
         "5",
         "18",
         "44",
         "31.5",
         "2",
         "8.1",
         "98",
         "1"
        ],
        [
         "6",
         "15",
         "88",
         "30.9",
         "1",
         "4.0",
         "88",
         "1"
        ],
        [
         "7",
         "3",
         "25",
         "18.1",
         "1",
         "5.8",
         "99",
         "0"
        ],
        [
         "8",
         "3",
         "89",
         "19.0",
         "1",
         "6.6",
         "56",
         "0"
        ],
        [
         "9",
         "2",
         "33",
         "39.1",
         "2",
         "8.0",
         "76",
         "1"
        ],
        [
         "10",
         "5",
         "21",
         "31.0",
         "1",
         "5.6",
         "63",
         "0"
        ],
        [
         "11",
         "4",
         "41",
         "23.8",
         "2",
         "7.1",
         "89",
         "1"
        ],
        [
         "12",
         "7",
         "55",
         "35.5",
         "2",
         "6.2",
         "98",
         "0"
        ],
        [
         "13",
         "9",
         "83",
         "18.9",
         "1",
         "7.3",
         "77",
         "0"
        ],
        [
         "14",
         "6",
         "88",
         "35.6",
         "0",
         "6.6",
         "85",
         "0"
        ],
        [
         "15",
         "7",
         "20",
         "22.5",
         "2",
         "6.4",
         "95",
         "1"
        ],
        [
         "16",
         "19",
         "36",
         "33.9",
         "0",
         "6.4",
         "82",
         "1"
        ],
        [
         "17",
         "9",
         "26",
         "27.6",
         "0",
         "7.0",
         "67",
         "0"
        ],
        [
         "18",
         "9",
         "50",
         "15.5",
         "2",
         "8.5",
         "65",
         "0"
        ],
        [
         "19",
         "0",
         "46",
         "39.6",
         "2",
         "4.4",
         "54",
         "0"
        ],
        [
         "20",
         "1",
         "47",
         "34.2",
         "0",
         "4.3",
         "60",
         "1"
        ],
        [
         "21",
         "13",
         "68",
         "29.1",
         "2",
         "8.7",
         "56",
         "1"
        ],
        [
         "22",
         "8",
         "36",
         "27.6",
         "2",
         "9.3",
         "56",
         "0"
        ],
        [
         "23",
         "8",
         "85",
         "27.4",
         "1",
         "8.8",
         "62",
         "0"
        ],
        [
         "24",
         "15",
         "36",
         "29.7",
         "1",
         "5.6",
         "81",
         "1"
        ],
        [
         "25",
         "9",
         "40",
         "22.1",
         "2",
         "4.7",
         "94",
         "1"
        ],
        [
         "26",
         "16",
         "80",
         "33.3",
         "2",
         "7.0",
         "90",
         "0"
        ],
        [
         "27",
         "4",
         "48",
         "32.8",
         "2",
         "9.6",
         "84",
         "1"
        ],
        [
         "28",
         "12",
         "29",
         "15.1",
         "0",
         "9.1",
         "87",
         "1"
        ],
        [
         "29",
         "15",
         "84",
         "35.4",
         "0",
         "5.1",
         "81",
         "1"
        ],
        [
         "30",
         "18",
         "60",
         "38.1",
         "1",
         "8.7",
         "81",
         "1"
        ],
        [
         "31",
         "10",
         "59",
         "37.3",
         "1",
         "5.6",
         "70",
         "0"
        ],
        [
         "32",
         "18",
         "68",
         "22.7",
         "0",
         "5.4",
         "52",
         "1"
        ],
        [
         "33",
         "17",
         "55",
         "20.8",
         "1",
         "7.4",
         "67",
         "0"
        ],
        [
         "34",
         "2",
         "23",
         "37.2",
         "2",
         "5.4",
         "56",
         "1"
        ],
        [
         "35",
         "11",
         "71",
         "22.7",
         "2",
         "5.8",
         "58",
         "0"
        ],
        [
         "36",
         "17",
         "65",
         "15.2",
         "0",
         "6.1",
         "98",
         "1"
        ],
        [
         "37",
         "10",
         "26",
         "32.3",
         "0",
         "5.5",
         "57",
         "0"
        ],
        [
         "38",
         "7",
         "73",
         "24.6",
         "0",
         "8.7",
         "51",
         "1"
        ],
        [
         "39",
         "16",
         "51",
         "36.1",
         "2",
         "8.7",
         "86",
         "1"
        ],
        [
         "40",
         "8",
         "42",
         "24.6",
         "2",
         "4.8",
         "69",
         "0"
        ],
        [
         "41",
         "18",
         "45",
         "38.6",
         "0",
         "9.1",
         "98",
         "1"
        ],
        [
         "42",
         "9",
         "52",
         "34.7",
         "2",
         "7.3",
         "66",
         "0"
        ],
        [
         "43",
         "5",
         "45",
         "24.1",
         "0",
         "5.4",
         "57",
         "1"
        ],
        [
         "44",
         "8",
         "71",
         "31.6",
         "2",
         "5.7",
         "84",
         "0"
        ],
        [
         "45",
         "4",
         "29",
         "39.7",
         "0",
         "8.6",
         "99",
         "1"
        ],
        [
         "46",
         "11",
         "59",
         "35.9",
         "2",
         "9.9",
         "62",
         "0"
        ],
        [
         "47",
         "0",
         "42",
         "38.3",
         "1",
         "6.7",
         "67",
         "0"
        ],
        [
         "48",
         "2",
         "51",
         "33.9",
         "0",
         "7.0",
         "52",
         "0"
        ],
        [
         "49",
         "17",
         "59",
         "18.6",
         "0",
         "8.4",
         "71",
         "0"
        ]
       ],
       "shape": {
        "columns": 7,
        "rows": 174982
       }
      },
      "text/html": [
       "<div>\n",
       "<style scoped>\n",
       "    .dataframe tbody tr th:only-of-type {\n",
       "        vertical-align: middle;\n",
       "    }\n",
       "\n",
       "    .dataframe tbody tr th {\n",
       "        vertical-align: top;\n",
       "    }\n",
       "\n",
       "    .dataframe thead th {\n",
       "        text-align: right;\n",
       "    }\n",
       "</style>\n",
       "<table border=\"1\" class=\"dataframe\">\n",
       "  <thead>\n",
       "    <tr style=\"text-align: right;\">\n",
       "      <th></th>\n",
       "      <th>Country</th>\n",
       "      <th>Age</th>\n",
       "      <th>BMI</th>\n",
       "      <th>Physical_Activity_Level</th>\n",
       "      <th>Sleep_Duration</th>\n",
       "      <th>Heart_Rate</th>\n",
       "      <th>Gender</th>\n",
       "    </tr>\n",
       "  </thead>\n",
       "  <tbody>\n",
       "    <tr>\n",
       "      <th>0</th>\n",
       "      <td>18</td>\n",
       "      <td>58</td>\n",
       "      <td>29.5</td>\n",
       "      <td>1</td>\n",
       "      <td>6.1</td>\n",
       "      <td>80</td>\n",
       "      <td>0</td>\n",
       "    </tr>\n",
       "    <tr>\n",
       "      <th>1</th>\n",
       "      <td>16</td>\n",
       "      <td>34</td>\n",
       "      <td>36.2</td>\n",
       "      <td>0</td>\n",
       "      <td>9.8</td>\n",
       "      <td>56</td>\n",
       "      <td>1</td>\n",
       "    </tr>\n",
       "    <tr>\n",
       "      <th>2</th>\n",
       "      <td>8</td>\n",
       "      <td>73</td>\n",
       "      <td>18.2</td>\n",
       "      <td>0</td>\n",
       "      <td>5.2</td>\n",
       "      <td>75</td>\n",
       "      <td>1</td>\n",
       "    </tr>\n",
       "    <tr>\n",
       "      <th>3</th>\n",
       "      <td>3</td>\n",
       "      <td>60</td>\n",
       "      <td>20.3</td>\n",
       "      <td>2</td>\n",
       "      <td>7.5</td>\n",
       "      <td>71</td>\n",
       "      <td>0</td>\n",
       "    </tr>\n",
       "    <tr>\n",
       "      <th>4</th>\n",
       "      <td>5</td>\n",
       "      <td>73</td>\n",
       "      <td>21.8</td>\n",
       "      <td>2</td>\n",
       "      <td>5.0</td>\n",
       "      <td>52</td>\n",
       "      <td>0</td>\n",
       "    </tr>\n",
       "    <tr>\n",
       "      <th>...</th>\n",
       "      <td>...</td>\n",
       "      <td>...</td>\n",
       "      <td>...</td>\n",
       "      <td>...</td>\n",
       "      <td>...</td>\n",
       "      <td>...</td>\n",
       "      <td>...</td>\n",
       "    </tr>\n",
       "    <tr>\n",
       "      <th>174977</th>\n",
       "      <td>7</td>\n",
       "      <td>51</td>\n",
       "      <td>39.4</td>\n",
       "      <td>1</td>\n",
       "      <td>9.5</td>\n",
       "      <td>96</td>\n",
       "      <td>0</td>\n",
       "    </tr>\n",
       "    <tr>\n",
       "      <th>174978</th>\n",
       "      <td>1</td>\n",
       "      <td>89</td>\n",
       "      <td>39.0</td>\n",
       "      <td>2</td>\n",
       "      <td>6.2</td>\n",
       "      <td>63</td>\n",
       "      <td>0</td>\n",
       "    </tr>\n",
       "    <tr>\n",
       "      <th>174979</th>\n",
       "      <td>7</td>\n",
       "      <td>43</td>\n",
       "      <td>36.5</td>\n",
       "      <td>1</td>\n",
       "      <td>10.0</td>\n",
       "      <td>62</td>\n",
       "      <td>1</td>\n",
       "    </tr>\n",
       "    <tr>\n",
       "      <th>174980</th>\n",
       "      <td>6</td>\n",
       "      <td>48</td>\n",
       "      <td>18.3</td>\n",
       "      <td>0</td>\n",
       "      <td>4.7</td>\n",
       "      <td>53</td>\n",
       "      <td>1</td>\n",
       "    </tr>\n",
       "    <tr>\n",
       "      <th>174981</th>\n",
       "      <td>0</td>\n",
       "      <td>27</td>\n",
       "      <td>22.6</td>\n",
       "      <td>2</td>\n",
       "      <td>5.1</td>\n",
       "      <td>69</td>\n",
       "      <td>0</td>\n",
       "    </tr>\n",
       "  </tbody>\n",
       "</table>\n",
       "<p>174982 rows × 7 columns</p>\n",
       "</div>"
      ],
      "text/plain": [
       "        Country  Age   BMI  Physical_Activity_Level  Sleep_Duration  \\\n",
       "0            18   58  29.5                        1             6.1   \n",
       "1            16   34  36.2                        0             9.8   \n",
       "2             8   73  18.2                        0             5.2   \n",
       "3             3   60  20.3                        2             7.5   \n",
       "4             5   73  21.8                        2             5.0   \n",
       "...         ...  ...   ...                      ...             ...   \n",
       "174977        7   51  39.4                        1             9.5   \n",
       "174978        1   89  39.0                        2             6.2   \n",
       "174979        7   43  36.5                        1            10.0   \n",
       "174980        6   48  18.3                        0             4.7   \n",
       "174981        0   27  22.6                        2             5.1   \n",
       "\n",
       "        Heart_Rate  Gender  \n",
       "0               80       0  \n",
       "1               56       1  \n",
       "2               75       1  \n",
       "3               71       0  \n",
       "4               52       0  \n",
       "...            ...     ...  \n",
       "174977          96       0  \n",
       "174978          63       0  \n",
       "174979          62       1  \n",
       "174980          53       1  \n",
       "174981          69       0  \n",
       "\n",
       "[174982 rows x 7 columns]"
      ]
     },
     "execution_count": 193,
     "metadata": {},
     "output_type": "execute_result"
    }
   ],
   "source": [
    "X"
   ]
  },
  {
   "cell_type": "code",
   "execution_count": 194,
   "id": "4f911692",
   "metadata": {},
   "outputs": [
    {
     "data": {
      "application/vnd.microsoft.datawrangler.viewer.v0+json": {
       "columns": [
        {
         "name": "index",
         "rawType": "int64",
         "type": "integer"
        },
        {
         "name": "Hypertension",
         "rawType": "int64",
         "type": "integer"
        }
       ],
       "ref": "cb0c3272-d9cb-4069-82cb-013d99221f62",
       "rows": [
        [
         "0",
         "0"
        ],
        [
         "1",
         "0"
        ],
        [
         "2",
         "1"
        ],
        [
         "3",
         "0"
        ],
        [
         "4",
         "0"
        ],
        [
         "5",
         "0"
        ],
        [
         "6",
         "1"
        ],
        [
         "7",
         "0"
        ],
        [
         "8",
         "1"
        ],
        [
         "9",
         "0"
        ],
        [
         "10",
         "0"
        ],
        [
         "11",
         "1"
        ],
        [
         "12",
         "0"
        ],
        [
         "13",
         "0"
        ],
        [
         "14",
         "0"
        ],
        [
         "15",
         "0"
        ],
        [
         "16",
         "0"
        ],
        [
         "17",
         "0"
        ],
        [
         "18",
         "0"
        ],
        [
         "19",
         "1"
        ],
        [
         "20",
         "1"
        ],
        [
         "21",
         "1"
        ],
        [
         "22",
         "1"
        ],
        [
         "23",
         "0"
        ],
        [
         "24",
         "1"
        ],
        [
         "25",
         "0"
        ],
        [
         "26",
         "0"
        ],
        [
         "27",
         "1"
        ],
        [
         "28",
         "0"
        ],
        [
         "29",
         "0"
        ],
        [
         "30",
         "1"
        ],
        [
         "31",
         "1"
        ],
        [
         "32",
         "0"
        ],
        [
         "33",
         "0"
        ],
        [
         "34",
         "1"
        ],
        [
         "35",
         "1"
        ],
        [
         "36",
         "0"
        ],
        [
         "37",
         "0"
        ],
        [
         "38",
         "0"
        ],
        [
         "39",
         "0"
        ],
        [
         "40",
         "0"
        ],
        [
         "41",
         "1"
        ],
        [
         "42",
         "0"
        ],
        [
         "43",
         "0"
        ],
        [
         "44",
         "0"
        ],
        [
         "45",
         "0"
        ],
        [
         "46",
         "0"
        ],
        [
         "47",
         "1"
        ],
        [
         "48",
         "0"
        ],
        [
         "49",
         "0"
        ]
       ],
       "shape": {
        "columns": 1,
        "rows": 174982
       }
      },
      "text/plain": [
       "0         0\n",
       "1         0\n",
       "2         1\n",
       "3         0\n",
       "4         0\n",
       "         ..\n",
       "174977    1\n",
       "174978    0\n",
       "174979    0\n",
       "174980    0\n",
       "174981    0\n",
       "Name: Hypertension, Length: 174982, dtype: int64"
      ]
     },
     "execution_count": 194,
     "metadata": {},
     "output_type": "execute_result"
    }
   ],
   "source": [
    "y"
   ]
  },
  {
   "cell_type": "code",
   "execution_count": 195,
   "id": "3a1a84f9",
   "metadata": {
    "execution": {
     "iopub.execute_input": "2023-07-08T15:03:30.648180Z",
     "iopub.status.busy": "2023-07-08T15:03:30.647194Z",
     "iopub.status.idle": "2023-07-08T15:03:30.656504Z",
     "shell.execute_reply": "2023-07-08T15:03:30.655362Z"
    },
    "papermill": {
     "duration": 0.049029,
     "end_time": "2023-07-08T15:03:30.660060",
     "exception": false,
     "start_time": "2023-07-08T15:03:30.611031",
     "status": "completed"
    },
    "tags": []
   },
   "outputs": [],
   "source": [
    "X_train, X_test, y_train, y_test = train_test_split(X, y, test_size=0.2, random_state=2)"
   ]
  },
  {
   "cell_type": "markdown",
   "id": "9bc221f6",
   "metadata": {
    "papermill": {
     "duration": 0.028755,
     "end_time": "2023-07-08T15:03:30.716116",
     "exception": false,
     "start_time": "2023-07-08T15:03:30.687361",
     "status": "completed"
    },
    "tags": []
   },
   "source": [
    "# Create a pipeline"
   ]
  },
  {
   "cell_type": "code",
   "execution_count": 196,
   "id": "03d42cb9",
   "metadata": {},
   "outputs": [
    {
     "ename": "KeyboardInterrupt",
     "evalue": "",
     "output_type": "error",
     "traceback": [
      "\u001b[31m---------------------------------------------------------------------------\u001b[39m",
      "\u001b[31mKeyboardInterrupt\u001b[39m                         Traceback (most recent call last)",
      "\u001b[36mCell\u001b[39m\u001b[36m \u001b[39m\u001b[32mIn[196]\u001b[39m\u001b[32m, line 13\u001b[39m\n\u001b[32m      5\u001b[39m \u001b[38;5;28;01mfrom\u001b[39;00m\u001b[38;5;250m \u001b[39m\u001b[34;01msklearn\u001b[39;00m\u001b[34;01m.\u001b[39;00m\u001b[34;01mensemble\u001b[39;00m\u001b[38;5;250m \u001b[39m\u001b[38;5;28;01mimport\u001b[39;00m GradientBoostingRegressor\n\u001b[32m      8\u001b[39m logreg_pipeline = Pipeline([\n\u001b[32m      9\u001b[39m     \u001b[38;5;66;03m# ('scaler', StandardScaler()),\u001b[39;00m\n\u001b[32m     10\u001b[39m     (\u001b[33m'\u001b[39m\u001b[33mclf\u001b[39m\u001b[33m'\u001b[39m, RandomForestClassifier())\n\u001b[32m     11\u001b[39m ])\n\u001b[32m---> \u001b[39m\u001b[32m13\u001b[39m \u001b[43mlogreg_pipeline\u001b[49m\u001b[43m.\u001b[49m\u001b[43mfit\u001b[49m\u001b[43m(\u001b[49m\u001b[43mX_train\u001b[49m\u001b[43m,\u001b[49m\u001b[43m \u001b[49m\u001b[43my_train\u001b[49m\u001b[43m)\u001b[49m\n\u001b[32m     14\u001b[39m y_pred_logreg = logreg_pipeline.predict(X_test)\n",
      "\u001b[36mFile \u001b[39m\u001b[32m~/Documents/hse_coursework_ml/venv/lib/python3.12/site-packages/sklearn/base.py:1363\u001b[39m, in \u001b[36m_fit_context.<locals>.decorator.<locals>.wrapper\u001b[39m\u001b[34m(estimator, *args, **kwargs)\u001b[39m\n\u001b[32m   1356\u001b[39m     estimator._validate_params()\n\u001b[32m   1358\u001b[39m \u001b[38;5;28;01mwith\u001b[39;00m config_context(\n\u001b[32m   1359\u001b[39m     skip_parameter_validation=(\n\u001b[32m   1360\u001b[39m         prefer_skip_nested_validation \u001b[38;5;129;01mor\u001b[39;00m global_skip_validation\n\u001b[32m   1361\u001b[39m     )\n\u001b[32m   1362\u001b[39m ):\n\u001b[32m-> \u001b[39m\u001b[32m1363\u001b[39m     \u001b[38;5;28;01mreturn\u001b[39;00m \u001b[43mfit_method\u001b[49m\u001b[43m(\u001b[49m\u001b[43mestimator\u001b[49m\u001b[43m,\u001b[49m\u001b[43m \u001b[49m\u001b[43m*\u001b[49m\u001b[43margs\u001b[49m\u001b[43m,\u001b[49m\u001b[43m \u001b[49m\u001b[43m*\u001b[49m\u001b[43m*\u001b[49m\u001b[43mkwargs\u001b[49m\u001b[43m)\u001b[49m\n",
      "\u001b[36mFile \u001b[39m\u001b[32m~/Documents/hse_coursework_ml/venv/lib/python3.12/site-packages/sklearn/pipeline.py:661\u001b[39m, in \u001b[36mPipeline.fit\u001b[39m\u001b[34m(self, X, y, **params)\u001b[39m\n\u001b[32m    655\u001b[39m     \u001b[38;5;28;01mif\u001b[39;00m \u001b[38;5;28mself\u001b[39m._final_estimator != \u001b[33m\"\u001b[39m\u001b[33mpassthrough\u001b[39m\u001b[33m\"\u001b[39m:\n\u001b[32m    656\u001b[39m         last_step_params = \u001b[38;5;28mself\u001b[39m._get_metadata_for_step(\n\u001b[32m    657\u001b[39m             step_idx=\u001b[38;5;28mlen\u001b[39m(\u001b[38;5;28mself\u001b[39m) - \u001b[32m1\u001b[39m,\n\u001b[32m    658\u001b[39m             step_params=routed_params[\u001b[38;5;28mself\u001b[39m.steps[-\u001b[32m1\u001b[39m][\u001b[32m0\u001b[39m]],\n\u001b[32m    659\u001b[39m             all_params=params,\n\u001b[32m    660\u001b[39m         )\n\u001b[32m--> \u001b[39m\u001b[32m661\u001b[39m         \u001b[38;5;28;43mself\u001b[39;49m\u001b[43m.\u001b[49m\u001b[43m_final_estimator\u001b[49m\u001b[43m.\u001b[49m\u001b[43mfit\u001b[49m\u001b[43m(\u001b[49m\u001b[43mXt\u001b[49m\u001b[43m,\u001b[49m\u001b[43m \u001b[49m\u001b[43my\u001b[49m\u001b[43m,\u001b[49m\u001b[43m \u001b[49m\u001b[43m*\u001b[49m\u001b[43m*\u001b[49m\u001b[43mlast_step_params\u001b[49m\u001b[43m[\u001b[49m\u001b[33;43m\"\u001b[39;49m\u001b[33;43mfit\u001b[39;49m\u001b[33;43m\"\u001b[39;49m\u001b[43m]\u001b[49m\u001b[43m)\u001b[49m\n\u001b[32m    663\u001b[39m \u001b[38;5;28;01mreturn\u001b[39;00m \u001b[38;5;28mself\u001b[39m\n",
      "\u001b[36mFile \u001b[39m\u001b[32m~/Documents/hse_coursework_ml/venv/lib/python3.12/site-packages/sklearn/base.py:1363\u001b[39m, in \u001b[36m_fit_context.<locals>.decorator.<locals>.wrapper\u001b[39m\u001b[34m(estimator, *args, **kwargs)\u001b[39m\n\u001b[32m   1356\u001b[39m     estimator._validate_params()\n\u001b[32m   1358\u001b[39m \u001b[38;5;28;01mwith\u001b[39;00m config_context(\n\u001b[32m   1359\u001b[39m     skip_parameter_validation=(\n\u001b[32m   1360\u001b[39m         prefer_skip_nested_validation \u001b[38;5;129;01mor\u001b[39;00m global_skip_validation\n\u001b[32m   1361\u001b[39m     )\n\u001b[32m   1362\u001b[39m ):\n\u001b[32m-> \u001b[39m\u001b[32m1363\u001b[39m     \u001b[38;5;28;01mreturn\u001b[39;00m \u001b[43mfit_method\u001b[49m\u001b[43m(\u001b[49m\u001b[43mestimator\u001b[49m\u001b[43m,\u001b[49m\u001b[43m \u001b[49m\u001b[43m*\u001b[49m\u001b[43margs\u001b[49m\u001b[43m,\u001b[49m\u001b[43m \u001b[49m\u001b[43m*\u001b[49m\u001b[43m*\u001b[49m\u001b[43mkwargs\u001b[49m\u001b[43m)\u001b[49m\n",
      "\u001b[36mFile \u001b[39m\u001b[32m~/Documents/hse_coursework_ml/venv/lib/python3.12/site-packages/sklearn/ensemble/_forest.py:486\u001b[39m, in \u001b[36mBaseForest.fit\u001b[39m\u001b[34m(self, X, y, sample_weight)\u001b[39m\n\u001b[32m    475\u001b[39m trees = [\n\u001b[32m    476\u001b[39m     \u001b[38;5;28mself\u001b[39m._make_estimator(append=\u001b[38;5;28;01mFalse\u001b[39;00m, random_state=random_state)\n\u001b[32m    477\u001b[39m     \u001b[38;5;28;01mfor\u001b[39;00m i \u001b[38;5;129;01min\u001b[39;00m \u001b[38;5;28mrange\u001b[39m(n_more_estimators)\n\u001b[32m    478\u001b[39m ]\n\u001b[32m    480\u001b[39m \u001b[38;5;66;03m# Parallel loop: we prefer the threading backend as the Cython code\u001b[39;00m\n\u001b[32m    481\u001b[39m \u001b[38;5;66;03m# for fitting the trees is internally releasing the Python GIL\u001b[39;00m\n\u001b[32m    482\u001b[39m \u001b[38;5;66;03m# making threading more efficient than multiprocessing in\u001b[39;00m\n\u001b[32m    483\u001b[39m \u001b[38;5;66;03m# that case. However, for joblib 0.12+ we respect any\u001b[39;00m\n\u001b[32m    484\u001b[39m \u001b[38;5;66;03m# parallel_backend contexts set at a higher level,\u001b[39;00m\n\u001b[32m    485\u001b[39m \u001b[38;5;66;03m# since correctness does not rely on using threads.\u001b[39;00m\n\u001b[32m--> \u001b[39m\u001b[32m486\u001b[39m trees = \u001b[43mParallel\u001b[49m\u001b[43m(\u001b[49m\n\u001b[32m    487\u001b[39m \u001b[43m    \u001b[49m\u001b[43mn_jobs\u001b[49m\u001b[43m=\u001b[49m\u001b[38;5;28;43mself\u001b[39;49m\u001b[43m.\u001b[49m\u001b[43mn_jobs\u001b[49m\u001b[43m,\u001b[49m\n\u001b[32m    488\u001b[39m \u001b[43m    \u001b[49m\u001b[43mverbose\u001b[49m\u001b[43m=\u001b[49m\u001b[38;5;28;43mself\u001b[39;49m\u001b[43m.\u001b[49m\u001b[43mverbose\u001b[49m\u001b[43m,\u001b[49m\n\u001b[32m    489\u001b[39m \u001b[43m    \u001b[49m\u001b[43mprefer\u001b[49m\u001b[43m=\u001b[49m\u001b[33;43m\"\u001b[39;49m\u001b[33;43mthreads\u001b[39;49m\u001b[33;43m\"\u001b[39;49m\u001b[43m,\u001b[49m\n\u001b[32m    490\u001b[39m \u001b[43m\u001b[49m\u001b[43m)\u001b[49m\u001b[43m(\u001b[49m\n\u001b[32m    491\u001b[39m \u001b[43m    \u001b[49m\u001b[43mdelayed\u001b[49m\u001b[43m(\u001b[49m\u001b[43m_parallel_build_trees\u001b[49m\u001b[43m)\u001b[49m\u001b[43m(\u001b[49m\n\u001b[32m    492\u001b[39m \u001b[43m        \u001b[49m\u001b[43mt\u001b[49m\u001b[43m,\u001b[49m\n\u001b[32m    493\u001b[39m \u001b[43m        \u001b[49m\u001b[38;5;28;43mself\u001b[39;49m\u001b[43m.\u001b[49m\u001b[43mbootstrap\u001b[49m\u001b[43m,\u001b[49m\n\u001b[32m    494\u001b[39m \u001b[43m        \u001b[49m\u001b[43mX\u001b[49m\u001b[43m,\u001b[49m\n\u001b[32m    495\u001b[39m \u001b[43m        \u001b[49m\u001b[43my\u001b[49m\u001b[43m,\u001b[49m\n\u001b[32m    496\u001b[39m \u001b[43m        \u001b[49m\u001b[43msample_weight\u001b[49m\u001b[43m,\u001b[49m\n\u001b[32m    497\u001b[39m \u001b[43m        \u001b[49m\u001b[43mi\u001b[49m\u001b[43m,\u001b[49m\n\u001b[32m    498\u001b[39m \u001b[43m        \u001b[49m\u001b[38;5;28;43mlen\u001b[39;49m\u001b[43m(\u001b[49m\u001b[43mtrees\u001b[49m\u001b[43m)\u001b[49m\u001b[43m,\u001b[49m\n\u001b[32m    499\u001b[39m \u001b[43m        \u001b[49m\u001b[43mverbose\u001b[49m\u001b[43m=\u001b[49m\u001b[38;5;28;43mself\u001b[39;49m\u001b[43m.\u001b[49m\u001b[43mverbose\u001b[49m\u001b[43m,\u001b[49m\n\u001b[32m    500\u001b[39m \u001b[43m        \u001b[49m\u001b[43mclass_weight\u001b[49m\u001b[43m=\u001b[49m\u001b[38;5;28;43mself\u001b[39;49m\u001b[43m.\u001b[49m\u001b[43mclass_weight\u001b[49m\u001b[43m,\u001b[49m\n\u001b[32m    501\u001b[39m \u001b[43m        \u001b[49m\u001b[43mn_samples_bootstrap\u001b[49m\u001b[43m=\u001b[49m\u001b[43mn_samples_bootstrap\u001b[49m\u001b[43m,\u001b[49m\n\u001b[32m    502\u001b[39m \u001b[43m        \u001b[49m\u001b[43mmissing_values_in_feature_mask\u001b[49m\u001b[43m=\u001b[49m\u001b[43mmissing_values_in_feature_mask\u001b[49m\u001b[43m,\u001b[49m\n\u001b[32m    503\u001b[39m \u001b[43m    \u001b[49m\u001b[43m)\u001b[49m\n\u001b[32m    504\u001b[39m \u001b[43m    \u001b[49m\u001b[38;5;28;43;01mfor\u001b[39;49;00m\u001b[43m \u001b[49m\u001b[43mi\u001b[49m\u001b[43m,\u001b[49m\u001b[43m \u001b[49m\u001b[43mt\u001b[49m\u001b[43m \u001b[49m\u001b[38;5;129;43;01min\u001b[39;49;00m\u001b[43m \u001b[49m\u001b[38;5;28;43menumerate\u001b[39;49m\u001b[43m(\u001b[49m\u001b[43mtrees\u001b[49m\u001b[43m)\u001b[49m\n\u001b[32m    505\u001b[39m \u001b[43m\u001b[49m\u001b[43m)\u001b[49m\n\u001b[32m    507\u001b[39m \u001b[38;5;66;03m# Collect newly grown trees\u001b[39;00m\n\u001b[32m    508\u001b[39m \u001b[38;5;28mself\u001b[39m.estimators_.extend(trees)\n",
      "\u001b[36mFile \u001b[39m\u001b[32m~/Documents/hse_coursework_ml/venv/lib/python3.12/site-packages/sklearn/utils/parallel.py:82\u001b[39m, in \u001b[36mParallel.__call__\u001b[39m\u001b[34m(self, iterable)\u001b[39m\n\u001b[32m     73\u001b[39m warning_filters = warnings.filters\n\u001b[32m     74\u001b[39m iterable_with_config_and_warning_filters = (\n\u001b[32m     75\u001b[39m     (\n\u001b[32m     76\u001b[39m         _with_config_and_warning_filters(delayed_func, config, warning_filters),\n\u001b[32m   (...)\u001b[39m\u001b[32m     80\u001b[39m     \u001b[38;5;28;01mfor\u001b[39;00m delayed_func, args, kwargs \u001b[38;5;129;01min\u001b[39;00m iterable\n\u001b[32m     81\u001b[39m )\n\u001b[32m---> \u001b[39m\u001b[32m82\u001b[39m \u001b[38;5;28;01mreturn\u001b[39;00m \u001b[38;5;28;43msuper\u001b[39;49m\u001b[43m(\u001b[49m\u001b[43m)\u001b[49m\u001b[43m.\u001b[49m\u001b[34;43m__call__\u001b[39;49m\u001b[43m(\u001b[49m\u001b[43miterable_with_config_and_warning_filters\u001b[49m\u001b[43m)\u001b[49m\n",
      "\u001b[36mFile \u001b[39m\u001b[32m~/Documents/hse_coursework_ml/venv/lib/python3.12/site-packages/joblib/parallel.py:1986\u001b[39m, in \u001b[36mParallel.__call__\u001b[39m\u001b[34m(self, iterable)\u001b[39m\n\u001b[32m   1984\u001b[39m     output = \u001b[38;5;28mself\u001b[39m._get_sequential_output(iterable)\n\u001b[32m   1985\u001b[39m     \u001b[38;5;28mnext\u001b[39m(output)\n\u001b[32m-> \u001b[39m\u001b[32m1986\u001b[39m     \u001b[38;5;28;01mreturn\u001b[39;00m output \u001b[38;5;28;01mif\u001b[39;00m \u001b[38;5;28mself\u001b[39m.return_generator \u001b[38;5;28;01melse\u001b[39;00m \u001b[38;5;28;43mlist\u001b[39;49m\u001b[43m(\u001b[49m\u001b[43moutput\u001b[49m\u001b[43m)\u001b[49m\n\u001b[32m   1988\u001b[39m \u001b[38;5;66;03m# Let's create an ID that uniquely identifies the current call. If the\u001b[39;00m\n\u001b[32m   1989\u001b[39m \u001b[38;5;66;03m# call is interrupted early and that the same instance is immediately\u001b[39;00m\n\u001b[32m   1990\u001b[39m \u001b[38;5;66;03m# reused, this id will be used to prevent workers that were\u001b[39;00m\n\u001b[32m   1991\u001b[39m \u001b[38;5;66;03m# concurrently finalizing a task from the previous call to run the\u001b[39;00m\n\u001b[32m   1992\u001b[39m \u001b[38;5;66;03m# callback.\u001b[39;00m\n\u001b[32m   1993\u001b[39m \u001b[38;5;28;01mwith\u001b[39;00m \u001b[38;5;28mself\u001b[39m._lock:\n",
      "\u001b[36mFile \u001b[39m\u001b[32m~/Documents/hse_coursework_ml/venv/lib/python3.12/site-packages/joblib/parallel.py:1914\u001b[39m, in \u001b[36mParallel._get_sequential_output\u001b[39m\u001b[34m(self, iterable)\u001b[39m\n\u001b[32m   1912\u001b[39m \u001b[38;5;28mself\u001b[39m.n_dispatched_batches += \u001b[32m1\u001b[39m\n\u001b[32m   1913\u001b[39m \u001b[38;5;28mself\u001b[39m.n_dispatched_tasks += \u001b[32m1\u001b[39m\n\u001b[32m-> \u001b[39m\u001b[32m1914\u001b[39m res = \u001b[43mfunc\u001b[49m\u001b[43m(\u001b[49m\u001b[43m*\u001b[49m\u001b[43margs\u001b[49m\u001b[43m,\u001b[49m\u001b[43m \u001b[49m\u001b[43m*\u001b[49m\u001b[43m*\u001b[49m\u001b[43mkwargs\u001b[49m\u001b[43m)\u001b[49m\n\u001b[32m   1915\u001b[39m \u001b[38;5;28mself\u001b[39m.n_completed_tasks += \u001b[32m1\u001b[39m\n\u001b[32m   1916\u001b[39m \u001b[38;5;28mself\u001b[39m.print_progress()\n",
      "\u001b[36mFile \u001b[39m\u001b[32m~/Documents/hse_coursework_ml/venv/lib/python3.12/site-packages/sklearn/utils/parallel.py:147\u001b[39m, in \u001b[36m_FuncWrapper.__call__\u001b[39m\u001b[34m(self, *args, **kwargs)\u001b[39m\n\u001b[32m    145\u001b[39m \u001b[38;5;28;01mwith\u001b[39;00m config_context(**config), warnings.catch_warnings():\n\u001b[32m    146\u001b[39m     warnings.filters = warning_filters\n\u001b[32m--> \u001b[39m\u001b[32m147\u001b[39m     \u001b[38;5;28;01mreturn\u001b[39;00m \u001b[38;5;28;43mself\u001b[39;49m\u001b[43m.\u001b[49m\u001b[43mfunction\u001b[49m\u001b[43m(\u001b[49m\u001b[43m*\u001b[49m\u001b[43margs\u001b[49m\u001b[43m,\u001b[49m\u001b[43m \u001b[49m\u001b[43m*\u001b[49m\u001b[43m*\u001b[49m\u001b[43mkwargs\u001b[49m\u001b[43m)\u001b[49m\n",
      "\u001b[36mFile \u001b[39m\u001b[32m~/Documents/hse_coursework_ml/venv/lib/python3.12/site-packages/sklearn/ensemble/_forest.py:188\u001b[39m, in \u001b[36m_parallel_build_trees\u001b[39m\u001b[34m(tree, bootstrap, X, y, sample_weight, tree_idx, n_trees, verbose, class_weight, n_samples_bootstrap, missing_values_in_feature_mask)\u001b[39m\n\u001b[32m    185\u001b[39m     \u001b[38;5;28;01melif\u001b[39;00m class_weight == \u001b[33m\"\u001b[39m\u001b[33mbalanced_subsample\u001b[39m\u001b[33m\"\u001b[39m:\n\u001b[32m    186\u001b[39m         curr_sample_weight *= compute_sample_weight(\u001b[33m\"\u001b[39m\u001b[33mbalanced\u001b[39m\u001b[33m\"\u001b[39m, y, indices=indices)\n\u001b[32m--> \u001b[39m\u001b[32m188\u001b[39m     \u001b[43mtree\u001b[49m\u001b[43m.\u001b[49m\u001b[43m_fit\u001b[49m\u001b[43m(\u001b[49m\n\u001b[32m    189\u001b[39m \u001b[43m        \u001b[49m\u001b[43mX\u001b[49m\u001b[43m,\u001b[49m\n\u001b[32m    190\u001b[39m \u001b[43m        \u001b[49m\u001b[43my\u001b[49m\u001b[43m,\u001b[49m\n\u001b[32m    191\u001b[39m \u001b[43m        \u001b[49m\u001b[43msample_weight\u001b[49m\u001b[43m=\u001b[49m\u001b[43mcurr_sample_weight\u001b[49m\u001b[43m,\u001b[49m\n\u001b[32m    192\u001b[39m \u001b[43m        \u001b[49m\u001b[43mcheck_input\u001b[49m\u001b[43m=\u001b[49m\u001b[38;5;28;43;01mFalse\u001b[39;49;00m\u001b[43m,\u001b[49m\n\u001b[32m    193\u001b[39m \u001b[43m        \u001b[49m\u001b[43mmissing_values_in_feature_mask\u001b[49m\u001b[43m=\u001b[49m\u001b[43mmissing_values_in_feature_mask\u001b[49m\u001b[43m,\u001b[49m\n\u001b[32m    194\u001b[39m \u001b[43m    \u001b[49m\u001b[43m)\u001b[49m\n\u001b[32m    195\u001b[39m \u001b[38;5;28;01melse\u001b[39;00m:\n\u001b[32m    196\u001b[39m     tree._fit(\n\u001b[32m    197\u001b[39m         X,\n\u001b[32m    198\u001b[39m         y,\n\u001b[32m   (...)\u001b[39m\u001b[32m    201\u001b[39m         missing_values_in_feature_mask=missing_values_in_feature_mask,\n\u001b[32m    202\u001b[39m     )\n",
      "\u001b[36mFile \u001b[39m\u001b[32m~/Documents/hse_coursework_ml/venv/lib/python3.12/site-packages/sklearn/tree/_classes.py:472\u001b[39m, in \u001b[36mBaseDecisionTree._fit\u001b[39m\u001b[34m(self, X, y, sample_weight, check_input, missing_values_in_feature_mask)\u001b[39m\n\u001b[32m    461\u001b[39m \u001b[38;5;28;01melse\u001b[39;00m:\n\u001b[32m    462\u001b[39m     builder = BestFirstTreeBuilder(\n\u001b[32m    463\u001b[39m         splitter,\n\u001b[32m    464\u001b[39m         min_samples_split,\n\u001b[32m   (...)\u001b[39m\u001b[32m    469\u001b[39m         \u001b[38;5;28mself\u001b[39m.min_impurity_decrease,\n\u001b[32m    470\u001b[39m     )\n\u001b[32m--> \u001b[39m\u001b[32m472\u001b[39m \u001b[43mbuilder\u001b[49m\u001b[43m.\u001b[49m\u001b[43mbuild\u001b[49m\u001b[43m(\u001b[49m\u001b[38;5;28;43mself\u001b[39;49m\u001b[43m.\u001b[49m\u001b[43mtree_\u001b[49m\u001b[43m,\u001b[49m\u001b[43m \u001b[49m\u001b[43mX\u001b[49m\u001b[43m,\u001b[49m\u001b[43m \u001b[49m\u001b[43my\u001b[49m\u001b[43m,\u001b[49m\u001b[43m \u001b[49m\u001b[43msample_weight\u001b[49m\u001b[43m,\u001b[49m\u001b[43m \u001b[49m\u001b[43mmissing_values_in_feature_mask\u001b[49m\u001b[43m)\u001b[49m\n\u001b[32m    474\u001b[39m \u001b[38;5;28;01mif\u001b[39;00m \u001b[38;5;28mself\u001b[39m.n_outputs_ == \u001b[32m1\u001b[39m \u001b[38;5;129;01mand\u001b[39;00m is_classifier(\u001b[38;5;28mself\u001b[39m):\n\u001b[32m    475\u001b[39m     \u001b[38;5;28mself\u001b[39m.n_classes_ = \u001b[38;5;28mself\u001b[39m.n_classes_[\u001b[32m0\u001b[39m]\n",
      "\u001b[31mKeyboardInterrupt\u001b[39m: "
     ]
    }
   ],
   "source": [
    "# Модель логистической регрессии с масштабированием признаков\n",
    "\n",
    "from sklearn.pipeline import Pipeline\n",
    "from sklearn.ensemble import RandomForestClassifier\n",
    "from sklearn.ensemble import GradientBoostingRegressor\n",
    "\n",
    "\n",
    "logreg_pipeline = Pipeline([\n",
    "    # ('scaler', StandardScaler()),\n",
    "    ('clf', RandomForestClassifier())\n",
    "])\n",
    "\n",
    "logreg_pipeline.fit(X_train, y_train)\n",
    "y_pred_logreg = logreg_pipeline.predict(X_test)"
   ]
  },
  {
   "cell_type": "code",
   "execution_count": null,
   "id": "2bf6efde",
   "metadata": {},
   "outputs": [
    {
     "data": {
      "image/png": "[encoded data removed]",
      "text/plain": [
       "<Figure size 800x400 with 1 Axes>"
      ]
     },
     "metadata": {},
     "output_type": "display_data"
    },
    {
     "data": {
      "image/png": "[encoded data removed]",
      "text/plain": [
       "<Figure size 640x480 with 2 Axes>"
      ]
     },
     "metadata": {},
     "output_type": "display_data"
    },
    {
     "name": "stdout",
     "output_type": "stream",
     "text": [
      "Accuracy : 0.715\n",
      "Precision: 0.595\n",
      "Recall   : 0.715\n",
      "F1-score : 0.610\n",
      "\n",
      "Classification Report:\n",
      "              precision    recall  f1-score   support\n",
      "\n",
      "           0       0.72      0.98      0.83     25284\n",
      "           1       0.26      0.02      0.03      9713\n",
      "\n",
      "    accuracy                           0.71     34997\n",
      "   macro avg       0.49      0.50      0.43     34997\n",
      "weighted avg       0.59      0.71      0.61     34997\n",
      "\n"
     ]
    }
   ],
   "source": [
    "from sklearn.metrics import classification_report, confusion_matrix, ConfusionMatrixDisplay\n",
    "\n",
    "# Визуализация весов параметров логистической регрессии\n",
    "import matplotlib.pyplot as plt\n",
    "from sklearn.metrics import mean_squared_error, r2_score\n",
    "from sklearn.metrics import (\n",
    "    accuracy_score,\n",
    "    precision_score,\n",
    "    recall_score,\n",
    "    f1_score,\n",
    "    roc_auc_score,\n",
    "    roc_curve,\n",
    "    classification_report,\n",
    "    confusion_matrix,\n",
    "    ConfusionMatrixDisplay,\n",
    ")\n",
    "\n",
    "# Получаем важности признаков для GradientBoostingClassifier\n",
    "importances = logreg_pipeline.named_steps['clf'].feature_importances_\n",
    "feature_names = X.columns\n",
    "\n",
    "\n",
    "sorted_idx = np.argsort(importances)\n",
    "plt.figure(figsize=(8, 4))\n",
    "plt.bar(np.array(feature_names)[sorted_idx], importances[sorted_idx])\n",
    "plt.title('Feature Importances (Gradient Boosting)')\n",
    "plt.ylabel('Importance')\n",
    "plt.xticks(rotation=45)\n",
    "plt.tight_layout()\n",
    "plt.show()\n",
    "\n",
    "\n",
    "# Матрица ошибок\n",
    "cm = confusion_matrix(y_test, y_pred_logreg)\n",
    "disp = ConfusionMatrixDisplay(confusion_matrix=cm)\n",
    "disp.plot(cmap='Blues')\n",
    "plt.title('Confusion Matrix (Logistic Regression)')\n",
    "plt.show()\n",
    "\n",
    "\n",
    "acc   = accuracy_score(y_test, y_pred_logreg)\n",
    "prec  = precision_score(y_test, y_pred_logreg, average='weighted', zero_division=0)\n",
    "rec   = recall_score(y_test, y_pred_logreg, average='weighted', zero_division=0)\n",
    "f1    = f1_score(y_test, y_pred_logreg, average='weighted', zero_division=0)\n",
    "\n",
    "print(f\"Accuracy : {acc:.3f}\")\n",
    "print(f\"Precision: {prec:.3f}\")\n",
    "print(f\"Recall   : {rec:.3f}\")\n",
    "print(f\"F1-score : {f1:.3f}\\n\")\n",
    "\n",
    "# 3. Подробный отчёт по каждому классу\n",
    "print(\"Classification Report:\")\n",
    "print(classification_report(y_test, y_pred_logreg))"
   ]
  },
  {
   "cell_type": "code",
   "execution_count": null,
   "id": "28780bf7",
   "metadata": {},
   "outputs": [
    {
     "name": "stdout",
     "output_type": "stream",
     "text": [
      "Country: 12\n",
      "Age: 23\n",
      "BMI: 18.97\n",
      "Physical Activity Level: 0\n",
      "Sleep Duration (hours): 8.64\n",
      "Heart Rate (bpm): 96\n",
      "Gender (0=Female, 1=Male): 1\n",
      "Предсказание для случайных данных: High\n",
      "High: 0.800\n",
      "Low: 0.200\n"
     ]
    }
   ],
   "source": [
    "# Генерация случайного тестового сэмпла по каждому признаку отдельно\n",
    "country = np.random.randint(X['Country'].min(), X['Country'].max() + 1)\n",
    "print(f\"Country: {country}\")\n",
    "\n",
    "age = np.random.randint(X['Age'].min(), X['Age'].max() + 1)\n",
    "print(f\"Age: {age}\")\n",
    "\n",
    "bmi = np.random.uniform(X['BMI'].min(), X['BMI'].max())\n",
    "print(f\"BMI: {bmi:.2f}\")\n",
    "\n",
    "physical_activity = np.random.randint(X['Physical_Activity_Level'].min(), X['Physical_Activity_Level'].max() + 1)\n",
    "print(f\"Physical Activity Level: {physical_activity}\")\n",
    "\n",
    "sleep_duration = np.random.uniform(X['Sleep_Duration'].min(), X['Sleep_Duration'].max())\n",
    "print(f\"Sleep Duration (hours): {sleep_duration:.2f}\")\n",
    "\n",
    "heart_rate = np.random.randint(X['Heart_Rate'].min(), X['Heart_Rate'].max() + 1)\n",
    "print(f\"Heart Rate (bpm): {heart_rate}\")\n",
    "\n",
    "gender = np.random.randint(X['Gender'].min(), X['Gender'].max() + 1)\n",
    "print(f\"Gender (0=Female, 1=Male): {gender}\")\n",
    "\n",
    "# Собираем все параметры в массив для предсказания\n",
    "sample = np.array([[country, age, bmi, physical_activity, sleep_duration, heart_rate, gender]])\n",
    "\n",
    "# Предсказание\n",
    "random_pred = logreg_pipeline.named_steps['clf'].predict(sample)\n",
    "random_pred_text = hypertension_encoder.inverse_transform(random_pred)\n",
    "print(\"Предсказание для случайных данных:\", random_pred_text[0])\n",
    "\n",
    "probas = logreg_pipeline.named_steps['clf'].predict_proba(sample)\n",
    "for label, prob in zip(hypertension_encoder.classes_, probas[0]):\n",
    "    print(f\"{label}: {prob:.3f}\")\n"
   ]
  },
  {
   "cell_type": "code",
   "execution_count": null,
   "id": "476e219e",
   "metadata": {},
   "outputs": [],
   "source": [
    "import pickle\n",
    "\n",
    "# Сохраняем обученную модель и все энкодеры в один файл\n",
    "with open('hypertension.pkl', 'wb') as f:\n",
    "    pickle.dump({\n",
    "        'model': logreg_pipeline,\n",
    "        'hypertension_encoder': hypertension_encoder,\n",
    "        'physical_activity_level_encoder': physical_activity_level_encoder,\n",
    "        'gender_encoder': gender_encoder,\n",
    "        'country_encoder': country_encoder\n",
    "    }, f)\n"
   ]
  },
  {
   "cell_type": "code",
   "execution_count": null,
   "id": "55e6feac",
   "metadata": {},
   "outputs": [
    {
     "name": "stdout",
     "output_type": "stream",
     "text": [
      "Случайные входные данные для прогноза:\n",
      "Country: 13\n",
      "Age: 19\n",
      "BMI: 19.47\n",
      "Physical Activity Level: 0\n",
      "Sleep Duration: 6.25\n",
      "Heart Rate: 62\n",
      "Gender: 0\n",
      "\n",
      "Результат работы функции predict_sleep_disorder:\n",
      "{'High': 0.84, 'Low': 0.16}\n"
     ]
    }
   ],
   "source": [
    "import numpy as np\n",
    "import json\n",
    "import pickle\n",
    "\n",
    "# Генерация случайных данных для прогноза на основе диапазонов из X\n",
    "country = np.random.randint(X['Country'].min(), X['Country'].max() + 1)\n",
    "age = np.random.randint(X['Age'].min(), X['Age'].max() + 1)\n",
    "bmi = np.random.uniform(X['BMI'].min(), X['BMI'].max())\n",
    "physical_activity = np.random.randint(X['Physical_Activity_Level'].min(), X['Physical_Activity_Level'].max() + 1)\n",
    "sleep_duration = np.random.uniform(X['Sleep_Duration'].min(), X['Sleep_Duration'].max())\n",
    "heart_rate = np.random.randint(X['Heart_Rate'].min(), X['Heart_Rate'].max() + 1)\n",
    "gender = np.random.randint(X['Gender'].min(), X['Gender'].max() + 1)\n",
    "features = [country, age, bmi, physical_activity, sleep_duration, heart_rate, gender]\n",
    "\n",
    "print(\"Случайные входные данные для прогноза:\")\n",
    "print(f\"Country: {country}\")\n",
    "print(f\"Age: {age}\")\n",
    "print(f\"BMI: {bmi:.2f}\")\n",
    "print(f\"Physical Activity Level: {physical_activity}\")\n",
    "print(f\"Sleep Duration: {sleep_duration:.2f}\")\n",
    "print(f\"Heart Rate: {heart_rate}\")\n",
    "print(f\"Gender: {gender}\")\n",
    "# Предсказание по сгенерированным данным с помощью текущей обученной модели\n",
    "sample = np.array(features).reshape(1, -1)\n",
    "probas = logreg_pipeline.named_steps['clf'].predict_proba(sample)[0]\n",
    "class_labels = logreg_pipeline.named_steps['clf'].classes_\n",
    "diagnosis_names = hypertension_encoder.inverse_transform(class_labels)\n",
    "result = {diagnosis: float(prob) for diagnosis, prob in zip(diagnosis_names, probas)}\n",
    "\n",
    "print(\"\\nРезультат работы функции predict_sleep_disorder:\")\n",
    "print(result)\n",
    "def predict_hypertension(country, age, bmi, physical_activity_level, sleep_duration, heart_rate, gender):\n",
    "    \"\"\"\n",
    "    Предсказание наличия гипертонии по неэнкодированным входным данным.\n",
    "    Возвращает вероятности классов в формате JSON.\n",
    "    \"\"\"\n",
    "    # Загружаем модель и энкодеры из файла\n",
    "    with open('hypertension.pkl', 'rb') as f:\n",
    "        data = pickle.load(f)\n",
    "        model = data['model']\n",
    "        hypertension_encoder = data['hypertension_encoder']\n",
    "        physical_activity_level_encoder = data['physical_activity_level_encoder']\n",
    "        gender_encoder = data['gender_encoder']\n",
    "        country_encoder = data['country_encoder']\n",
    "\n",
    "    # Кодируем входные данные\n",
    "    country_enc = country_encoder.transform([country])[0]\n",
    "    physical_activity_enc = physical_activity_level_encoder.transform([physical_activity_level])[0]\n",
    "    gender_enc = gender_encoder.transform([gender])[0]\n",
    "\n",
    "    features = [country_enc, age, bmi, physical_activity_enc, sleep_duration, heart_rate, gender_enc]\n",
    "    sample = np.array(features).reshape(1, -1)\n",
    "\n",
    "    probas = model.named_steps['clf'].predict_proba(sample)[0]\n",
    "    class_labels = model.named_steps['clf'].classes_\n",
    "    diagnosis_names = hypertension_encoder.inverse_transform(class_labels)\n",
    "    result = {diagnosis: float(prob) for diagnosis, prob in zip(diagnosis_names, probas)}\n",
    "    return json.dumps(result, ensure_ascii=False)\n",
    "\n"
   ]
  },
  {
   "cell_type": "code",
   "execution_count": 206,
   "id": "1a97f71c",
   "metadata": {},
   "outputs": [
    {
     "name": "stdout",
     "output_type": "stream",
     "text": [
      "Country: Russia\n",
      "Age: 29\n",
      "BMI: 19.90\n",
      "Physical Activity Level: High\n",
      "Sleep Duration: 4.63\n",
      "Heart Rate: 72\n",
      "Gender: Female\n",
      "\n",
      "Результат работы predict_hypertension:\n",
      "{\"High\": 0.47, \"Low\": 0.53}\n"
     ]
    }
   ],
   "source": [
    "# Получаем уникальные значения для неэнкодированных признаков\n",
    "# Для Country, Physical_Activity_Level и Gender используем inverse_transform\n",
    "\n",
    "# Country\n",
    "all_countries = country_encoder.classes_\n",
    "country_sample = np.random.choice(all_countries)\n",
    "country_sample = 'Russia'\n",
    "print(f\"Country: {country_sample}\")\n",
    "\n",
    "# Age\n",
    "age_sample = np.random.randint(df['Age'].min(), df['Age'].max() + 1)\n",
    "print(f\"Age: {age_sample}\")\n",
    "\n",
    "# BMI\n",
    "bmi_sample = np.random.uniform(df['BMI'].min(), df['BMI'].max())\n",
    "print(f\"BMI: {bmi_sample:.2f}\")\n",
    "\n",
    "# Physical_Activity_Level\n",
    "all_activity_levels = physical_activity_level_encoder.classes_\n",
    "activity_sample = np.random.choice(all_activity_levels)\n",
    "print(f\"Physical Activity Level: {activity_sample}\")\n",
    "\n",
    "# Sleep_Duration\n",
    "sleep_sample = np.random.uniform(df['Sleep_Duration'].min(), df['Sleep_Duration'].max())\n",
    "print(f\"Sleep Duration: {sleep_sample:.2f}\")\n",
    "\n",
    "# Heart_Rate\n",
    "heart_rate_sample = np.random.randint(df['Heart_Rate'].min(), df['Heart_Rate'].max() + 1)\n",
    "print(f\"Heart Rate: {heart_rate_sample}\")\n",
    "\n",
    "# Gender\n",
    "gender_sample = np.random.choice(df['Gender'].map({0: 'Female', 1: 'Male'}))\n",
    "print(f\"Gender: {gender_sample}\")\n",
    "\n",
    "# Прогоняем через predict_hypertension\n",
    "result_json = predict_hypertension(\n",
    "    country_sample,\n",
    "    age_sample,\n",
    "    bmi_sample,\n",
    "    activity_sample,\n",
    "    sleep_sample,\n",
    "    heart_rate_sample,\n",
    "    gender_sample\n",
    ")\n",
    "print(\"\\nРезультат работы predict_hypertension:\")\n",
    "print(result_json)"
   ]
  }
 ],
 "metadata": {
  "kernelspec": {
   "display_name": "venv",
   "language": "python",
   "name": "python3"
  },
  "language_info": {
   "codemirror_mode": {
    "name": "ipython",
    "version": 3
   },
   "file_extension": ".py",
   "mimetype": "text/x-python",
   "name": "python",
   "nbconvert_exporter": "python",
   "pygments_lexer": "ipython3",
   "version": "3.12.3"
  },
  "papermill": {
   "default_parameters": {},
   "duration": 155.097753,
   "end_time": "2023-07-08T15:05:34.930055",
   "environment_variables": {},
   "exception": null,
   "input_path": "__notebook__.ipynb",
   "output_path": "__notebook__.ipynb",
   "parameters": {},
   "start_time": "2023-07-08T15:02:59.832302",
   "version": "2.4.0"
  }
 },
 "nbformat": 4,
 "nbformat_minor": 5
}
